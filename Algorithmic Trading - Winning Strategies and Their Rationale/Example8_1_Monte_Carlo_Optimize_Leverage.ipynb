{
 "cells": [
  {
   "cell_type": "code",
   "execution_count": 1,
   "id": "e4d9f089",
   "metadata": {},
   "outputs": [],
   "source": [
    "import numpy as np\n",
    "import pandas as pd\n",
    "#from scipy.stats import describe \n",
    "from scipy.stats import pearson3\n",
    "#import matplotlib.pyplot as plt\n",
    "#import statsmodels.formula.api as sm\n",
    "#import statsmodels.tsa.stattools as ts\n",
    "#import statsmodels.tsa.vector_ar.vecm as vm\n",
    "from scipy.optimize import minimize"
   ]
  },
  {
   "cell_type": "markdown",
   "id": "f926f8e7",
   "metadata": {},
   "source": [
    "### Optimization of Expected Growth Rate Using Simulated Returns"
   ]
  },
  {
   "cell_type": "markdown",
   "id": "a5585016",
   "metadata": {},
   "source": [
    "### Box 8.1\n",
    "\n",
    "We assume that the strategy daily returns are contained in the Nx1 array *ret*. We will use the first four moments of ret to generate a Pearson system distribution, from which any number of simulated returns *ret_sim* can be generated."
   ]
  },
  {
   "cell_type": "code",
   "execution_count": 2,
   "id": "7055254c",
   "metadata": {},
   "outputs": [
    {
     "data": {
      "text/html": [
       "<div>\n",
       "<style scoped>\n",
       "    .dataframe tbody tr th:only-of-type {\n",
       "        vertical-align: middle;\n",
       "    }\n",
       "\n",
       "    .dataframe tbody tr th {\n",
       "        vertical-align: top;\n",
       "    }\n",
       "\n",
       "    .dataframe thead th {\n",
       "        text-align: right;\n",
       "    }\n",
       "</style>\n",
       "<table border=\"1\" class=\"dataframe\">\n",
       "  <thead>\n",
       "    <tr style=\"text-align: right;\">\n",
       "      <th></th>\n",
       "      <th>Return</th>\n",
       "    </tr>\n",
       "  </thead>\n",
       "  <tbody>\n",
       "    <tr>\n",
       "      <th>0</th>\n",
       "      <td>0.000000</td>\n",
       "    </tr>\n",
       "    <tr>\n",
       "      <th>1</th>\n",
       "      <td>-0.006514</td>\n",
       "    </tr>\n",
       "    <tr>\n",
       "      <th>2</th>\n",
       "      <td>-0.005079</td>\n",
       "    </tr>\n",
       "    <tr>\n",
       "      <th>3</th>\n",
       "      <td>-0.003791</td>\n",
       "    </tr>\n",
       "    <tr>\n",
       "      <th>4</th>\n",
       "      <td>0.002169</td>\n",
       "    </tr>\n",
       "  </tbody>\n",
       "</table>\n",
       "</div>"
      ],
      "text/plain": [
       "     Return\n",
       "0  0.000000\n",
       "1 -0.006514\n",
       "2 -0.005079\n",
       "3 -0.003791\n",
       "4  0.002169"
      ]
     },
     "execution_count": 2,
     "metadata": {},
     "output_type": "execute_result"
    }
   ],
   "source": [
    "df=pd.read_csv('AUDCAD_unequal_ret.csv')\n",
    "df.head()"
   ]
  },
  {
   "cell_type": "code",
   "execution_count": 3,
   "id": "9b272daf",
   "metadata": {},
   "outputs": [
    {
     "name": "stdout",
     "output_type": "stream",
     "text": [
      "skew=0.122820 loc=0.000432 scale=0.004231\n",
      "mean=0.000432 var=0.000018 skew=0.122820 kurt=0.022627\n"
     ]
    }
   ],
   "source": [
    "skew_, loc_, scale_=pearson3.fit(df) \n",
    "print('skew=%f loc=%f scale=%f' % (skew_, loc_, scale_))\n",
    "mean,var,skew,kurt=pearson3.stats(skew_, loc_, scale_, moments='mvks')\n",
    "print('mean=%f var=%f skew=%f kurt=%f' % (mean, var, skew, kurt))"
   ]
  },
  {
   "cell_type": "code",
   "execution_count": 4,
   "id": "35dbb169",
   "metadata": {},
   "outputs": [
    {
     "data": {
      "text/plain": [
       "array([ 0.00807772,  0.00205133,  0.00854858, ...,  0.00290414,\n",
       "       -0.0005581 ,  0.00031745])"
      ]
     },
     "execution_count": 4,
     "metadata": {},
     "output_type": "execute_result"
    }
   ],
   "source": [
    "ret_sim=pearson3.rvs(skew_, loc_, scale_, size=100000, random_state=0)\n",
    "ret_sim"
   ]
  },
  {
   "cell_type": "markdown",
   "id": "a72a8247",
   "metadata": {},
   "source": [
    "### Box 8.2\n",
    "\n",
    "An inline function for calculating the compounded growth rate based on leverage $f$ and return per bar of $R$."
   ]
  },
  {
   "cell_type": "code",
   "execution_count": 5,
   "id": "54e93ea4",
   "metadata": {},
   "outputs": [
    {
     "data": {
      "text/plain": [
       "<Axes: xlabel='f', ylabel='g'>"
      ]
     },
     "execution_count": 5,
     "metadata": {},
     "output_type": "execute_result"
    },
    {
     "data": {
      "image/png": "[encoded data removed]",
      "text/plain": [
       "<Figure size 640x480 with 1 Axes>"
      ]
     },
     "metadata": {},
     "output_type": "display_data"
    }
   ],
   "source": [
    "def g(f, R):\n",
    "    return np.sum(np.log(1+f*R), axis=0)/R.shape[0]\n",
    "\n",
    "myf=range(1, 24)\n",
    "myg=np.full(24, np.NaN)\n",
    "\n",
    "for f in myf:\n",
    "    myg[f]=g(f, ret_sim)\n",
    "\n",
    "myg=myg[1:]\n",
    "myg=pd.DataFrame(myg)\n",
    "myg.plot(xlabel='f', ylabel='g')"
   ]
  },
  {
   "cell_type": "markdown",
   "id": "478b8c93",
   "metadata": {},
   "source": [
    "**FIGURE 8.2** Expected Growth Rate g as Function of f."
   ]
  },
  {
   "cell_type": "markdown",
   "id": "09fc24e1",
   "metadata": {},
   "source": [
    "### Box 8.3\n",
    "\n",
    "Finding the minimum of the negative of the growth rate based on leverage $f$ and the simulated returns *ret_sim* (same as finding the maximum of the positive growth rate)."
   ]
  },
  {
   "cell_type": "code",
   "execution_count": 6,
   "id": "5e38fea9",
   "metadata": {},
   "outputs": [
    {
     "name": "stdout",
     "output_type": "stream",
     "text": [
      "Optimal leverage=25.512625 optimal growth rate=0.005767\n"
     ]
    }
   ],
   "source": [
    "minusG = lambda f : -g(f, df)\n",
    "minusGsim = lambda f : -g(f, ret_sim)\n",
    "\n",
    "#optimal leverage based on simulated returns\n",
    "res = minimize(minusGsim, 0, method='Nelder-Mead')\n",
    "optimalF=res.x\n",
    "print('Optimal leverage=%f optimal growth rate=%f' % (optimalF, -res.fun))"
   ]
  },
  {
   "cell_type": "code",
   "execution_count": 7,
   "id": "120479af",
   "metadata": {},
   "outputs": [
    {
     "name": "stdout",
     "output_type": "stream",
     "text": [
      "minR=-0.018201\n"
     ]
    }
   ],
   "source": [
    "minR=np.min(ret_sim)\n",
    "print('minR=%f' % (minR))"
   ]
  },
  {
   "cell_type": "markdown",
   "id": "0eb70629",
   "metadata": {},
   "source": [
    "### Optimization of Historical Growth Rate"
   ]
  },
  {
   "cell_type": "markdown",
   "id": "354811b1",
   "metadata": {},
   "source": [
    "### Box 8.4\n",
    "\n",
    "Finding the minimum of the negative of the growth rate based on leverage $f$ and the historical returns *ret*."
   ]
  },
  {
   "cell_type": "code",
   "execution_count": 8,
   "id": "fd31aee7",
   "metadata": {},
   "outputs": [
    {
     "name": "stdout",
     "output_type": "stream",
     "text": [
      "Optimal leverage=23.721750 optimal growth rate=0.005198\n"
     ]
    }
   ],
   "source": [
    "res = minimize(minusG, 0, method='Nelder-Mead')\n",
    "optimalF=res.x\n",
    "print('Optimal leverage=%f optimal growth rate=%f' % (optimalF, -res.fun))"
   ]
  },
  {
   "cell_type": "code",
   "execution_count": 9,
   "id": "937dc4f8",
   "metadata": {},
   "outputs": [
    {
     "name": "stdout",
     "output_type": "stream",
     "text": [
      "minR=-0.022031\n"
     ]
    }
   ],
   "source": [
    "minR=np.min(df.values)\n",
    "print('minR=%f' % (minR))"
   ]
  },
  {
   "cell_type": "markdown",
   "id": "c8f10f78",
   "metadata": {},
   "source": [
    "### Maximum Drawdown"
   ]
  },
  {
   "cell_type": "markdown",
   "id": "472bf7b2",
   "metadata": {},
   "source": [
    "### Box 8.5\n",
    "\n",
    "Using my function [calculateMaxDD](https://github.com/usunyu/quant-for-fortune/blob/main/Algorithmic%20Trading%20-%20Winning%20Strategies%20and%20Their%20Rationale/calculateMaxDD.py) to compute maximum drawdowns with different leverages on the same simulated returns series *ret_sim*."
   ]
  },
  {
   "cell_type": "code",
   "execution_count": 10,
   "id": "8d408f8d",
   "metadata": {},
   "outputs": [],
   "source": [
    "from calculateMaxDD import calculateMaxDD"
   ]
  },
  {
   "cell_type": "code",
   "execution_count": 11,
   "id": "00408175",
   "metadata": {},
   "outputs": [
    {
     "name": "stdout",
     "output_type": "stream",
     "text": [
      "Max DD=-0.993758 with optimal leverage=23.721750\n"
     ]
    }
   ],
   "source": [
    "# max drawdown with optimal leverage\n",
    "maxDD, maxDDD, i=calculateMaxDD((np.cumproduct(1+optimalF*ret_sim)-1))\n",
    "print('Max DD=%f with optimal leverage=%f' % (maxDD, optimalF))"
   ]
  },
  {
   "cell_type": "code",
   "execution_count": 12,
   "id": "eb0e7fc7",
   "metadata": {},
   "outputs": [
    {
     "name": "stdout",
     "output_type": "stream",
     "text": [
      "Max DD=-0.879011 with half optimal leverage=11.860875\n"
     ]
    }
   ],
   "source": [
    "#max drawdown with half of optimal leverage\n",
    "maxDD, maxDDD, i=calculateMaxDD((np.cumproduct(1+optimalF/2*ret_sim)-1))\n",
    "print('Max DD=%f with half optimal leverage=%f' % (maxDD, optimalF/2))"
   ]
  },
  {
   "cell_type": "code",
   "execution_count": 13,
   "id": "9f05530a",
   "metadata": {},
   "outputs": [
    {
     "name": "stdout",
     "output_type": "stream",
     "text": [
      "Max DD=-0.405211 with half optimal leverage=3.388821\n"
     ]
    }
   ],
   "source": [
    "# max drawdown with 1/7 of optimal leverage\n",
    "maxDD, maxDDD, i=calculateMaxDD((np.cumproduct(1+optimalF/7*ret_sim)-1))\n",
    "print('Max DD=%f with half optimal leverage=%f' % (maxDD, optimalF/7))"
   ]
  },
  {
   "cell_type": "code",
   "execution_count": 14,
   "id": "169e6af9",
   "metadata": {},
   "outputs": [
    {
     "name": "stdout",
     "output_type": "stream",
     "text": [
      "Max DD=-0.595425 with historical returns=16.944107\n"
     ]
    }
   ],
   "source": [
    "#max drawdown with 1/1.4 of optimal leverage for historical returns\n",
    "maxDD, maxDDD, i=calculateMaxDD((np.cumproduct(1+optimalF/1.4*df.values)-1))\n",
    "print('Max DD=%f with historical returns=%f' % (maxDD, optimalF/1.4))"
   ]
  },
  {
   "cell_type": "code",
   "execution_count": null,
   "id": "43c8db37",
   "metadata": {},
   "outputs": [],
   "source": []
  }
 ],
 "metadata": {
  "kernelspec": {
   "display_name": "Python 3 (ipykernel)",
   "language": "python",
   "name": "python3"
  },
  "language_info": {
   "codemirror_mode": {
    "name": "ipython",
    "version": 3
   },
   "file_extension": ".py",
   "mimetype": "text/x-python",
   "name": "python",
   "nbconvert_exporter": "python",
   "pygments_lexer": "ipython3",
   "version": "3.11.4"
  }
 },
 "nbformat": 4,
 "nbformat_minor": 5
}
