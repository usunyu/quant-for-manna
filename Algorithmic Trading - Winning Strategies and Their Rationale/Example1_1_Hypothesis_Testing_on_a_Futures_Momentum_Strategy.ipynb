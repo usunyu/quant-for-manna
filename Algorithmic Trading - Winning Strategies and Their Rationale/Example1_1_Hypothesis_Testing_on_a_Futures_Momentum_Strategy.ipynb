{
 "cells": [
  {
   "cell_type": "markdown",
   "id": "ee46f1e7",
   "metadata": {},
   "source": [
    "### Example 1.1: Hypothesis Testing on a Futures Momentum Strategy"
   ]
  },
  {
   "cell_type": "code",
   "execution_count": 1,
   "id": "f6be0240",
   "metadata": {},
   "outputs": [],
   "source": [
    "import numpy as np\n",
    "import pandas as pd\n",
    "#from scipy.stats import describe\n",
    "from scipy.stats import pearson3\n",
    "from tqdm import tqdm"
   ]
  },
  {
   "cell_type": "code",
   "execution_count": 2,
   "id": "c735136f",
   "metadata": {},
   "outputs": [
    {
     "data": {
      "text/html": [
       "<div>\n",
       "<style scoped>\n",
       "    .dataframe tbody tr th:only-of-type {\n",
       "        vertical-align: middle;\n",
       "    }\n",
       "\n",
       "    .dataframe tbody tr th {\n",
       "        vertical-align: top;\n",
       "    }\n",
       "\n",
       "    .dataframe thead th {\n",
       "        text-align: right;\n",
       "    }\n",
       "</style>\n",
       "<table border=\"1\" class=\"dataframe\">\n",
       "  <thead>\n",
       "    <tr style=\"text-align: right;\">\n",
       "      <th></th>\n",
       "      <th>Close</th>\n",
       "    </tr>\n",
       "    <tr>\n",
       "      <th>Time</th>\n",
       "      <th></th>\n",
       "    </tr>\n",
       "  </thead>\n",
       "  <tbody>\n",
       "    <tr>\n",
       "      <th>2004-06-01</th>\n",
       "      <td>97.9219</td>\n",
       "    </tr>\n",
       "    <tr>\n",
       "      <th>2004-06-02</th>\n",
       "      <td>97.8438</td>\n",
       "    </tr>\n",
       "    <tr>\n",
       "      <th>2004-06-03</th>\n",
       "      <td>97.8672</td>\n",
       "    </tr>\n",
       "    <tr>\n",
       "      <th>2004-06-04</th>\n",
       "      <td>97.7422</td>\n",
       "    </tr>\n",
       "    <tr>\n",
       "      <th>2004-06-07</th>\n",
       "      <td>97.8203</td>\n",
       "    </tr>\n",
       "    <tr>\n",
       "      <th>...</th>\n",
       "      <td>...</td>\n",
       "    </tr>\n",
       "    <tr>\n",
       "      <th>2012-05-07</th>\n",
       "      <td>110.2734</td>\n",
       "    </tr>\n",
       "    <tr>\n",
       "      <th>2012-05-08</th>\n",
       "      <td>110.2813</td>\n",
       "    </tr>\n",
       "    <tr>\n",
       "      <th>2012-05-09</th>\n",
       "      <td>110.2813</td>\n",
       "    </tr>\n",
       "    <tr>\n",
       "      <th>2012-05-10</th>\n",
       "      <td>110.2734</td>\n",
       "    </tr>\n",
       "    <tr>\n",
       "      <th>2012-05-11</th>\n",
       "      <td>110.2734</td>\n",
       "    </tr>\n",
       "  </tbody>\n",
       "</table>\n",
       "<p>2000 rows × 1 columns</p>\n",
       "</div>"
      ],
      "text/plain": [
       "               Close\n",
       "Time                \n",
       "2004-06-01   97.9219\n",
       "2004-06-02   97.8438\n",
       "2004-06-03   97.8672\n",
       "2004-06-04   97.7422\n",
       "2004-06-07   97.8203\n",
       "...              ...\n",
       "2012-05-07  110.2734\n",
       "2012-05-08  110.2813\n",
       "2012-05-09  110.2813\n",
       "2012-05-10  110.2734\n",
       "2012-05-11  110.2734\n",
       "\n",
       "[2000 rows x 1 columns]"
      ]
     },
     "execution_count": 2,
     "metadata": {},
     "output_type": "execute_result"
    }
   ],
   "source": [
    "df=pd.read_csv('TU.csv')\n",
    "df['Time']=pd.to_datetime(df['Time']).dt.date # remove HH:MM:SS\n",
    "df.set_index('Time', inplace=True)\n",
    "df"
   ]
  },
  {
   "cell_type": "code",
   "execution_count": 3,
   "id": "77ab3504",
   "metadata": {},
   "outputs": [],
   "source": [
    "lookback=250\n",
    "holddays=25"
   ]
  },
  {
   "cell_type": "code",
   "execution_count": 4,
   "id": "817d114d",
   "metadata": {},
   "outputs": [],
   "source": [
    "longs= df['Close'] > df['Close'].shift()\n",
    "shorts= df['Close'] < df['Close'].shift()"
   ]
  },
  {
   "cell_type": "code",
   "execution_count": 5,
   "id": "e699fd43",
   "metadata": {},
   "outputs": [],
   "source": [
    "pos=np.zeros(df.shape[0])"
   ]
  },
  {
   "cell_type": "code",
   "execution_count": 6,
   "id": "7e5738c7",
   "metadata": {},
   "outputs": [],
   "source": [
    "for h in range(0, holddays):\n",
    "    long_lag=longs.shift(h)\n",
    "    long_lag[long_lag.isna()]=False\n",
    "    long_lag=long_lag.astype(bool)\n",
    "\n",
    "    short_lag=shorts.shift(h)\n",
    "    short_lag[short_lag.isna()]=False\n",
    "    short_lag=short_lag.astype(bool)\n",
    "\n",
    "    pos[long_lag]=pos[long_lag]+1\n",
    "    pos[short_lag]=pos[short_lag]-1"
   ]
  },
  {
   "cell_type": "code",
   "execution_count": 7,
   "id": "23a56924",
   "metadata": {},
   "outputs": [],
   "source": [
    "capital=np.nansum(np.array(pd.DataFrame(abs(pos)).shift()), axis=1)\n",
    "pos[capital==0,]=0\n",
    "capital[capital==0]=1"
   ]
  },
  {
   "cell_type": "code",
   "execution_count": 8,
   "id": "bc03f1dd",
   "metadata": {},
   "outputs": [
    {
     "data": {
      "text/plain": [
       "Time\n",
       "2004-06-01         NaN\n",
       "2004-06-02   -0.000798\n",
       "2004-06-03    0.000239\n",
       "2004-06-04   -0.001277\n",
       "2004-06-07    0.000799\n",
       "                ...   \n",
       "2012-05-07   -0.000072\n",
       "2012-05-08    0.000072\n",
       "2012-05-09    0.000000\n",
       "2012-05-10   -0.000072\n",
       "2012-05-11    0.000000\n",
       "Name: Close, Length: 2000, dtype: float64"
      ]
     },
     "execution_count": 8,
     "metadata": {},
     "output_type": "execute_result"
    }
   ],
   "source": [
    "marketRet=df['Close'].pct_change()\n",
    "marketRet"
   ]
  },
  {
   "cell_type": "code",
   "execution_count": 9,
   "id": "1dd8b8a6",
   "metadata": {},
   "outputs": [
    {
     "data": {
      "text/plain": [
       "array([0.        , 0.        , 0.        , ..., 0.00479983, 0.00479983,\n",
       "       0.00479983])"
      ]
     },
     "execution_count": 9,
     "metadata": {},
     "output_type": "execute_result"
    }
   ],
   "source": [
    "ret=np.nansum(np.array(pd.DataFrame(pos).shift())*np.array(marketRet), axis=1)/capital/holddays\n",
    "ret"
   ]
  },
  {
   "cell_type": "code",
   "execution_count": 10,
   "id": "051732d5",
   "metadata": {},
   "outputs": [
    {
     "name": "stdout",
     "output_type": "stream",
     "text": [
      "Gaussian Test statistic=2.769741\n"
     ]
    }
   ],
   "source": [
    "sharpe=np.sqrt(len(ret))*np.nanmean(ret)/np.nanstd(ret)\n",
    "print(\"Gaussian Test statistic=%f\" % sharpe)"
   ]
  },
  {
   "cell_type": "code",
   "execution_count": 11,
   "id": "59e4fa87",
   "metadata": {},
   "outputs": [
    {
     "name": "stderr",
     "output_type": "stream",
     "text": [
      " 27%|█████████                        | 2738/10000 [48:58<2:09:53,  1.07s/it]\n"
     ]
    },
    {
     "ename": "KeyboardInterrupt",
     "evalue": "",
     "output_type": "error",
     "traceback": [
      "\u001b[0;31m---------------------------------------------------------------------------\u001b[0m",
      "\u001b[0;31mKeyboardInterrupt\u001b[0m                         Traceback (most recent call last)",
      "Input \u001b[0;32mIn [11]\u001b[0m, in \u001b[0;36m<module>\u001b[0;34m\u001b[0m\n\u001b[1;32m     17\u001b[0m long_sim_lag\u001b[38;5;241m=\u001b[39mlongs_sim\u001b[38;5;241m.\u001b[39mshift(h)\n\u001b[1;32m     18\u001b[0m long_sim_lag[long_sim_lag\u001b[38;5;241m.\u001b[39misna()]\u001b[38;5;241m=\u001b[39m\u001b[38;5;28;01mFalse\u001b[39;00m\n\u001b[0;32m---> 19\u001b[0m long_sim_lag\u001b[38;5;241m=\u001b[39m\u001b[43mlong_sim_lag\u001b[49m\u001b[38;5;241;43m.\u001b[39;49m\u001b[43mastype\u001b[49m\u001b[43m(\u001b[49m\u001b[38;5;28;43mbool\u001b[39;49m\u001b[43m)\u001b[49m\n\u001b[1;32m     21\u001b[0m short_sim_lag\u001b[38;5;241m=\u001b[39mshorts_sim\u001b[38;5;241m.\u001b[39mshift(h)\n\u001b[1;32m     22\u001b[0m short_sim_lag[short_sim_lag\u001b[38;5;241m.\u001b[39misna()]\u001b[38;5;241m=\u001b[39m\u001b[38;5;28;01mFalse\u001b[39;00m\n",
      "File \u001b[0;32m~/opt/anaconda3/envs/lab/lib/python3.10/site-packages/pandas/core/generic.py:5816\u001b[0m, in \u001b[0;36mNDFrame.astype\u001b[0;34m(self, dtype, copy, errors)\u001b[0m\n\u001b[1;32m   5813\u001b[0m \u001b[38;5;28;01melse\u001b[39;00m:\n\u001b[1;32m   5814\u001b[0m     \u001b[38;5;66;03m# else, only a single dtype is given\u001b[39;00m\n\u001b[1;32m   5815\u001b[0m     new_data \u001b[38;5;241m=\u001b[39m \u001b[38;5;28mself\u001b[39m\u001b[38;5;241m.\u001b[39m_mgr\u001b[38;5;241m.\u001b[39mastype(dtype\u001b[38;5;241m=\u001b[39mdtype, copy\u001b[38;5;241m=\u001b[39mcopy, errors\u001b[38;5;241m=\u001b[39merrors)\n\u001b[0;32m-> 5816\u001b[0m     \u001b[38;5;28;01mreturn\u001b[39;00m \u001b[38;5;28mself\u001b[39m\u001b[38;5;241m.\u001b[39m_constructor(new_data)\u001b[38;5;241m.\u001b[39m__finalize__(\u001b[38;5;28mself\u001b[39m, method\u001b[38;5;241m=\u001b[39m\u001b[38;5;124m\"\u001b[39m\u001b[38;5;124mastype\u001b[39m\u001b[38;5;124m\"\u001b[39m)\n\u001b[1;32m   5818\u001b[0m \u001b[38;5;66;03m# GH 33113: handle empty frame or series\u001b[39;00m\n\u001b[1;32m   5819\u001b[0m \u001b[38;5;28;01mif\u001b[39;00m \u001b[38;5;129;01mnot\u001b[39;00m results:\n",
      "File \u001b[0;32m~/opt/anaconda3/envs/lab/lib/python3.10/site-packages/pandas/core/series.py:332\u001b[0m, in \u001b[0;36mSeries.__init__\u001b[0;34m(self, data, index, dtype, name, copy, fastpath)\u001b[0m\n\u001b[1;32m    315\u001b[0m \u001b[38;5;28;01mdef\u001b[39;00m \u001b[38;5;21m__init__\u001b[39m(\n\u001b[1;32m    316\u001b[0m     \u001b[38;5;28mself\u001b[39m,\n\u001b[1;32m    317\u001b[0m     data\u001b[38;5;241m=\u001b[39m\u001b[38;5;28;01mNone\u001b[39;00m,\n\u001b[0;32m   (...)\u001b[0m\n\u001b[1;32m    322\u001b[0m     fastpath: \u001b[38;5;28mbool\u001b[39m \u001b[38;5;241m=\u001b[39m \u001b[38;5;28;01mFalse\u001b[39;00m,\n\u001b[1;32m    323\u001b[0m ):\n\u001b[1;32m    325\u001b[0m     \u001b[38;5;28;01mif\u001b[39;00m (\n\u001b[1;32m    326\u001b[0m         \u001b[38;5;28misinstance\u001b[39m(data, (SingleBlockManager, SingleArrayManager))\n\u001b[1;32m    327\u001b[0m         \u001b[38;5;129;01mand\u001b[39;00m index \u001b[38;5;129;01mis\u001b[39;00m \u001b[38;5;28;01mNone\u001b[39;00m\n\u001b[0;32m   (...)\u001b[0m\n\u001b[1;32m    330\u001b[0m     ):\n\u001b[1;32m    331\u001b[0m         \u001b[38;5;66;03m# GH#33357 called with just the SingleBlockManager\u001b[39;00m\n\u001b[0;32m--> 332\u001b[0m         \u001b[43mNDFrame\u001b[49m\u001b[38;5;241;43m.\u001b[39;49m\u001b[38;5;21;43m__init__\u001b[39;49m\u001b[43m(\u001b[49m\u001b[38;5;28;43mself\u001b[39;49m\u001b[43m,\u001b[49m\u001b[43m \u001b[49m\u001b[43mdata\u001b[49m\u001b[43m)\u001b[49m\n\u001b[1;32m    333\u001b[0m         \u001b[38;5;28mself\u001b[39m\u001b[38;5;241m.\u001b[39mname \u001b[38;5;241m=\u001b[39m name\n\u001b[1;32m    334\u001b[0m         \u001b[38;5;28;01mreturn\u001b[39;00m\n",
      "File \u001b[0;32m~/opt/anaconda3/envs/lab/lib/python3.10/site-packages/pandas/core/generic.py:249\u001b[0m, in \u001b[0;36mNDFrame.__init__\u001b[0;34m(self, data, copy, attrs)\u001b[0m\n\u001b[1;32m    247\u001b[0m     attrs \u001b[38;5;241m=\u001b[39m \u001b[38;5;28mdict\u001b[39m(attrs)\n\u001b[1;32m    248\u001b[0m \u001b[38;5;28mobject\u001b[39m\u001b[38;5;241m.\u001b[39m\u001b[38;5;21m__setattr__\u001b[39m(\u001b[38;5;28mself\u001b[39m, \u001b[38;5;124m\"\u001b[39m\u001b[38;5;124m_attrs\u001b[39m\u001b[38;5;124m\"\u001b[39m, attrs)\n\u001b[0;32m--> 249\u001b[0m \u001b[38;5;28;43mobject\u001b[39;49m\u001b[38;5;241;43m.\u001b[39;49m\u001b[38;5;21;43m__setattr__\u001b[39;49m\u001b[43m(\u001b[49m\u001b[38;5;28;43mself\u001b[39;49m\u001b[43m,\u001b[49m\u001b[43m \u001b[49m\u001b[38;5;124;43m\"\u001b[39;49m\u001b[38;5;124;43m_flags\u001b[39;49m\u001b[38;5;124;43m\"\u001b[39;49m\u001b[43m,\u001b[49m\u001b[43m \u001b[49m\u001b[43mFlags\u001b[49m\u001b[43m(\u001b[49m\u001b[38;5;28;43mself\u001b[39;49m\u001b[43m,\u001b[49m\u001b[43m \u001b[49m\u001b[43mallows_duplicate_labels\u001b[49m\u001b[38;5;241;43m=\u001b[39;49m\u001b[38;5;28;43;01mTrue\u001b[39;49;00m\u001b[43m)\u001b[49m\u001b[43m)\u001b[49m\n",
      "\u001b[0;31mKeyboardInterrupt\u001b[0m: "
     ]
    }
   ],
   "source": [
    "# Randomized market returns hypothesis test\n",
    "# =============================================================================\n",
    "#_,_,mean,var,skew,kurt=describe(marketRet, nan_policy='omit')\n",
    "# =============================================================================\n",
    "skew_, loc_, scale_=pearson3.fit(marketRet[1:]) # First element is NaN\n",
    "numSampleAvgretBetterOrEqualObserved=0\n",
    "for sample in tqdm(range(10000)):\n",
    "    marketRet_sim=pearson3.rvs(skew=skew_, loc=loc_, scale=scale_, size=marketRet.shape[0], random_state=sample)\n",
    "    cl_sim=np.cumproduct(1+marketRet_sim)-1\n",
    "    \n",
    "    longs_sim =cl_sim > pd.Series(cl_sim).shift(lookback)\n",
    "    shorts_sim=cl_sim < pd.Series(cl_sim).shift(lookback)\n",
    "    \n",
    "    pos_sim=np.zeros(cl_sim.shape[0])\n",
    "    \n",
    "    for h in range(0, holddays):\n",
    "        long_sim_lag=longs_sim.shift(h)\n",
    "        long_sim_lag[long_sim_lag.isna()]=False\n",
    "        long_sim_lag=long_sim_lag.astype(bool)\n",
    "    \n",
    "        short_sim_lag=shorts_sim.shift(h)\n",
    "        short_sim_lag[short_sim_lag.isna()]=False\n",
    "        short_sim_lag=short_sim_lag.astype(bool)\n",
    "    \n",
    "        pos_sim[long_sim_lag]=pos_sim[long_sim_lag]+1\n",
    "        pos_sim[short_sim_lag]=pos_sim[short_sim_lag]-1\n",
    "        \n",
    "        capital=np.nansum(np.array(pd.DataFrame(abs(pos_sim)).shift()), axis=1)\n",
    "        pos_sim[capital==0,]=0\n",
    "        capital[capital==0]=1\n",
    "               \n",
    "        ret_sim=np.nansum(np.array(pd.DataFrame(pos_sim).shift())*np.array(marketRet_sim), axis=1)/capital/holddays\n",
    "        if (np.mean(ret_sim) >= np.mean(ret)):\n",
    "            numSampleAvgretBetterOrEqualObserved=numSampleAvgretBetterOrEqualObserved+1\n",
    "\n",
    "print(\"Randomized prices: p-value=%f\" % (numSampleAvgretBetterOrEqualObserved/10000))"
   ]
  },
  {
   "cell_type": "code",
   "execution_count": null,
   "id": "ff344343",
   "metadata": {},
   "outputs": [],
   "source": [
    "# Randomized entry trades hypothesis test\n",
    "numSampleAvgretBetterOrEqualObserved=0\n",
    "for sample in tqdm(range(10000)):\n",
    "    P=np.random.permutation(len(longs))\n",
    "    longs_sim=longs[P]\n",
    "    shorts_sim=shorts[P]\n",
    "    \n",
    "    pos_sim=np.zeros(cl_sim.shape[0])\n",
    "\n",
    "    for h in range(0, holddays):\n",
    "        long_sim_lag=longs_sim.shift(h)\n",
    "        long_sim_lag[long_sim_lag.isna()]=False\n",
    "        long_sim_lag=long_sim_lag.astype(bool)\n",
    "    \n",
    "        short_sim_lag=shorts_sim.shift(h)\n",
    "        short_sim_lag[short_sim_lag.isna()]=False\n",
    "        short_sim_lag=short_sim_lag.astype(bool)\n",
    "    \n",
    "        pos_sim[long_sim_lag]=pos_sim[long_sim_lag]+1\n",
    "        pos_sim[short_sim_lag]=pos_sim[short_sim_lag]-1\n",
    "        \n",
    "        capital=np.nansum(np.array(pd.DataFrame(abs(pos_sim)).shift()), axis=1)\n",
    "        pos_sim[capital==0,]=0\n",
    "        capital[capital==0]=1\n",
    "               \n",
    "        ret_sim=np.nansum(np.array(pd.DataFrame(pos_sim).shift())*np.array(marketRet), axis=1)/capital/holddays\n",
    "        if (np.mean(ret_sim) >= np.mean(ret)):\n",
    "            numSampleAvgretBetterOrEqualObserved=numSampleAvgretBetterOrEqualObserved+1\n",
    "\n",
    "print(\"Randomized trades: p-value=%f\" % (numSampleAvgretBetterOrEqualObserved/10000))"
   ]
  }
 ],
 "metadata": {
  "kernelspec": {
   "display_name": "Python 3 (ipykernel)",
   "language": "python",
   "name": "python3"
  },
  "language_info": {
   "codemirror_mode": {
    "name": "ipython",
    "version": 3
   },
   "file_extension": ".py",
   "mimetype": "text/x-python",
   "name": "python",
   "nbconvert_exporter": "python",
   "pygments_lexer": "ipython3",
   "version": "3.10.11"
  }
 },
 "nbformat": 4,
 "nbformat_minor": 5
}
