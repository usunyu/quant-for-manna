{
 "cells": [
  {
   "cell_type": "markdown",
   "id": "ee46f1e7",
   "metadata": {},
   "source": [
    "### Example 1.1: Hypothesis Testing on a Futures Momentum Strategy"
   ]
  },
  {
   "cell_type": "code",
   "execution_count": 1,
   "id": "f6be0240",
   "metadata": {},
   "outputs": [],
   "source": [
    "import numpy as np\n",
    "import pandas as pd\n",
    "#from scipy.stats import describe\n",
    "from scipy.stats import pearson3\n",
    "from tqdm import tqdm"
   ]
  },
  {
   "cell_type": "code",
   "execution_count": 2,
   "id": "c735136f",
   "metadata": {},
   "outputs": [
    {
     "data": {
      "text/html": [
       "<div>\n",
       "<style scoped>\n",
       "    .dataframe tbody tr th:only-of-type {\n",
       "        vertical-align: middle;\n",
       "    }\n",
       "\n",
       "    .dataframe tbody tr th {\n",
       "        vertical-align: top;\n",
       "    }\n",
       "\n",
       "    .dataframe thead th {\n",
       "        text-align: right;\n",
       "    }\n",
       "</style>\n",
       "<table border=\"1\" class=\"dataframe\">\n",
       "  <thead>\n",
       "    <tr style=\"text-align: right;\">\n",
       "      <th></th>\n",
       "      <th>Close</th>\n",
       "    </tr>\n",
       "    <tr>\n",
       "      <th>Time</th>\n",
       "      <th></th>\n",
       "    </tr>\n",
       "  </thead>\n",
       "  <tbody>\n",
       "    <tr>\n",
       "      <th>2004-06-01</th>\n",
       "      <td>97.9219</td>\n",
       "    </tr>\n",
       "    <tr>\n",
       "      <th>2004-06-02</th>\n",
       "      <td>97.8438</td>\n",
       "    </tr>\n",
       "    <tr>\n",
       "      <th>2004-06-03</th>\n",
       "      <td>97.8672</td>\n",
       "    </tr>\n",
       "    <tr>\n",
       "      <th>2004-06-04</th>\n",
       "      <td>97.7422</td>\n",
       "    </tr>\n",
       "    <tr>\n",
       "      <th>2004-06-07</th>\n",
       "      <td>97.8203</td>\n",
       "    </tr>\n",
       "    <tr>\n",
       "      <th>...</th>\n",
       "      <td>...</td>\n",
       "    </tr>\n",
       "    <tr>\n",
       "      <th>2012-05-07</th>\n",
       "      <td>110.2734</td>\n",
       "    </tr>\n",
       "    <tr>\n",
       "      <th>2012-05-08</th>\n",
       "      <td>110.2813</td>\n",
       "    </tr>\n",
       "    <tr>\n",
       "      <th>2012-05-09</th>\n",
       "      <td>110.2813</td>\n",
       "    </tr>\n",
       "    <tr>\n",
       "      <th>2012-05-10</th>\n",
       "      <td>110.2734</td>\n",
       "    </tr>\n",
       "    <tr>\n",
       "      <th>2012-05-11</th>\n",
       "      <td>110.2734</td>\n",
       "    </tr>\n",
       "  </tbody>\n",
       "</table>\n",
       "<p>2000 rows × 1 columns</p>\n",
       "</div>"
      ],
      "text/plain": [
       "               Close\n",
       "Time                \n",
       "2004-06-01   97.9219\n",
       "2004-06-02   97.8438\n",
       "2004-06-03   97.8672\n",
       "2004-06-04   97.7422\n",
       "2004-06-07   97.8203\n",
       "...              ...\n",
       "2012-05-07  110.2734\n",
       "2012-05-08  110.2813\n",
       "2012-05-09  110.2813\n",
       "2012-05-10  110.2734\n",
       "2012-05-11  110.2734\n",
       "\n",
       "[2000 rows x 1 columns]"
      ]
     },
     "execution_count": 2,
     "metadata": {},
     "output_type": "execute_result"
    }
   ],
   "source": [
    "df=pd.read_csv('TU.csv')\n",
    "df['Time']=pd.to_datetime(df['Time']).dt.date # remove HH:MM:SS\n",
    "df.set_index('Time', inplace=True)\n",
    "df"
   ]
  },
  {
   "cell_type": "code",
   "execution_count": 3,
   "id": "77ab3504",
   "metadata": {},
   "outputs": [],
   "source": [
    "lookback=250\n",
    "holddays=25"
   ]
  },
  {
   "cell_type": "code",
   "execution_count": 4,
   "id": "817d114d",
   "metadata": {},
   "outputs": [],
   "source": [
    "longs= df['Close'] > df['Close'].shift()\n",
    "shorts= df['Close'] < df['Close'].shift()"
   ]
  },
  {
   "cell_type": "code",
   "execution_count": 5,
   "id": "e699fd43",
   "metadata": {},
   "outputs": [],
   "source": [
    "pos=np.zeros(df.shape[0])"
   ]
  },
  {
   "cell_type": "code",
   "execution_count": 6,
   "id": "7e5738c7",
   "metadata": {},
   "outputs": [],
   "source": [
    "for h in range(0, holddays):\n",
    "    long_lag=longs.shift(h)\n",
    "    long_lag[long_lag.isna()]=False\n",
    "    long_lag=long_lag.astype(bool)\n",
    "\n",
    "    short_lag=shorts.shift(h)\n",
    "    short_lag[short_lag.isna()]=False\n",
    "    short_lag=short_lag.astype(bool)\n",
    "\n",
    "    pos[long_lag]=pos[long_lag]+1\n",
    "    pos[short_lag]=pos[short_lag]-1"
   ]
  },
  {
   "cell_type": "code",
   "execution_count": 7,
   "id": "23a56924",
   "metadata": {},
   "outputs": [],
   "source": [
    "capital=np.nansum(np.array(pd.DataFrame(abs(pos)).shift()), axis=1)\n",
    "pos[capital==0,]=0\n",
    "capital[capital==0]=1"
   ]
  },
  {
   "cell_type": "code",
   "execution_count": 8,
   "id": "bc03f1dd",
   "metadata": {},
   "outputs": [
    {
     "data": {
      "text/plain": [
       "Time\n",
       "2004-06-01         NaN\n",
       "2004-06-02   -0.000798\n",
       "2004-06-03    0.000239\n",
       "2004-06-04   -0.001277\n",
       "2004-06-07    0.000799\n",
       "                ...   \n",
       "2012-05-07   -0.000072\n",
       "2012-05-08    0.000072\n",
       "2012-05-09    0.000000\n",
       "2012-05-10   -0.000072\n",
       "2012-05-11    0.000000\n",
       "Name: Close, Length: 2000, dtype: float64"
      ]
     },
     "execution_count": 8,
     "metadata": {},
     "output_type": "execute_result"
    }
   ],
   "source": [
    "marketRet=df['Close'].pct_change()\n",
    "marketRet"
   ]
  },
  {
   "cell_type": "code",
   "execution_count": 9,
   "id": "1dd8b8a6",
   "metadata": {},
   "outputs": [
    {
     "data": {
      "text/plain": [
       "array([0.        , 0.        , 0.        , ..., 0.00479983, 0.00479983,\n",
       "       0.00479983])"
      ]
     },
     "execution_count": 9,
     "metadata": {},
     "output_type": "execute_result"
    }
   ],
   "source": [
    "ret=np.nansum(np.array(pd.DataFrame(pos).shift())*np.array(marketRet), axis=1)/capital/holddays\n",
    "ret"
   ]
  },
  {
   "cell_type": "code",
   "execution_count": 10,
   "id": "051732d5",
   "metadata": {},
   "outputs": [
    {
     "name": "stdout",
     "output_type": "stream",
     "text": [
      "Gaussian Test statistic=2.769741\n"
     ]
    }
   ],
   "source": [
    "sharpe=np.sqrt(len(ret))*np.nanmean(ret)/np.nanstd(ret)\n",
    "print(\"Gaussian Test statistic=%f\" % sharpe)"
   ]
  },
  {
   "cell_type": "code",
   "execution_count": 11,
   "id": "59e4fa87",
   "metadata": {},
   "outputs": [
    {
     "name": "stderr",
     "output_type": "stream",
     "text": [
      "100%|██████████████████████████████████████████████| 10000/10000 [41:44<00:00,  3.99it/s]"
     ]
    },
    {
     "name": "stdout",
     "output_type": "stream",
     "text": [
      "Randomized prices: p-value=23.617800\n"
     ]
    },
    {
     "name": "stderr",
     "output_type": "stream",
     "text": [
      "\n"
     ]
    }
   ],
   "source": [
    "# Randomized market returns hypothesis test\n",
    "# =============================================================================\n",
    "#_,_,mean,var,skew,kurt=describe(marketRet, nan_policy='omit')\n",
    "# =============================================================================\n",
    "skew_, loc_, scale_=pearson3.fit(marketRet[1:]) # First element is NaN\n",
    "numSampleAvgretBetterOrEqualObserved=0\n",
    "for sample in tqdm(range(10000)):\n",
    "    marketRet_sim=pearson3.rvs(skew=skew_, loc=loc_, scale=scale_, size=marketRet.shape[0], random_state=sample)\n",
    "    cl_sim=np.cumproduct(1+marketRet_sim)-1\n",
    "    \n",
    "    longs_sim =cl_sim > pd.Series(cl_sim).shift(lookback)\n",
    "    shorts_sim=cl_sim < pd.Series(cl_sim).shift(lookback)\n",
    "    \n",
    "    pos_sim=np.zeros(cl_sim.shape[0])\n",
    "    \n",
    "    for h in range(0, holddays):\n",
    "        long_sim_lag=longs_sim.shift(h)\n",
    "        long_sim_lag[long_sim_lag.isna()]=False\n",
    "        long_sim_lag=long_sim_lag.astype(bool)\n",
    "    \n",
    "        short_sim_lag=shorts_sim.shift(h)\n",
    "        short_sim_lag[short_sim_lag.isna()]=False\n",
    "        short_sim_lag=short_sim_lag.astype(bool)\n",
    "    \n",
    "        pos_sim[long_sim_lag]=pos_sim[long_sim_lag]+1\n",
    "        pos_sim[short_sim_lag]=pos_sim[short_sim_lag]-1\n",
    "        \n",
    "        capital=np.nansum(np.array(pd.DataFrame(abs(pos_sim)).shift()), axis=1)\n",
    "        pos_sim[capital==0,]=0\n",
    "        capital[capital==0]=1\n",
    "               \n",
    "        ret_sim=np.nansum(np.array(pd.DataFrame(pos_sim).shift())*np.array(marketRet_sim), axis=1)/capital/holddays\n",
    "        if (np.mean(ret_sim) >= np.mean(ret)):\n",
    "            numSampleAvgretBetterOrEqualObserved=numSampleAvgretBetterOrEqualObserved+1\n",
    "\n",
    "print(\"Randomized prices: p-value=%f\" % (numSampleAvgretBetterOrEqualObserved/10000))"
   ]
  },
  {
   "cell_type": "code",
   "execution_count": 12,
   "id": "ff344343",
   "metadata": {},
   "outputs": [
    {
     "name": "stderr",
     "output_type": "stream",
     "text": [
      "100%|██████████████████████████████████████████████| 10000/10000 [43:36<00:00,  3.82it/s]"
     ]
    },
    {
     "name": "stdout",
     "output_type": "stream",
     "text": [
      "Randomized trades: p-value=1.403200\n"
     ]
    },
    {
     "name": "stderr",
     "output_type": "stream",
     "text": [
      "\n"
     ]
    }
   ],
   "source": [
    "# Randomized entry trades hypothesis test\n",
    "numSampleAvgretBetterOrEqualObserved=0\n",
    "for sample in tqdm(range(10000)):\n",
    "    P=np.random.permutation(len(longs))\n",
    "    longs_sim=longs[P]\n",
    "    shorts_sim=shorts[P]\n",
    "    \n",
    "    pos_sim=np.zeros(cl_sim.shape[0])\n",
    "\n",
    "    for h in range(0, holddays):\n",
    "        long_sim_lag=longs_sim.shift(h)\n",
    "        long_sim_lag[long_sim_lag.isna()]=False\n",
    "        long_sim_lag=long_sim_lag.astype(bool)\n",
    "    \n",
    "        short_sim_lag=shorts_sim.shift(h)\n",
    "        short_sim_lag[short_sim_lag.isna()]=False\n",
    "        short_sim_lag=short_sim_lag.astype(bool)\n",
    "    \n",
    "        pos_sim[long_sim_lag]=pos_sim[long_sim_lag]+1\n",
    "        pos_sim[short_sim_lag]=pos_sim[short_sim_lag]-1\n",
    "        \n",
    "        capital=np.nansum(np.array(pd.DataFrame(abs(pos_sim)).shift()), axis=1)\n",
    "        pos_sim[capital==0,]=0\n",
    "        capital[capital==0]=1\n",
    "               \n",
    "        ret_sim=np.nansum(np.array(pd.DataFrame(pos_sim).shift())*np.array(marketRet), axis=1)/capital/holddays\n",
    "        if (np.mean(ret_sim) >= np.mean(ret)):\n",
    "            numSampleAvgretBetterOrEqualObserved=numSampleAvgretBetterOrEqualObserved+1\n",
    "\n",
    "print(\"Randomized trades: p-value=%f\" % (numSampleAvgretBetterOrEqualObserved/10000))"
   ]
  }
 ],
 "metadata": {
  "kernelspec": {
   "display_name": "Python 3 (ipykernel)",
   "language": "python",
   "name": "python3"
  },
  "language_info": {
   "codemirror_mode": {
    "name": "ipython",
    "version": 3
   },
   "file_extension": ".py",
   "mimetype": "text/x-python",
   "name": "python",
   "nbconvert_exporter": "python",
   "pygments_lexer": "ipython3",
   "version": "3.11.4"
  }
 },
 "nbformat": 4,
 "nbformat_minor": 5
}
