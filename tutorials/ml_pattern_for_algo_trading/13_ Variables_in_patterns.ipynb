{
 "cells": [
  {
   "cell_type": "markdown",
   "id": "f82ce2bc",
   "metadata": {},
   "source": [
    "## Variables in patterns\n",
    "\n",
    "https://pythonprogramming.net/variables-in-forex-patterns/"
   ]
  },
  {
   "cell_type": "markdown",
   "id": "97abf666",
   "metadata": {},
   "source": [
    "Alright everyone, time gather our thoughts, and plant our feet.\n",
    "\n",
    "So far, we've only done a few very basic things, so, it may seem like we've only just barely left the beach, but, the reality is, we're in very deep waters already.\n",
    "\n",
    "Let's consider the current situation.\n",
    "We have a lot of variables already which will need to be accounted for. Not only do we have explicit variables, we also have implicit ones.\n",
    "\n",
    "#### Our Explicit Variables:\n",
    "\n",
    "1. Percent change as pattern recognition.\n",
    "\n",
    "- this could be other things as well.\n",
    "\n",
    "2. Start point to current point % change.\n",
    "\n",
    "- as compared to point-by-point, or end to start.\n",
    "\n",
    "- point by point will give us differing looking lines visually,\n",
    "\n",
    "- end to beginning will give us end points that are more accurate.\n",
    "\n",
    "3. Fixed pattern length of 30\n",
    "\n",
    "4. Fixed value, or weight, of patterns, no matter how old or fresh they are.\n",
    "\n",
    "5. Looking 20-30 points into the future for the outcome. Truthful? Smaller or wider?\n",
    "\n",
    "6. Similarity required to bring pattern into consideration.\n",
    "\n",
    "#### Implicit Variables:\n",
    "\n",
    "Opportunity vs Accuracy.\n",
    "\n",
    "In machine learning, the way we typically find the best scenario, is much like how companies find the best price for their products. Profit margin matters, but amount sold matters too! A very cheap price will sell many units presumably, but profit per unit will be less than a higher price per unit, which would result in fewer sales.\n",
    "\n",
    "Here, we must also weigh opportunity, which is the volume of possible trades/much like the amount of units sold, comparing this to Accuracy, which is how often we're correct, which is much like the profit margin (since you might have a 60% accuracy in high volume opportunities, compared to 80% in low volume).\n",
    "\n",
    "Consider:\n",
    "\n",
    "You find an algorithm that will earn you $2 a trade, with 85% accuracy, very appealing. With this, you're allotted an opportunity to deploy this tactic 600 times, or for 600 trades.\n",
    "\n",
    "This means, at 85%, you will be successful with 510 of those trades, and lose 90 of them.\n",
    "\n",
    "510 successful trades @ \\\\$2 a trade is \\\\$1,020\n",
    "\n",
    "90 unsuccessful trades @ \\\\$2 a trade is \\\\$-180\n",
    "\n",
    "A total profit of $840.\n",
    "\n",
    "Let's consider another situation, which earns you the same $2 a trade if successful, but only has 70% accuracy. That said, it is a looser algorithm, thus giving more opportunity, and you get 1800 trades.\n",
    "\n",
    "This means 1260 trades are successful, for $2520 profit.\n",
    "\n",
    "This also means 540 trades are not, for -\\\\$1080 meaning total profit of \\\\$1440.\n",
    "\n",
    "Now, the above example is actually more likely an underexaggeration. You will find as you loosen up the requirements, even by tiny degrees, opportunities added are usually exponential, so opportunity will go up very quickly as we adjust things, but, eventually, the return in profit will not match the risk. The goal is to find the perfect balancing point. As such, this is a very important variable to keep in mind.\n",
    "\n",
    "Luckily for you, all of the above variables are capable of being machine learned!\n",
    "\n",
    "If you consider the unlimited allowance of pattern length, and unlimited degree of comparison (since we can say we require something like 72.5522512525% accuracy)... you will find quickly that the combination of variables is unlimited... so where do we even begin?!\n",
    "\n",
    "Generally, the accepted method with machine learning for finding the best combination of variables is to recalculate and continue following the path that is showing growing improvement with each step. As long as return on \"change\" continues growing, then you should continue. It's often compared to finding the quickest path down a mountain, like a rolling ball might. So long as you keep going down (improving) you keep moving variables in that direction until you stop going down, then change some others."
   ]
  }
 ],
 "metadata": {
  "kernelspec": {
   "display_name": "Python 3 (ipykernel)",
   "language": "python",
   "name": "python3"
  },
  "language_info": {
   "codemirror_mode": {
    "name": "ipython",
    "version": 3
   },
   "file_extension": ".py",
   "mimetype": "text/x-python",
   "name": "python",
   "nbconvert_exporter": "python",
   "pygments_lexer": "ipython3",
   "version": "3.11.4"
  }
 },
 "nbformat": 4,
 "nbformat_minor": 5
}
