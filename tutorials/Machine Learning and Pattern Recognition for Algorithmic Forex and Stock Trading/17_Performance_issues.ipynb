{
 "cells": [
  {
   "cell_type": "markdown",
   "id": "b6050dc3",
   "metadata": {},
   "source": [
    "So what we want to do now is back test this.\n",
    "\n",
    "That said, if you've played with this data enough, you will see that, in its current form, it is very slow.\n",
    "\n",
    "If we were to run through everything here, ignoring charting it... just running thru, storing patterns, comparing patterns at every plot....\n",
    "\n",
    "with our current processing time, a full back test of 1 month of this tick data, would land us at about 1 year's processing time.\n",
    "\n",
    "Now there are a few fixes here that are all quite viable.\n",
    "\n",
    "The issue of processing time MOSTLY is because of python's single threaded nature. Natively, it is simply not capable of anything otherwise.\n",
    "\n",
    "There are methods for threading with py, but they're somewhat futile here\n",
    "\n",
    "1. Using the threading module in python: [pythonprogramming.net/threading-tutorial-python/](pythonprogramming.net/threading-tutorial-python/)\n",
    "   \n",
    "2. Threading on your own via creating and running multiple scripts that handle\n",
    "   various sections in %s of the dataset.\n",
    "\n",
    "3. CUDA. CUDA allows us to use our GPU to do processing. I might possibly\n",
    "   bring in some videos on CUDA. So if you're interested, get a CUDA enabled\n",
    "   gpu (meaning an NVIDIA GPU). GPUs are typically just better at processing\n",
    "   large bulks of calcuations.\n",
    "   \n",
    "4. Change timeframe of data. Honestly, ... we probbbbably don't need to be\n",
    "   using intra-second tick data. You could do this with even 1 minute... and\n",
    "   that would cut down our size substantially. At least 60x smaller.\n",
    "\n",
    "\n",
    "So that's a start at handling where we are. That said, there are some things that we could change to make this script far more efficient than it is, but processing time will always be a few seconds if we have a large number\n",
    "of patterns.... there is no avoiding that part in the single-threaded py when py is acting alone.\n",
    "\n",
    "So that in mind, we see there is a large hurdle coming up. So we need to decide whether or not we should prepare to jump it, or fall out of the race.\n",
    "\n",
    "Therefor, I propose a backtest on this 1 day of data, against patterns.\n",
    "\n",
    "From our visual results, we can see that\n",
    "\n",
    "1. pattern recognition is working.\n",
    "\n",
    "2. ... it appears to predict direction successfully, even if all we are doing\n",
    "      is averaging the outcome."
   ]
  }
 ],
 "metadata": {
  "kernelspec": {
   "display_name": "Python 3 (ipykernel)",
   "language": "python",
   "name": "python3"
  },
  "language_info": {
   "codemirror_mode": {
    "name": "ipython",
    "version": 3
   },
   "file_extension": ".py",
   "mimetype": "text/x-python",
   "name": "python",
   "nbconvert_exporter": "python",
   "pygments_lexer": "ipython3",
   "version": "3.11.4"
  }
 },
 "nbformat": 4,
 "nbformat_minor": 5
}
