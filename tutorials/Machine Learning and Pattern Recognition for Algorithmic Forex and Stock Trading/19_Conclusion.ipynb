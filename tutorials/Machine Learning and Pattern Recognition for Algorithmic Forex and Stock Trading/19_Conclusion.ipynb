{
 "cells": [
  {
   "cell_type": "markdown",
   "id": "30f69290",
   "metadata": {},
   "source": [
    "## Conclusion\n",
    "https://www.youtube.com/watch?v=nN6Ng8k9wzU"
   ]
  },
  {
   "cell_type": "markdown",
   "id": "710d8d3f",
   "metadata": {},
   "source": [
    "Greetings everyone, and a warm congratulations as we approach the conclusion of this video series. This particular video might mark the end of our series, although I may add a few more videos as time progresses. We have extensively covered the topics I aimed to address, yet there remains one more aspect within this script that warrants your attention. It is essential to remember the variables we've discussed thus far - the length of the patterns, the required similarity threshold, the timeframe for looking back on patterns, and the methodology employed in calculating similarity.\n",
    "\n",
    "Machine learning in this domain is a dynamic process. It entails tweaking these variables and monitoring performance. Should performance improve in a substantial manner with each adjustment, it’s prudent to continue manipulating that variable until no further enhancement is observed. Thereafter, the focus can shift to another variable. This process is indeed the optimal method, albeit there's a plethora of variables and an infinite spectrum of changes that can be made, making it a colossal undertaking to cover comprehensively within this series. This series was crafted primarily for educational purposes, laying down the basics for you to build upon.\n",
    "\n",
    "Now, onto the vital change I wish to showcase in this video. A significant chunk of our processing time, about 99% to be precise, is consumed in one function - pattern recognition. There are several routes to optimize this function. One could rewrite this function in C and create a Python import using Cython. Alternatively, different arrays like the NumPy array or imports like Blist could be utilized, depending on the array size, to expedite processing. I have attempted to optimize the function by requiring a 50% similarity at least for the first 10 iterations, which notably reduces the processing time by about 50%. This adjustment particularly addresses the for-loop, which was identified as a bottleneck. The optimization ensures that if a 70% similarity is not achieved for a pattern, the loop exits early, saving precious processing time.\n",
    "\n",
    "In the backdrop, I will be displaying a visual representation of our predictions and their respective outcomes. The thin lines represent comparable patterns we've found, the thick cyan line denotes the actual pattern in question, and the red and green dots signify each pattern's outcome - a rise or fall. These outcomes are then averaged to create a plot of average rise or drop, depicted in dark blue, juxtaposed against the actual outcome depicted in cyan. The prediction here is merely directional, aimed at predicting a rise or fall rather than the exact value.\n",
    "\n",
    "Now, a word of caution as elucidated in the disclaimer at the outset of every video in this series - this series is for educational use only. The realm of trading is highly challenging, with quantitative analysis and algorithmic trading being particularly arduous. The competition is fierce, with individuals commanding million-dollar salaries to develop similar algorithms. A startling figure to note is that between 95 to 99 percent of traders incur losses in the market. And among the 1 to 5 percent who don't, most fail to outperform the market. For perspective, as of October 14th, 2013, the S&P 500 index has surged by 20% year-to-date. A simple investment in an index fund like the SPY would have yielded a 21.5% return when dividends are factored in, with minimal effort and commission costs.\n",
    "\n",
    "Contrary to the notion of automated trading, algorithmic traders often dedicate a considerable amount of time to their trading activities, making it anything but passive. The odds of succeeding are dismal, yet the allure of the field is undeniable. It’s vital to be cognizant of the risks and the gambling aspect inherent in trading. Always compare your results to a benchmark like the S&P 500 to gauge your performance accurately.\n",
    "\n",
    "Despite the rigorous nature of trading, machine learning, pattern recognition, and data manipulation are fascinating fields. This series was crafted out of a passion for teaching and the sheer enjoyment derived from exploring these domains. If you resonate with this enthusiasm, then this field might be for you. And for the exceptionally gifted few who can truly excel in this domain, the financial rewards could be substantial. However, it's imperative not to harbor any illusions of easy success.\n",
    "\n",
    "Furthermore, the potential applications of machine learning extend far beyond trading. Fields like image and facial recognition offer exciting opportunities and were once lucrative enough to secure substantial government contracts. The skills acquired through mastering machine learning are invaluable and could serve as a springboard for venturing into various other domains.\n",
    "\n",
    "I trust you've enjoyed this series as much as I have enjoyed creating it. I extend my heartfelt gratitude for your viewership, support, and subscriptions. There's much more to explore, and I look forward to sharing more "
   ]
  }
 ],
 "metadata": {
  "kernelspec": {
   "display_name": "Python 3 (ipykernel)",
   "language": "python",
   "name": "python3"
  },
  "language_info": {
   "codemirror_mode": {
    "name": "ipython",
    "version": 3
   },
   "file_extension": ".py",
   "mimetype": "text/x-python",
   "name": "python",
   "nbconvert_exporter": "python",
   "pygments_lexer": "ipython3",
   "version": "3.11.4"
  }
 },
 "nbformat": 4,
 "nbformat_minor": 5
}
