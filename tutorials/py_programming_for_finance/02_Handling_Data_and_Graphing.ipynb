{
 "cells": [
  {
   "cell_type": "markdown",
   "id": "a7d76533",
   "metadata": {},
   "source": [
    "## Handling Data and Graphing\n",
    "\n",
    "https://pythonprogramming.net/handling-stock-data-graphing-python-programming-for-finance/"
   ]
  },
  {
   "cell_type": "markdown",
   "id": "af31028f",
   "metadata": {},
   "source": [
    "Hello and welcome to part 2 of the Python for Finance tutorial series. In this tutorial, we're going to further break down some basic data manipulation and visualizations with our stock data. The starting code that we're going to be using (which was covered in the previous tutorial) is:"
   ]
  },
  {
   "cell_type": "code",
   "execution_count": 1,
   "id": "b7153949",
   "metadata": {},
   "outputs": [
    {
     "name": "stdout",
     "output_type": "stream",
     "text": [
      "[*********************100%***********************]  1 of 1 completed\n"
     ]
    },
    {
     "data": {
      "text/html": [
       "<div>\n",
       "<style scoped>\n",
       "    .dataframe tbody tr th:only-of-type {\n",
       "        vertical-align: middle;\n",
       "    }\n",
       "\n",
       "    .dataframe tbody tr th {\n",
       "        vertical-align: top;\n",
       "    }\n",
       "\n",
       "    .dataframe thead th {\n",
       "        text-align: right;\n",
       "    }\n",
       "</style>\n",
       "<table border=\"1\" class=\"dataframe\">\n",
       "  <thead>\n",
       "    <tr style=\"text-align: right;\">\n",
       "      <th></th>\n",
       "      <th>Open</th>\n",
       "      <th>High</th>\n",
       "      <th>Low</th>\n",
       "      <th>Close</th>\n",
       "      <th>Adj Close</th>\n",
       "      <th>Volume</th>\n",
       "    </tr>\n",
       "    <tr>\n",
       "      <th>Date</th>\n",
       "      <th></th>\n",
       "      <th></th>\n",
       "      <th></th>\n",
       "      <th></th>\n",
       "      <th></th>\n",
       "      <th></th>\n",
       "    </tr>\n",
       "  </thead>\n",
       "  <tbody>\n",
       "    <tr>\n",
       "      <th>2011-01-03</th>\n",
       "      <td>1.789333</td>\n",
       "      <td>1.800000</td>\n",
       "      <td>1.726667</td>\n",
       "      <td>1.774667</td>\n",
       "      <td>1.774667</td>\n",
       "      <td>19245000</td>\n",
       "    </tr>\n",
       "    <tr>\n",
       "      <th>2011-01-04</th>\n",
       "      <td>1.777333</td>\n",
       "      <td>1.796667</td>\n",
       "      <td>1.734667</td>\n",
       "      <td>1.778000</td>\n",
       "      <td>1.778000</td>\n",
       "      <td>17811000</td>\n",
       "    </tr>\n",
       "    <tr>\n",
       "      <th>2011-01-05</th>\n",
       "      <td>1.765333</td>\n",
       "      <td>1.793333</td>\n",
       "      <td>1.746000</td>\n",
       "      <td>1.788667</td>\n",
       "      <td>1.788667</td>\n",
       "      <td>21700500</td>\n",
       "    </tr>\n",
       "    <tr>\n",
       "      <th>2011-01-06</th>\n",
       "      <td>1.788667</td>\n",
       "      <td>1.866667</td>\n",
       "      <td>1.787333</td>\n",
       "      <td>1.858667</td>\n",
       "      <td>1.858667</td>\n",
       "      <td>30918000</td>\n",
       "    </tr>\n",
       "    <tr>\n",
       "      <th>2011-01-07</th>\n",
       "      <td>1.866667</td>\n",
       "      <td>1.905333</td>\n",
       "      <td>1.860000</td>\n",
       "      <td>1.882667</td>\n",
       "      <td>1.882667</td>\n",
       "      <td>33718500</td>\n",
       "    </tr>\n",
       "  </tbody>\n",
       "</table>\n",
       "</div>"
      ],
      "text/plain": [
       "                Open      High       Low     Close  Adj Close    Volume\n",
       "Date                                                                   \n",
       "2011-01-03  1.789333  1.800000  1.726667  1.774667   1.774667  19245000\n",
       "2011-01-04  1.777333  1.796667  1.734667  1.778000   1.778000  17811000\n",
       "2011-01-05  1.765333  1.793333  1.746000  1.788667   1.788667  21700500\n",
       "2011-01-06  1.788667  1.866667  1.787333  1.858667   1.858667  30918000\n",
       "2011-01-07  1.866667  1.905333  1.860000  1.882667   1.882667  33718500"
      ]
     },
     "execution_count": 1,
     "metadata": {},
     "output_type": "execute_result"
    }
   ],
   "source": [
    "import datetime as dt\n",
    "import matplotlib.pyplot as plt\n",
    "from matplotlib import style\n",
    "import pandas as pd\n",
    "import yfinance as yf\n",
    "\n",
    "style.use('ggplot')\n",
    "\n",
    "start = dt.datetime(2011, 1, 1)\n",
    "end = dt.datetime(2016, 1, 1)\n",
    "df = yf.download('TSLA', start=start, end=end)\n",
    "\n",
    "df.head()"
   ]
  },
  {
   "cell_type": "markdown",
   "id": "23394052",
   "metadata": {},
   "source": [
    "What are some things we can do with these DataFrames? For one, we can save them easily to a variety of datatypes. One option is a csv:"
   ]
  },
  {
   "cell_type": "code",
   "execution_count": 2,
   "id": "4e576334",
   "metadata": {},
   "outputs": [],
   "source": [
    "df.to_csv('TSLA.csv')"
   ]
  },
  {
   "cell_type": "markdown",
   "id": "1ab1c044",
   "metadata": {},
   "source": [
    "Rather than reading data from Yahoo's finance API to a DataFrame, we can also read data from a CSV file into a DataFrame:"
   ]
  },
  {
   "cell_type": "code",
   "execution_count": 3,
   "id": "861e0a16",
   "metadata": {},
   "outputs": [
    {
     "data": {
      "text/html": [
       "<div>\n",
       "<style scoped>\n",
       "    .dataframe tbody tr th:only-of-type {\n",
       "        vertical-align: middle;\n",
       "    }\n",
       "\n",
       "    .dataframe tbody tr th {\n",
       "        vertical-align: top;\n",
       "    }\n",
       "\n",
       "    .dataframe thead th {\n",
       "        text-align: right;\n",
       "    }\n",
       "</style>\n",
       "<table border=\"1\" class=\"dataframe\">\n",
       "  <thead>\n",
       "    <tr style=\"text-align: right;\">\n",
       "      <th></th>\n",
       "      <th>Open</th>\n",
       "      <th>High</th>\n",
       "      <th>Low</th>\n",
       "      <th>Close</th>\n",
       "      <th>Adj Close</th>\n",
       "      <th>Volume</th>\n",
       "    </tr>\n",
       "    <tr>\n",
       "      <th>Date</th>\n",
       "      <th></th>\n",
       "      <th></th>\n",
       "      <th></th>\n",
       "      <th></th>\n",
       "      <th></th>\n",
       "      <th></th>\n",
       "    </tr>\n",
       "  </thead>\n",
       "  <tbody>\n",
       "    <tr>\n",
       "      <th>2011-01-03</th>\n",
       "      <td>1.789333</td>\n",
       "      <td>1.800000</td>\n",
       "      <td>1.726667</td>\n",
       "      <td>1.774667</td>\n",
       "      <td>1.774667</td>\n",
       "      <td>19245000</td>\n",
       "    </tr>\n",
       "    <tr>\n",
       "      <th>2011-01-04</th>\n",
       "      <td>1.777333</td>\n",
       "      <td>1.796667</td>\n",
       "      <td>1.734667</td>\n",
       "      <td>1.778000</td>\n",
       "      <td>1.778000</td>\n",
       "      <td>17811000</td>\n",
       "    </tr>\n",
       "    <tr>\n",
       "      <th>2011-01-05</th>\n",
       "      <td>1.765333</td>\n",
       "      <td>1.793333</td>\n",
       "      <td>1.746000</td>\n",
       "      <td>1.788667</td>\n",
       "      <td>1.788667</td>\n",
       "      <td>21700500</td>\n",
       "    </tr>\n",
       "    <tr>\n",
       "      <th>2011-01-06</th>\n",
       "      <td>1.788667</td>\n",
       "      <td>1.866667</td>\n",
       "      <td>1.787333</td>\n",
       "      <td>1.858667</td>\n",
       "      <td>1.858667</td>\n",
       "      <td>30918000</td>\n",
       "    </tr>\n",
       "    <tr>\n",
       "      <th>2011-01-07</th>\n",
       "      <td>1.866667</td>\n",
       "      <td>1.905333</td>\n",
       "      <td>1.860000</td>\n",
       "      <td>1.882667</td>\n",
       "      <td>1.882667</td>\n",
       "      <td>33718500</td>\n",
       "    </tr>\n",
       "  </tbody>\n",
       "</table>\n",
       "</div>"
      ],
      "text/plain": [
       "                Open      High       Low     Close  Adj Close    Volume\n",
       "Date                                                                   \n",
       "2011-01-03  1.789333  1.800000  1.726667  1.774667   1.774667  19245000\n",
       "2011-01-04  1.777333  1.796667  1.734667  1.778000   1.778000  17811000\n",
       "2011-01-05  1.765333  1.793333  1.746000  1.788667   1.788667  21700500\n",
       "2011-01-06  1.788667  1.866667  1.787333  1.858667   1.858667  30918000\n",
       "2011-01-07  1.866667  1.905333  1.860000  1.882667   1.882667  33718500"
      ]
     },
     "execution_count": 3,
     "metadata": {},
     "output_type": "execute_result"
    }
   ],
   "source": [
    "df = pd.read_csv('tsla.csv', parse_dates=True, index_col=0)\n",
    "df.head()"
   ]
  },
  {
   "cell_type": "markdown",
   "id": "89394473",
   "metadata": {},
   "source": [
    "Now, we can graph with:"
   ]
  },
  {
   "cell_type": "code",
   "execution_count": 4,
   "id": "9bfb2e52",
   "metadata": {},
   "outputs": [
    {
     "data": {
      "image/png": "[encoded data removed]",
      "text/plain": [
       "<Figure size 640x480 with 1 Axes>"
      ]
     },
     "metadata": {},
     "output_type": "display_data"
    }
   ],
   "source": [
    "df.plot()\n",
    "plt.show()"
   ]
  },
  {
   "cell_type": "code",
   "execution_count": 5,
   "id": "04fd2cd3",
   "metadata": {},
   "outputs": [
    {
     "data": {
      "image/png": "[encoded data removed]",
      "text/plain": [
       "<Figure size 640x480 with 1 Axes>"
      ]
     },
     "metadata": {},
     "output_type": "display_data"
    }
   ],
   "source": [
    "df['Adj Close'].plot()\n",
    "plt.show()"
   ]
  },
  {
   "cell_type": "markdown",
   "id": "dd6867f8",
   "metadata": {},
   "source": [
    "As you can see, you can reference specific columns in the DataFrame like: df['Adj Close'], but you can also reference multiple at a time, like so:"
   ]
  },
  {
   "cell_type": "code",
   "execution_count": 6,
   "id": "5b8da638",
   "metadata": {},
   "outputs": [
    {
     "data": {
      "text/html": [
       "<div>\n",
       "<style scoped>\n",
       "    .dataframe tbody tr th:only-of-type {\n",
       "        vertical-align: middle;\n",
       "    }\n",
       "\n",
       "    .dataframe tbody tr th {\n",
       "        vertical-align: top;\n",
       "    }\n",
       "\n",
       "    .dataframe thead th {\n",
       "        text-align: right;\n",
       "    }\n",
       "</style>\n",
       "<table border=\"1\" class=\"dataframe\">\n",
       "  <thead>\n",
       "    <tr style=\"text-align: right;\">\n",
       "      <th></th>\n",
       "      <th>High</th>\n",
       "      <th>Low</th>\n",
       "    </tr>\n",
       "    <tr>\n",
       "      <th>Date</th>\n",
       "      <th></th>\n",
       "      <th></th>\n",
       "    </tr>\n",
       "  </thead>\n",
       "  <tbody>\n",
       "    <tr>\n",
       "      <th>2011-01-03</th>\n",
       "      <td>1.800000</td>\n",
       "      <td>1.726667</td>\n",
       "    </tr>\n",
       "    <tr>\n",
       "      <th>2011-01-04</th>\n",
       "      <td>1.796667</td>\n",
       "      <td>1.734667</td>\n",
       "    </tr>\n",
       "    <tr>\n",
       "      <th>2011-01-05</th>\n",
       "      <td>1.793333</td>\n",
       "      <td>1.746000</td>\n",
       "    </tr>\n",
       "    <tr>\n",
       "      <th>2011-01-06</th>\n",
       "      <td>1.866667</td>\n",
       "      <td>1.787333</td>\n",
       "    </tr>\n",
       "    <tr>\n",
       "      <th>2011-01-07</th>\n",
       "      <td>1.905333</td>\n",
       "      <td>1.860000</td>\n",
       "    </tr>\n",
       "    <tr>\n",
       "      <th>...</th>\n",
       "      <td>...</td>\n",
       "      <td>...</td>\n",
       "    </tr>\n",
       "    <tr>\n",
       "      <th>2015-12-24</th>\n",
       "      <td>15.458667</td>\n",
       "      <td>15.218667</td>\n",
       "    </tr>\n",
       "    <tr>\n",
       "      <th>2015-12-28</th>\n",
       "      <td>15.465333</td>\n",
       "      <td>15.036000</td>\n",
       "    </tr>\n",
       "    <tr>\n",
       "      <th>2015-12-29</th>\n",
       "      <td>15.848000</td>\n",
       "      <td>15.303333</td>\n",
       "    </tr>\n",
       "    <tr>\n",
       "      <th>2015-12-30</th>\n",
       "      <td>16.242001</td>\n",
       "      <td>15.711333</td>\n",
       "    </tr>\n",
       "    <tr>\n",
       "      <th>2015-12-31</th>\n",
       "      <td>16.230000</td>\n",
       "      <td>15.891333</td>\n",
       "    </tr>\n",
       "  </tbody>\n",
       "</table>\n",
       "<p>1258 rows × 2 columns</p>\n",
       "</div>"
      ],
      "text/plain": [
       "                 High        Low\n",
       "Date                            \n",
       "2011-01-03   1.800000   1.726667\n",
       "2011-01-04   1.796667   1.734667\n",
       "2011-01-05   1.793333   1.746000\n",
       "2011-01-06   1.866667   1.787333\n",
       "2011-01-07   1.905333   1.860000\n",
       "...               ...        ...\n",
       "2015-12-24  15.458667  15.218667\n",
       "2015-12-28  15.465333  15.036000\n",
       "2015-12-29  15.848000  15.303333\n",
       "2015-12-30  16.242001  15.711333\n",
       "2015-12-31  16.230000  15.891333\n",
       "\n",
       "[1258 rows x 2 columns]"
      ]
     },
     "execution_count": 6,
     "metadata": {},
     "output_type": "execute_result"
    }
   ],
   "source": [
    "df[['High','Low']]"
   ]
  },
  {
   "cell_type": "markdown",
   "id": "8436063e",
   "metadata": {},
   "source": [
    "In the next tutorial, we're going to cover some basic manipulations of this data, along with some more basic visualizations."
   ]
  }
 ],
 "metadata": {
  "kernelspec": {
   "display_name": "Python 3 (ipykernel)",
   "language": "python",
   "name": "python3"
  },
  "language_info": {
   "codemirror_mode": {
    "name": "ipython",
    "version": 3
   },
   "file_extension": ".py",
   "mimetype": "text/x-python",
   "name": "python",
   "nbconvert_exporter": "python",
   "pygments_lexer": "ipython3",
   "version": "3.11.4"
  }
 },
 "nbformat": 4,
 "nbformat_minor": 5
}
