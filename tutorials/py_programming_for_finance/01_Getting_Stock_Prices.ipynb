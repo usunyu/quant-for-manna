{
 "cells": [
  {
   "cell_type": "markdown",
   "id": "7a497e61",
   "metadata": {},
   "source": [
    "## Getting Stock Prices\n",
    "\n",
    "https://pythonprogramming.net/getting-stock-prices-python-programming-for-finance/"
   ]
  },
  {
   "cell_type": "markdown",
   "id": "3ea22276",
   "metadata": {},
   "source": [
    "Hello and welcome to a Python for Finance tutorial series. In this series, we're going to run through the basics of importing financial (stock) data into Python using the Pandas framework. From here, we'll manipulate the data and attempt to come up with some sort of system for investing in companies, apply some machine learning, even some deep learning, and then learn how to back-test a strategy. I assume you know the [fundamentals](https://pythonprogramming.net/python-fundamental-tutorials/) of Python. If you're not sure if that's you, click the fundamentals link, look at some of the topics in the series, and make a judgement call. If at any point you are stuck in this series or confused on a topic or concept, feel free to ask for help and I will do my best to help.\n",
    "\n",
    "A common question that I am asked is whether or not I make a profit investing or trading with these techniques. I mostly play with finance data for fun and to practice my data analysis skills, but it actually does also influence my investment decisions to this day. I do not do active algorithmic trading with programming at the time of my writing this, but I have, and I have actually made a profit, but it's a lot more work than you might think to algorithmically trade. Finally, the knowledge about how to manipulate and analyze financial data, as well as how to backtest trading stategies, has **saved** me a ton of money.\n",
    "\n",
    "None of the strategies presented here will make you an ultra wealthy person. If they would, I'd probably keep them to myself! The knowledge itself, however, can save you money, and even make you money.\n",
    "\n",
    "Alright great, let's get started. To begin, I am using Python 3.5, but you should be able to get by with later versions. I will assume you already have Python installed. If you do not have 64 bit Python, but do have a 64bit operating system, get 64 bit Python, it'll help you a bit later. If you're on a 32 bit operating system, I am sorry for your situation, but you should be fine to follow most of this anyway.\n",
    "\n",
    "Required Modules to start:\n",
    "1. **Numpy**\n",
    "2. **Matplotlib**\n",
    "3. **Pandas**\n",
    "4. **Pandas-datareader**\n",
    "5. **BeautifulSoup4**\n",
    "6. **scikit-learn / sklearn**\n",
    "\n",
    "That'll do for now, we'll deal with other modules as they come up. To begin, let's cover how we might go about dealing with stock data using pandas, matplotlib and Python.\n",
    "\n",
    "If you'd like to learn more on Matplotlib, check out the [Data Visualization with Matplotlib tutorial series](https://pythonprogramming.net/matplotlib-intro-tutorial/).\n",
    "\n",
    "If you'd like to learn more on Pandas, check out the [Data Analysis with Pandas tutorial series](https://pythonprogramming.net/data-analysis-python-pandas-tutorial-introduction/).\n",
    "\n",
    "To begin, we're going to make the following imports:"
   ]
  },
  {
   "cell_type": "code",
   "execution_count": 1,
   "id": "f6bcfcc5",
   "metadata": {},
   "outputs": [],
   "source": [
    "import datetime as dt\n",
    "import matplotlib.pyplot as plt\n",
    "from matplotlib import style\n",
    "import pandas as pd\n",
    "import pandas_datareader.data as web"
   ]
  },
  {
   "cell_type": "markdown",
   "id": "6f754f25",
   "metadata": {},
   "source": [
    "Datetime will easily allow us to work with dates, matplotlib to graph things, pandas to manipulate data, and the pandas_datareader is the newest pandas io library at the time of my writing this.\n",
    "\n",
    "Now for some starting setup:"
   ]
  },
  {
   "cell_type": "code",
   "execution_count": 2,
   "id": "7010b5de",
   "metadata": {},
   "outputs": [],
   "source": [
    "style.use('ggplot')\n",
    "\n",
    "start = dt.datetime(2015, 1, 1)\n",
    "end = dt.datetime.now()"
   ]
  },
  {
   "cell_type": "markdown",
   "id": "a634500f",
   "metadata": {},
   "source": [
    "We're setting a style, so our graphs don't look horrendous. In finance, it's of the utmost importance that your graphs are pretty, even if you're losing money. Next, we're setting a start and end datetime object, this will be the range of dates that we're going to grab stock pricing information for.\n",
    "\n",
    "Now, we can make a dataframe from this data:\n",
    "\n",
    "Note: This has changed since the video was filmed. Both Yahoo and Google have stopped their APIs, so we'll use morningstar this time:"
   ]
  },
  {
   "cell_type": "code",
   "execution_count": 3,
   "id": "027a63ce",
   "metadata": {},
   "outputs": [],
   "source": [
    "# df = web.DataReader(\"TSLA\", 'morningstar', start, end)"
   ]
  },
  {
   "cell_type": "markdown",
   "id": "03184233",
   "metadata": {},
   "source": [
    "***Note: Seems `morningstar` not working anymore, we will use `yfinance` instead at this time:***"
   ]
  },
  {
   "cell_type": "code",
   "execution_count": 4,
   "id": "c4e2fe22",
   "metadata": {},
   "outputs": [
    {
     "name": "stdout",
     "output_type": "stream",
     "text": [
      "[*********************100%***********************]  1 of 1 completed\n"
     ]
    }
   ],
   "source": [
    "import yfinance as yf\n",
    "df = yf.download('TSLA', start=start, end=end)"
   ]
  },
  {
   "cell_type": "markdown",
   "id": "4a22ae5a",
   "metadata": {},
   "source": [
    "If you're not currently familiar with what a DataFrame object is, you can check out the tutorial on [Pandas](https://pythonprogramming.net/data-analysis-python-pandas-tutorial-introduction/), or just be content to think of it like a spreadsheet, or a database table that's in your memory/RAM. It's just a table of rows and columns, you have an index, and column names. In our case, our index will likely be date. The index should be something that relates to all of the columns.\n",
    "\n",
    "The line web.DataReader('TSLA', \"yahoo\", start, end) uses the pandas_datareader package, looks for the stock ticker TSLA(Tesla), gets the information from yahoo, for the starting date of whatever start is and ends at the end variable that we chose. Just incase you don't know, a stock is a share of ownership of a company, and the ticker is the \"symbol\" used to reference the company in the stock exchange that it's on. Most tickers are 1-4 letters.\n",
    "\n",
    "So now we've got a Pandas.DataFrame object that contains stock pricing information for Tesla. Let's see what we have here:"
   ]
  },
  {
   "cell_type": "code",
   "execution_count": 5,
   "id": "6fe3c07e",
   "metadata": {},
   "outputs": [
    {
     "data": {
      "text/html": [
       "<div>\n",
       "<style scoped>\n",
       "    .dataframe tbody tr th:only-of-type {\n",
       "        vertical-align: middle;\n",
       "    }\n",
       "\n",
       "    .dataframe tbody tr th {\n",
       "        vertical-align: top;\n",
       "    }\n",
       "\n",
       "    .dataframe thead th {\n",
       "        text-align: right;\n",
       "    }\n",
       "</style>\n",
       "<table border=\"1\" class=\"dataframe\">\n",
       "  <thead>\n",
       "    <tr style=\"text-align: right;\">\n",
       "      <th></th>\n",
       "      <th>Open</th>\n",
       "      <th>High</th>\n",
       "      <th>Low</th>\n",
       "      <th>Close</th>\n",
       "      <th>Adj Close</th>\n",
       "      <th>Volume</th>\n",
       "    </tr>\n",
       "    <tr>\n",
       "      <th>Date</th>\n",
       "      <th></th>\n",
       "      <th></th>\n",
       "      <th></th>\n",
       "      <th></th>\n",
       "      <th></th>\n",
       "      <th></th>\n",
       "    </tr>\n",
       "  </thead>\n",
       "  <tbody>\n",
       "    <tr>\n",
       "      <th>2015-01-02</th>\n",
       "      <td>14.858000</td>\n",
       "      <td>14.883333</td>\n",
       "      <td>14.217333</td>\n",
       "      <td>14.620667</td>\n",
       "      <td>14.620667</td>\n",
       "      <td>71466000</td>\n",
       "    </tr>\n",
       "    <tr>\n",
       "      <th>2015-01-05</th>\n",
       "      <td>14.303333</td>\n",
       "      <td>14.433333</td>\n",
       "      <td>13.810667</td>\n",
       "      <td>14.006000</td>\n",
       "      <td>14.006000</td>\n",
       "      <td>80527500</td>\n",
       "    </tr>\n",
       "    <tr>\n",
       "      <th>2015-01-06</th>\n",
       "      <td>14.004000</td>\n",
       "      <td>14.280000</td>\n",
       "      <td>13.614000</td>\n",
       "      <td>14.085333</td>\n",
       "      <td>14.085333</td>\n",
       "      <td>93928500</td>\n",
       "    </tr>\n",
       "    <tr>\n",
       "      <th>2015-01-07</th>\n",
       "      <td>14.223333</td>\n",
       "      <td>14.318667</td>\n",
       "      <td>13.985333</td>\n",
       "      <td>14.063333</td>\n",
       "      <td>14.063333</td>\n",
       "      <td>44526000</td>\n",
       "    </tr>\n",
       "    <tr>\n",
       "      <th>2015-01-08</th>\n",
       "      <td>14.187333</td>\n",
       "      <td>14.253333</td>\n",
       "      <td>14.000667</td>\n",
       "      <td>14.041333</td>\n",
       "      <td>14.041333</td>\n",
       "      <td>51637500</td>\n",
       "    </tr>\n",
       "  </tbody>\n",
       "</table>\n",
       "</div>"
      ],
      "text/plain": [
       "                 Open       High        Low      Close  Adj Close    Volume\n",
       "Date                                                                       \n",
       "2015-01-02  14.858000  14.883333  14.217333  14.620667  14.620667  71466000\n",
       "2015-01-05  14.303333  14.433333  13.810667  14.006000  14.006000  80527500\n",
       "2015-01-06  14.004000  14.280000  13.614000  14.085333  14.085333  93928500\n",
       "2015-01-07  14.223333  14.318667  13.985333  14.063333  14.063333  44526000\n",
       "2015-01-08  14.187333  14.253333  14.000667  14.041333  14.041333  51637500"
      ]
     },
     "execution_count": 5,
     "metadata": {},
     "output_type": "execute_result"
    }
   ],
   "source": [
    "df.head()"
   ]
  },
  {
   "cell_type": "markdown",
   "id": "362c2521",
   "metadata": {},
   "source": [
    "Now, let's simplify this dataframe slightly:"
   ]
  },
  {
   "cell_type": "code",
   "execution_count": 6,
   "id": "c8f3b323",
   "metadata": {},
   "outputs": [],
   "source": [
    "# df.reset_index(inplace=True)\n",
    "# df.set_index(\"Date\", inplace=True)\n",
    "# df = df.drop(\"Symbol\", axis=1)"
   ]
  },
  {
   "cell_type": "markdown",
   "id": "923ff43e",
   "metadata": {},
   "source": [
    "Now, the full code is:"
   ]
  },
  {
   "cell_type": "code",
   "execution_count": 7,
   "id": "15059b3f",
   "metadata": {},
   "outputs": [
    {
     "name": "stdout",
     "output_type": "stream",
     "text": [
      "[*********************100%***********************]  1 of 1 completed\n"
     ]
    },
    {
     "data": {
      "text/html": [
       "<div>\n",
       "<style scoped>\n",
       "    .dataframe tbody tr th:only-of-type {\n",
       "        vertical-align: middle;\n",
       "    }\n",
       "\n",
       "    .dataframe tbody tr th {\n",
       "        vertical-align: top;\n",
       "    }\n",
       "\n",
       "    .dataframe thead th {\n",
       "        text-align: right;\n",
       "    }\n",
       "</style>\n",
       "<table border=\"1\" class=\"dataframe\">\n",
       "  <thead>\n",
       "    <tr style=\"text-align: right;\">\n",
       "      <th></th>\n",
       "      <th>Open</th>\n",
       "      <th>High</th>\n",
       "      <th>Low</th>\n",
       "      <th>Close</th>\n",
       "      <th>Adj Close</th>\n",
       "      <th>Volume</th>\n",
       "    </tr>\n",
       "    <tr>\n",
       "      <th>Date</th>\n",
       "      <th></th>\n",
       "      <th></th>\n",
       "      <th></th>\n",
       "      <th></th>\n",
       "      <th></th>\n",
       "      <th></th>\n",
       "    </tr>\n",
       "  </thead>\n",
       "  <tbody>\n",
       "    <tr>\n",
       "      <th>2015-01-02</th>\n",
       "      <td>14.858000</td>\n",
       "      <td>14.883333</td>\n",
       "      <td>14.217333</td>\n",
       "      <td>14.620667</td>\n",
       "      <td>14.620667</td>\n",
       "      <td>71466000</td>\n",
       "    </tr>\n",
       "    <tr>\n",
       "      <th>2015-01-05</th>\n",
       "      <td>14.303333</td>\n",
       "      <td>14.433333</td>\n",
       "      <td>13.810667</td>\n",
       "      <td>14.006000</td>\n",
       "      <td>14.006000</td>\n",
       "      <td>80527500</td>\n",
       "    </tr>\n",
       "    <tr>\n",
       "      <th>2015-01-06</th>\n",
       "      <td>14.004000</td>\n",
       "      <td>14.280000</td>\n",
       "      <td>13.614000</td>\n",
       "      <td>14.085333</td>\n",
       "      <td>14.085333</td>\n",
       "      <td>93928500</td>\n",
       "    </tr>\n",
       "    <tr>\n",
       "      <th>2015-01-07</th>\n",
       "      <td>14.223333</td>\n",
       "      <td>14.318667</td>\n",
       "      <td>13.985333</td>\n",
       "      <td>14.063333</td>\n",
       "      <td>14.063333</td>\n",
       "      <td>44526000</td>\n",
       "    </tr>\n",
       "    <tr>\n",
       "      <th>2015-01-08</th>\n",
       "      <td>14.187333</td>\n",
       "      <td>14.253333</td>\n",
       "      <td>14.000667</td>\n",
       "      <td>14.041333</td>\n",
       "      <td>14.041333</td>\n",
       "      <td>51637500</td>\n",
       "    </tr>\n",
       "  </tbody>\n",
       "</table>\n",
       "</div>"
      ],
      "text/plain": [
       "                 Open       High        Low      Close  Adj Close    Volume\n",
       "Date                                                                       \n",
       "2015-01-02  14.858000  14.883333  14.217333  14.620667  14.620667  71466000\n",
       "2015-01-05  14.303333  14.433333  13.810667  14.006000  14.006000  80527500\n",
       "2015-01-06  14.004000  14.280000  13.614000  14.085333  14.085333  93928500\n",
       "2015-01-07  14.223333  14.318667  13.985333  14.063333  14.063333  44526000\n",
       "2015-01-08  14.187333  14.253333  14.000667  14.041333  14.041333  51637500"
      ]
     },
     "execution_count": 7,
     "metadata": {},
     "output_type": "execute_result"
    }
   ],
   "source": [
    "import datetime as dt\n",
    "import matplotlib.pyplot as plt\n",
    "from matplotlib import style\n",
    "import pandas as pd\n",
    "import yfinance as yf\n",
    "\n",
    "style.use('ggplot')\n",
    "\n",
    "start = dt.datetime(2015, 1, 1)\n",
    "end = dt.datetime.now()\n",
    "df = yf.download('TSLA', start=start, end=end)\n",
    "\n",
    "df.head()"
   ]
  },
  {
   "cell_type": "markdown",
   "id": "790f167d",
   "metadata": {},
   "source": [
    "Now, this is a python object that is rows and columns, like a spreadsheet.\n",
    "\n",
    "The .head() is something you can do with Pandas DataFrames, and it will output the first n rows, where n is the optional parameter you pass. If you don't pass a parameter, 5 is the default value. We mosly will use .head() to just get a quick glimpse of our data to make sure we're on the right track. Looks great to me!\n",
    "\n",
    "In case you do not know:\n",
    "\n",
    "* Open - When the stock market opens in the morning for trading, what was the price of one share?\n",
    "* High - over the course of the trading day, what was the highest value for that day?\n",
    "* Low - over the course of the trading day, what was the lowest value for that day?\n",
    "* Close - When the trading day was over, what was the final price?\n",
    "* Volume - For that day, how many shares were traded?\n",
    "* Adj Close - This one is slightly more complicated, but, over time, companies may decide to do something called a stock split. For example, Apple did one once their stock price exceeded \\\\$1000. Since in most cases, people cannot buy fractions of shares, a stock price of \\\\$1,000 is fairly limiting to investors. Companies can do a stock split where they say every share is now 2 shares, and the price is half. Anyone who had 1 share of Apple for \\\\$1,000, after a split where Apple doubled the shares, they would have 2 shares of Apple (AAPL), each worth \\\\$500. Adj Close is helpful, since it accounts for future stock splits, and gives the relative price to splits. For this reason, the adjusted prices are the prices you're most likely to be dealing with."
   ]
  }
 ],
 "metadata": {
  "kernelspec": {
   "display_name": "Python 3 (ipykernel)",
   "language": "python",
   "name": "python3"
  },
  "language_info": {
   "codemirror_mode": {
    "name": "ipython",
    "version": 3
   },
   "file_extension": ".py",
   "mimetype": "text/x-python",
   "name": "python",
   "nbconvert_exporter": "python",
   "pygments_lexer": "ipython3",
   "version": "3.11.4"
  }
 },
 "nbformat": 4,
 "nbformat_minor": 5
}
