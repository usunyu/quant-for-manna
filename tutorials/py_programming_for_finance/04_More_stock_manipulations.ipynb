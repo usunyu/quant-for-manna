{
 "cells": [
  {
   "cell_type": "markdown",
   "id": "3cf84b7a",
   "metadata": {},
   "source": [
    "## More stock manipulations\n",
    "https://pythonprogramming.net/more-stock-data-manipulation-python-programming-for-finance/"
   ]
  },
  {
   "cell_type": "markdown",
   "id": "1ba7ec8a",
   "metadata": {},
   "source": [
    "Hello and welcome to part 4 of the Python for Finance tutorial series. In this tutorial, we're going to create a candlestick / OHLC graph based on the Adj Close column, which will allow me to cover resampling and a few more data visualization concepts.\n",
    "\n",
    "An OHLC chart, called a candlestick chart, is a chart that condenses the open, high, low, and close data all in one nice format. Plus it makes pretty colors, and remember what I told you about good looking charts?\n",
    "\n",
    "Starting code that's been covered up to this point in previous tutorials:"
   ]
  },
  {
   "cell_type": "code",
   "execution_count": 1,
   "id": "08816ab4",
   "metadata": {},
   "outputs": [
    {
     "data": {
      "text/html": [
       "<div>\n",
       "<style scoped>\n",
       "    .dataframe tbody tr th:only-of-type {\n",
       "        vertical-align: middle;\n",
       "    }\n",
       "\n",
       "    .dataframe tbody tr th {\n",
       "        vertical-align: top;\n",
       "    }\n",
       "\n",
       "    .dataframe thead th {\n",
       "        text-align: right;\n",
       "    }\n",
       "</style>\n",
       "<table border=\"1\" class=\"dataframe\">\n",
       "  <thead>\n",
       "    <tr style=\"text-align: right;\">\n",
       "      <th></th>\n",
       "      <th>Open</th>\n",
       "      <th>High</th>\n",
       "      <th>Low</th>\n",
       "      <th>Close</th>\n",
       "      <th>Adj Close</th>\n",
       "      <th>Volume</th>\n",
       "    </tr>\n",
       "    <tr>\n",
       "      <th>Date</th>\n",
       "      <th></th>\n",
       "      <th></th>\n",
       "      <th></th>\n",
       "      <th></th>\n",
       "      <th></th>\n",
       "      <th></th>\n",
       "    </tr>\n",
       "  </thead>\n",
       "  <tbody>\n",
       "    <tr>\n",
       "      <th>2011-01-03</th>\n",
       "      <td>1.789333</td>\n",
       "      <td>1.800000</td>\n",
       "      <td>1.726667</td>\n",
       "      <td>1.774667</td>\n",
       "      <td>1.774667</td>\n",
       "      <td>19245000</td>\n",
       "    </tr>\n",
       "    <tr>\n",
       "      <th>2011-01-04</th>\n",
       "      <td>1.777333</td>\n",
       "      <td>1.796667</td>\n",
       "      <td>1.734667</td>\n",
       "      <td>1.778000</td>\n",
       "      <td>1.778000</td>\n",
       "      <td>17811000</td>\n",
       "    </tr>\n",
       "    <tr>\n",
       "      <th>2011-01-05</th>\n",
       "      <td>1.765333</td>\n",
       "      <td>1.793333</td>\n",
       "      <td>1.746000</td>\n",
       "      <td>1.788667</td>\n",
       "      <td>1.788667</td>\n",
       "      <td>21700500</td>\n",
       "    </tr>\n",
       "    <tr>\n",
       "      <th>2011-01-06</th>\n",
       "      <td>1.788667</td>\n",
       "      <td>1.866667</td>\n",
       "      <td>1.787333</td>\n",
       "      <td>1.858667</td>\n",
       "      <td>1.858667</td>\n",
       "      <td>30918000</td>\n",
       "    </tr>\n",
       "    <tr>\n",
       "      <th>2011-01-07</th>\n",
       "      <td>1.866667</td>\n",
       "      <td>1.905333</td>\n",
       "      <td>1.860000</td>\n",
       "      <td>1.882667</td>\n",
       "      <td>1.882667</td>\n",
       "      <td>33718500</td>\n",
       "    </tr>\n",
       "    <tr>\n",
       "      <th>...</th>\n",
       "      <td>...</td>\n",
       "      <td>...</td>\n",
       "      <td>...</td>\n",
       "      <td>...</td>\n",
       "      <td>...</td>\n",
       "      <td>...</td>\n",
       "    </tr>\n",
       "    <tr>\n",
       "      <th>2015-12-24</th>\n",
       "      <td>15.370667</td>\n",
       "      <td>15.458667</td>\n",
       "      <td>15.218667</td>\n",
       "      <td>15.371333</td>\n",
       "      <td>15.371333</td>\n",
       "      <td>10620000</td>\n",
       "    </tr>\n",
       "    <tr>\n",
       "      <th>2015-12-28</th>\n",
       "      <td>15.432667</td>\n",
       "      <td>15.465333</td>\n",
       "      <td>15.036000</td>\n",
       "      <td>15.263333</td>\n",
       "      <td>15.263333</td>\n",
       "      <td>28519500</td>\n",
       "    </tr>\n",
       "    <tr>\n",
       "      <th>2015-12-29</th>\n",
       "      <td>15.337333</td>\n",
       "      <td>15.848000</td>\n",
       "      <td>15.303333</td>\n",
       "      <td>15.812667</td>\n",
       "      <td>15.812667</td>\n",
       "      <td>36094500</td>\n",
       "    </tr>\n",
       "    <tr>\n",
       "      <th>2015-12-30</th>\n",
       "      <td>15.773333</td>\n",
       "      <td>16.242001</td>\n",
       "      <td>15.711333</td>\n",
       "      <td>15.872667</td>\n",
       "      <td>15.872667</td>\n",
       "      <td>55468500</td>\n",
       "    </tr>\n",
       "    <tr>\n",
       "      <th>2015-12-31</th>\n",
       "      <td>15.900667</td>\n",
       "      <td>16.230000</td>\n",
       "      <td>15.891333</td>\n",
       "      <td>16.000668</td>\n",
       "      <td>16.000668</td>\n",
       "      <td>40725000</td>\n",
       "    </tr>\n",
       "  </tbody>\n",
       "</table>\n",
       "<p>1258 rows × 6 columns</p>\n",
       "</div>"
      ],
      "text/plain": [
       "                 Open       High        Low      Close  Adj Close    Volume\n",
       "Date                                                                       \n",
       "2011-01-03   1.789333   1.800000   1.726667   1.774667   1.774667  19245000\n",
       "2011-01-04   1.777333   1.796667   1.734667   1.778000   1.778000  17811000\n",
       "2011-01-05   1.765333   1.793333   1.746000   1.788667   1.788667  21700500\n",
       "2011-01-06   1.788667   1.866667   1.787333   1.858667   1.858667  30918000\n",
       "2011-01-07   1.866667   1.905333   1.860000   1.882667   1.882667  33718500\n",
       "...               ...        ...        ...        ...        ...       ...\n",
       "2015-12-24  15.370667  15.458667  15.218667  15.371333  15.371333  10620000\n",
       "2015-12-28  15.432667  15.465333  15.036000  15.263333  15.263333  28519500\n",
       "2015-12-29  15.337333  15.848000  15.303333  15.812667  15.812667  36094500\n",
       "2015-12-30  15.773333  16.242001  15.711333  15.872667  15.872667  55468500\n",
       "2015-12-31  15.900667  16.230000  15.891333  16.000668  16.000668  40725000\n",
       "\n",
       "[1258 rows x 6 columns]"
      ]
     },
     "execution_count": 1,
     "metadata": {},
     "output_type": "execute_result"
    }
   ],
   "source": [
    "import datetime as dt\n",
    "import matplotlib.pyplot as plt\n",
    "from matplotlib import style\n",
    "import pandas as pd\n",
    "style.use('ggplot')\n",
    "\n",
    "df = pd.read_csv('tsla.csv', parse_dates=True, index_col=0)\n",
    "df"
   ]
  },
  {
   "cell_type": "markdown",
   "id": "b549b989",
   "metadata": {},
   "source": [
    "Unfortunately, making candlestick graphs right from Pandas isn't built in, even though creating OHLC data is. One day, I am sure this graph type will be made available, but, today, it isn't. That's alright though, we'll make it happen! First, we need to make two new imports:"
   ]
  },
  {
   "cell_type": "code",
   "execution_count": 2,
   "id": "8ad49d1d",
   "metadata": {},
   "outputs": [],
   "source": [
    "# from matplotlib.finance import candlestick_ohlc\n",
    "import mplfinance as mpf\n",
    "import matplotlib.dates as mdates"
   ]
  },
  {
   "cell_type": "markdown",
   "id": "3b73928b",
   "metadata": {},
   "source": [
    "The first import is the OHLC graph type from matplotlib, and the second import is the special mdates type that...is mostly just a pain in the butt, but that's the date type for matplotlib graphs. Pandas automatically handles that for you, but, like I said, we don't have that luxury yet with candlesticks.\n",
    "\n",
    "***Note: The package `matplotlib.finance` is deprecated, I'll use `mplfinance` here***\n",
    "\n",
    "First, we need proper OHLC data. Our current data does have OHLC values, and, unless I am mistaken, Tesla has never had a split, but you wont always be this lucky. Thus, we're going to create our own OHLC data, which will also allow us to show another data transformation that comes from Pandas:\n",
    "\n",
    "***Note: `TSLA` has been split on August 31, 2020 and August 25, 2022.***"
   ]
  },
  {
   "cell_type": "code",
   "execution_count": 3,
   "id": "acc96243",
   "metadata": {},
   "outputs": [],
   "source": [
    "df_ohlc = df['Adj Close'].resample('10D').ohlc()"
   ]
  },
  {
   "cell_type": "markdown",
   "id": "fcc49e48",
   "metadata": {},
   "source": [
    "What we've done here is created a new dataframe, based on the `df['Adj Close']column`, resamped with a 10 day window, and the resampling is an ohlc (open high low close). We could also do things like `.mean()` or `.sum()` for 10 day averages, or 10 day sums. Keep in mind, this 10 day average would be a 10 day average, not a rolling average. Since our data is daily data, resampling it to 10day data effectively shrinks the size of our data significantly. This is how you can normalize multiple datasets. Sometimes, you might have data that tracks once a month on the 1st of the month, other data that logs at the end of each month, and finally some data that logs weekly. You can resample this dataframe to the end of the month, every month, and effectively normalize it all! That's a more advanced Pandas feature that you can learn more about from the [Pandas](https://pythonprogramming.net/data-analysis-python-pandas-tutorial-introduction/) series if you like.\n",
    "\n",
    "We'd like to graph both the candlestick data, as well as the volume data. We don't HAVE to resample the volume data, but we should, since it would be too granular compared to our 10D pricing data."
   ]
  },
  {
   "cell_type": "code",
   "execution_count": 4,
   "id": "923bcb52",
   "metadata": {},
   "outputs": [],
   "source": [
    "df_volume = df['Volume'].resample('10D').sum()"
   ]
  },
  {
   "cell_type": "markdown",
   "id": "329fdd14",
   "metadata": {},
   "source": [
    "We're using sum here, since we really want to know the total volume traded over those 10 days, but you could also use mean instead. Now if we do:"
   ]
  },
  {
   "cell_type": "code",
   "execution_count": 5,
   "id": "5c27edf2",
   "metadata": {},
   "outputs": [
    {
     "data": {
      "text/html": [
       "<div>\n",
       "<style scoped>\n",
       "    .dataframe tbody tr th:only-of-type {\n",
       "        vertical-align: middle;\n",
       "    }\n",
       "\n",
       "    .dataframe tbody tr th {\n",
       "        vertical-align: top;\n",
       "    }\n",
       "\n",
       "    .dataframe thead th {\n",
       "        text-align: right;\n",
       "    }\n",
       "</style>\n",
       "<table border=\"1\" class=\"dataframe\">\n",
       "  <thead>\n",
       "    <tr style=\"text-align: right;\">\n",
       "      <th></th>\n",
       "      <th>open</th>\n",
       "      <th>high</th>\n",
       "      <th>low</th>\n",
       "      <th>close</th>\n",
       "    </tr>\n",
       "    <tr>\n",
       "      <th>Date</th>\n",
       "      <th></th>\n",
       "      <th></th>\n",
       "      <th></th>\n",
       "      <th></th>\n",
       "    </tr>\n",
       "  </thead>\n",
       "  <tbody>\n",
       "    <tr>\n",
       "      <th>2011-01-03</th>\n",
       "      <td>1.774667</td>\n",
       "      <td>1.896667</td>\n",
       "      <td>1.774667</td>\n",
       "      <td>1.797333</td>\n",
       "    </tr>\n",
       "    <tr>\n",
       "      <th>2011-01-13</th>\n",
       "      <td>1.748000</td>\n",
       "      <td>1.748000</td>\n",
       "      <td>1.508000</td>\n",
       "      <td>1.536000</td>\n",
       "    </tr>\n",
       "    <tr>\n",
       "      <th>2011-01-23</th>\n",
       "      <td>1.632667</td>\n",
       "      <td>1.661333</td>\n",
       "      <td>1.594000</td>\n",
       "      <td>1.594000</td>\n",
       "    </tr>\n",
       "    <tr>\n",
       "      <th>2011-02-02</th>\n",
       "      <td>1.596000</td>\n",
       "      <td>1.632667</td>\n",
       "      <td>1.538000</td>\n",
       "      <td>1.550000</td>\n",
       "    </tr>\n",
       "    <tr>\n",
       "      <th>2011-02-12</th>\n",
       "      <td>1.538667</td>\n",
       "      <td>1.648667</td>\n",
       "      <td>1.522667</td>\n",
       "      <td>1.545333</td>\n",
       "    </tr>\n",
       "  </tbody>\n",
       "</table>\n",
       "</div>"
      ],
      "text/plain": [
       "                open      high       low     close\n",
       "Date                                              \n",
       "2011-01-03  1.774667  1.896667  1.774667  1.797333\n",
       "2011-01-13  1.748000  1.748000  1.508000  1.536000\n",
       "2011-01-23  1.632667  1.661333  1.594000  1.594000\n",
       "2011-02-02  1.596000  1.632667  1.538000  1.550000\n",
       "2011-02-12  1.538667  1.648667  1.522667  1.545333"
      ]
     },
     "execution_count": 5,
     "metadata": {},
     "output_type": "execute_result"
    }
   ],
   "source": [
    "df_ohlc.head()"
   ]
  },
  {
   "cell_type": "markdown",
   "id": "751828e8",
   "metadata": {},
   "source": [
    "That's expected, but, we want to now move this information to matplotlib, as well as convert the dates to the mdates version. Since we're just going to graph the columns in Matplotlib, we actually don't want the date to be an index anymore, so we can do:"
   ]
  },
  {
   "cell_type": "code",
   "execution_count": 6,
   "id": "64666e88",
   "metadata": {},
   "outputs": [],
   "source": [
    "# df_ohlc = df_ohlc.reset_index()"
   ]
  },
  {
   "cell_type": "markdown",
   "id": "3adef6b5",
   "metadata": {},
   "source": [
    "Now dates is just a regular column. Next, we want to convert it:"
   ]
  },
  {
   "cell_type": "code",
   "execution_count": 7,
   "id": "b10e6b00",
   "metadata": {},
   "outputs": [],
   "source": [
    "# df_ohlc['Date'] = df_ohlc['Date'].map(mdates.date2num)"
   ]
  },
  {
   "cell_type": "markdown",
   "id": "91602e32",
   "metadata": {},
   "source": [
    "Now we're going to setup the figure:"
   ]
  },
  {
   "cell_type": "code",
   "execution_count": 8,
   "id": "4e4f6a86",
   "metadata": {},
   "outputs": [],
   "source": [
    "# fig = plt.figure()\n",
    "# ax1 = plt.subplot2grid((6,1), (0,0), rowspan=5, colspan=1)\n",
    "# ax2 = plt.subplot2grid((6,1), (5,0), rowspan=1, colspan=1,sharex=ax1)\n",
    "# ax1.xaxis_date()"
   ]
  },
  {
   "cell_type": "markdown",
   "id": "7363928b",
   "metadata": {},
   "source": [
    "Everything here you've already seen, except `ax1.xaxis_date()`. What this does for us is converts the axis from the raw mdate numbers to dates.\n",
    "\n",
    "Now we can graph the candlestick graph:"
   ]
  },
  {
   "cell_type": "code",
   "execution_count": 9,
   "id": "69096a22",
   "metadata": {},
   "outputs": [],
   "source": [
    "# candlestick_ohlc(ax1, df_ohlc.values, width=2, colorup='g')"
   ]
  },
  {
   "cell_type": "markdown",
   "id": "630ebde2",
   "metadata": {},
   "source": [
    "Then do volume:"
   ]
  },
  {
   "cell_type": "code",
   "execution_count": 10,
   "id": "46294aee",
   "metadata": {},
   "outputs": [],
   "source": [
    "# ax2.fill_between(df_volume.index.map(mdates.date2num),df_volume.values,0)"
   ]
  },
  {
   "cell_type": "markdown",
   "id": "c98b09f4",
   "metadata": {},
   "source": [
    "The fill_between function will graph x, y, then what to fill to/between. In our case, we're choosing 0."
   ]
  },
  {
   "cell_type": "code",
   "execution_count": 11,
   "id": "9132dff8",
   "metadata": {},
   "outputs": [],
   "source": [
    "# plt.show()"
   ]
  },
  {
   "cell_type": "markdown",
   "id": "e72df12d",
   "metadata": {},
   "source": [
    "***Since we are using `mplfinance`, most of the steps above are not necessary, but we want attach the `volume` to `df_ohlc` to make it easy to plot:***"
   ]
  },
  {
   "cell_type": "code",
   "execution_count": 12,
   "id": "10acd7ff",
   "metadata": {},
   "outputs": [
    {
     "data": {
      "text/html": [
       "<div>\n",
       "<style scoped>\n",
       "    .dataframe tbody tr th:only-of-type {\n",
       "        vertical-align: middle;\n",
       "    }\n",
       "\n",
       "    .dataframe tbody tr th {\n",
       "        vertical-align: top;\n",
       "    }\n",
       "\n",
       "    .dataframe thead th {\n",
       "        text-align: right;\n",
       "    }\n",
       "</style>\n",
       "<table border=\"1\" class=\"dataframe\">\n",
       "  <thead>\n",
       "    <tr style=\"text-align: right;\">\n",
       "      <th></th>\n",
       "      <th>open</th>\n",
       "      <th>high</th>\n",
       "      <th>low</th>\n",
       "      <th>close</th>\n",
       "      <th>volume</th>\n",
       "    </tr>\n",
       "    <tr>\n",
       "      <th>Date</th>\n",
       "      <th></th>\n",
       "      <th></th>\n",
       "      <th></th>\n",
       "      <th></th>\n",
       "      <th></th>\n",
       "    </tr>\n",
       "  </thead>\n",
       "  <tbody>\n",
       "    <tr>\n",
       "      <th>2011-01-03</th>\n",
       "      <td>1.774667</td>\n",
       "      <td>1.896667</td>\n",
       "      <td>1.774667</td>\n",
       "      <td>1.797333</td>\n",
       "      <td>183652500</td>\n",
       "    </tr>\n",
       "    <tr>\n",
       "      <th>2011-01-13</th>\n",
       "      <td>1.748000</td>\n",
       "      <td>1.748000</td>\n",
       "      <td>1.508000</td>\n",
       "      <td>1.536000</td>\n",
       "      <td>141085500</td>\n",
       "    </tr>\n",
       "    <tr>\n",
       "      <th>2011-01-23</th>\n",
       "      <td>1.632667</td>\n",
       "      <td>1.661333</td>\n",
       "      <td>1.594000</td>\n",
       "      <td>1.594000</td>\n",
       "      <td>112180500</td>\n",
       "    </tr>\n",
       "    <tr>\n",
       "      <th>2011-02-02</th>\n",
       "      <td>1.596000</td>\n",
       "      <td>1.632667</td>\n",
       "      <td>1.538000</td>\n",
       "      <td>1.550000</td>\n",
       "      <td>151975500</td>\n",
       "    </tr>\n",
       "    <tr>\n",
       "      <th>2011-02-12</th>\n",
       "      <td>1.538667</td>\n",
       "      <td>1.648667</td>\n",
       "      <td>1.522667</td>\n",
       "      <td>1.545333</td>\n",
       "      <td>170115000</td>\n",
       "    </tr>\n",
       "  </tbody>\n",
       "</table>\n",
       "</div>"
      ],
      "text/plain": [
       "                open      high       low     close     volume\n",
       "Date                                                         \n",
       "2011-01-03  1.774667  1.896667  1.774667  1.797333  183652500\n",
       "2011-01-13  1.748000  1.748000  1.508000  1.536000  141085500\n",
       "2011-01-23  1.632667  1.661333  1.594000  1.594000  112180500\n",
       "2011-02-02  1.596000  1.632667  1.538000  1.550000  151975500\n",
       "2011-02-12  1.538667  1.648667  1.522667  1.545333  170115000"
      ]
     },
     "execution_count": 12,
     "metadata": {},
     "output_type": "execute_result"
    }
   ],
   "source": [
    "df_ohlc['volume'] = df['Volume'].resample('10D').sum()\n",
    "df_ohlc.head()"
   ]
  },
  {
   "cell_type": "code",
   "execution_count": 13,
   "id": "bc45339d",
   "metadata": {},
   "outputs": [
    {
     "data": {
      "image/png": "[encoded data removed]",
      "text/plain": [
       "<Figure size 1078.12x718.75 with 4 Axes>"
      ]
     },
     "metadata": {},
     "output_type": "display_data"
    }
   ],
   "source": [
    "mpf_colors = mpf.make_marketcolors(up='g', down='r', inherit=True)\n",
    "mpf_style = mpf.make_mpf_style(\n",
    "    marketcolors=mpf_colors,\n",
    "    facecolor='#f0f0f0',\n",
    "    gridstyle='-',\n",
    "    gridaxis='both',\n",
    "    gridcolor='white')\n",
    "mpf.plot(df_ohlc, type='candle', volume=True, style=mpf_style, figratio=(12, 8), figscale=1.25)"
   ]
  },
  {
   "cell_type": "markdown",
   "id": "5de53551",
   "metadata": {},
   "source": [
    "Full code for this tutorial:"
   ]
  },
  {
   "cell_type": "code",
   "execution_count": 14,
   "id": "5e6b876f",
   "metadata": {},
   "outputs": [
    {
     "data": {
      "image/png": "[encoded data removed]",
      "text/plain": [
       "<Figure size 1078.12x718.75 with 4 Axes>"
      ]
     },
     "metadata": {},
     "output_type": "display_data"
    }
   ],
   "source": [
    "import datetime as dt\n",
    "import matplotlib.pyplot as plt\n",
    "from matplotlib import style\n",
    "import pandas as pd\n",
    "style.use('ggplot')\n",
    "\n",
    "df = pd.read_csv('tsla.csv', parse_dates=True, index_col=0)\n",
    "\n",
    "df_ohlc = df['Adj Close'].resample('10D').ohlc()\n",
    "df_ohlc['volume'] = df['Volume'].resample('10D').sum()\n",
    "\n",
    "mpf_colors = mpf.make_marketcolors(up='g', down='r', inherit=True)\n",
    "mpf_style = mpf.make_mpf_style(\n",
    "    marketcolors=mpf_colors,\n",
    "    facecolor='#f0f0f0',\n",
    "    gridstyle='-',\n",
    "    gridaxis='both',\n",
    "    gridcolor='white')\n",
    "mpf.plot(df_ohlc, type='candle', volume=True, style=mpf_style, figratio=(12, 8), figscale=1.25)"
   ]
  }
 ],
 "metadata": {
  "kernelspec": {
   "display_name": "Python 3 (ipykernel)",
   "language": "python",
   "name": "python3"
  },
  "language_info": {
   "codemirror_mode": {
    "name": "ipython",
    "version": 3
   },
   "file_extension": ".py",
   "mimetype": "text/x-python",
   "name": "python",
   "nbconvert_exporter": "python",
   "pygments_lexer": "ipython3",
   "version": "3.11.4"
  }
 },
 "nbformat": 4,
 "nbformat_minor": 5
}
