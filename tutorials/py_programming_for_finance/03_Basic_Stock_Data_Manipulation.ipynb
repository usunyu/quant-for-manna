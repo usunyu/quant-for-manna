{
 "cells": [
  {
   "cell_type": "markdown",
   "id": "1bc6ee69",
   "metadata": {},
   "source": [
    "## Basic Stock Data Manipulation\n",
    "\n",
    "https://pythonprogramming.net/stock-data-manipulation-python-programming-for-finance/"
   ]
  },
  {
   "cell_type": "markdown",
   "id": "d1d4958f",
   "metadata": {},
   "source": [
    "Hello and welcome to part 3 of the Python for Finance tutorial series. In this tutorial, we're going to further break down some basic data manipulation and visualizations with our stock data. The starting code that we're going to be using (which was covered in the previous tutorial) is:"
   ]
  },
  {
   "cell_type": "code",
   "execution_count": 1,
   "id": "688ac7fc",
   "metadata": {},
   "outputs": [],
   "source": [
    "import datetime as dt\n",
    "import matplotlib.pyplot as plt\n",
    "from matplotlib import style\n",
    "import pandas as pd\n",
    "import pandas_datareader.data as web\n",
    "style.use('ggplot')\n",
    "\n",
    "df = pd.read_csv('tsla.csv', parse_dates=True, index_col=0)"
   ]
  },
  {
   "cell_type": "markdown",
   "id": "68b041dd",
   "metadata": {},
   "source": [
    "The [Pandas](https://pythonprogramming.net/data-analysis-python-pandas-tutorial-introduction/) module comes equipped with a bunch of built-in functionality that you can leverage, along with ways to [create custom Pandas functions](https://pythonprogramming.net/rolling-apply-mapping-functions-data-analysis-python-pandas-tutorial/). We'll cover some custom functions later, but, for now, let's do a very common operation to this data: Moving Averages.\n",
    "\n",
    "The idea of a simple moving average is to take a window of time, and calculate the average price in that window. Then we shift that window over one period, and do it again. In our case, we'll do a 100 day rolling moving average. So this will take the current price, and the prices from the past 99 days, add them up, divide by 100, and there's your current 100-day moving average. Then we move the window over 1 day, and do the same thing again. Doing this in Pandas is as simple as:"
   ]
  },
  {
   "cell_type": "code",
   "execution_count": 2,
   "id": "87469511",
   "metadata": {},
   "outputs": [],
   "source": [
    "df['100ma'] = df['Adj Close'].rolling(window=100).mean()"
   ]
  },
  {
   "cell_type": "markdown",
   "id": "5c1b2c42",
   "metadata": {},
   "source": [
    "Doing `df['100ma']` allows us to either re-define what comprises an existing column if we had one called `'100ma'` or create a new one, which is what we're doing here. We're saying that the `df['100ma']` column is equal to being the `df['Adj Close']` column with a rolling method applied to it, with a window of 100, and this window is going to be a mean() (average) operation.\n",
    "\n",
    "Now, we could do:"
   ]
  },
  {
   "cell_type": "code",
   "execution_count": 3,
   "id": "2afa7920",
   "metadata": {},
   "outputs": [
    {
     "data": {
      "text/html": [
       "<div>\n",
       "<style scoped>\n",
       "    .dataframe tbody tr th:only-of-type {\n",
       "        vertical-align: middle;\n",
       "    }\n",
       "\n",
       "    .dataframe tbody tr th {\n",
       "        vertical-align: top;\n",
       "    }\n",
       "\n",
       "    .dataframe thead th {\n",
       "        text-align: right;\n",
       "    }\n",
       "</style>\n",
       "<table border=\"1\" class=\"dataframe\">\n",
       "  <thead>\n",
       "    <tr style=\"text-align: right;\">\n",
       "      <th></th>\n",
       "      <th>Open</th>\n",
       "      <th>High</th>\n",
       "      <th>Low</th>\n",
       "      <th>Close</th>\n",
       "      <th>Adj Close</th>\n",
       "      <th>Volume</th>\n",
       "      <th>100ma</th>\n",
       "    </tr>\n",
       "    <tr>\n",
       "      <th>Date</th>\n",
       "      <th></th>\n",
       "      <th></th>\n",
       "      <th></th>\n",
       "      <th></th>\n",
       "      <th></th>\n",
       "      <th></th>\n",
       "      <th></th>\n",
       "    </tr>\n",
       "  </thead>\n",
       "  <tbody>\n",
       "    <tr>\n",
       "      <th>2015-01-02</th>\n",
       "      <td>14.858000</td>\n",
       "      <td>14.883333</td>\n",
       "      <td>14.217333</td>\n",
       "      <td>14.620667</td>\n",
       "      <td>14.620667</td>\n",
       "      <td>71466000</td>\n",
       "      <td>NaN</td>\n",
       "    </tr>\n",
       "    <tr>\n",
       "      <th>2015-01-05</th>\n",
       "      <td>14.303333</td>\n",
       "      <td>14.433333</td>\n",
       "      <td>13.810667</td>\n",
       "      <td>14.006000</td>\n",
       "      <td>14.006000</td>\n",
       "      <td>80527500</td>\n",
       "      <td>NaN</td>\n",
       "    </tr>\n",
       "    <tr>\n",
       "      <th>2015-01-06</th>\n",
       "      <td>14.004000</td>\n",
       "      <td>14.280000</td>\n",
       "      <td>13.614000</td>\n",
       "      <td>14.085333</td>\n",
       "      <td>14.085333</td>\n",
       "      <td>93928500</td>\n",
       "      <td>NaN</td>\n",
       "    </tr>\n",
       "    <tr>\n",
       "      <th>2015-01-07</th>\n",
       "      <td>14.223333</td>\n",
       "      <td>14.318667</td>\n",
       "      <td>13.985333</td>\n",
       "      <td>14.063333</td>\n",
       "      <td>14.063333</td>\n",
       "      <td>44526000</td>\n",
       "      <td>NaN</td>\n",
       "    </tr>\n",
       "    <tr>\n",
       "      <th>2015-01-08</th>\n",
       "      <td>14.187333</td>\n",
       "      <td>14.253333</td>\n",
       "      <td>14.000667</td>\n",
       "      <td>14.041333</td>\n",
       "      <td>14.041333</td>\n",
       "      <td>51637500</td>\n",
       "      <td>NaN</td>\n",
       "    </tr>\n",
       "  </tbody>\n",
       "</table>\n",
       "</div>"
      ],
      "text/plain": [
       "                 Open       High        Low      Close  Adj Close    Volume  \\\n",
       "Date                                                                          \n",
       "2015-01-02  14.858000  14.883333  14.217333  14.620667  14.620667  71466000   \n",
       "2015-01-05  14.303333  14.433333  13.810667  14.006000  14.006000  80527500   \n",
       "2015-01-06  14.004000  14.280000  13.614000  14.085333  14.085333  93928500   \n",
       "2015-01-07  14.223333  14.318667  13.985333  14.063333  14.063333  44526000   \n",
       "2015-01-08  14.187333  14.253333  14.000667  14.041333  14.041333  51637500   \n",
       "\n",
       "            100ma  \n",
       "Date               \n",
       "2015-01-02    NaN  \n",
       "2015-01-05    NaN  \n",
       "2015-01-06    NaN  \n",
       "2015-01-07    NaN  \n",
       "2015-01-08    NaN  "
      ]
     },
     "execution_count": 3,
     "metadata": {},
     "output_type": "execute_result"
    }
   ],
   "source": [
    "df.head()"
   ]
  },
  {
   "cell_type": "markdown",
   "id": "249d5172",
   "metadata": {},
   "source": [
    "What happened? Under the `100ma` column we just see `NaN`. We chose a 100 moving average, which theoretically requires 100 prior datapoints to compute, so we wont have any data here for the first 100 rows. `NaN` means \"Not a Number.\" With Pandas, you can decide to do lots of things with missing data, but, for now, let's actually just change the minimum periods parameter:"
   ]
  },
  {
   "cell_type": "code",
   "execution_count": 4,
   "id": "cd270b37",
   "metadata": {},
   "outputs": [
    {
     "data": {
      "text/html": [
       "<div>\n",
       "<style scoped>\n",
       "    .dataframe tbody tr th:only-of-type {\n",
       "        vertical-align: middle;\n",
       "    }\n",
       "\n",
       "    .dataframe tbody tr th {\n",
       "        vertical-align: top;\n",
       "    }\n",
       "\n",
       "    .dataframe thead th {\n",
       "        text-align: right;\n",
       "    }\n",
       "</style>\n",
       "<table border=\"1\" class=\"dataframe\">\n",
       "  <thead>\n",
       "    <tr style=\"text-align: right;\">\n",
       "      <th></th>\n",
       "      <th>Open</th>\n",
       "      <th>High</th>\n",
       "      <th>Low</th>\n",
       "      <th>Close</th>\n",
       "      <th>Adj Close</th>\n",
       "      <th>Volume</th>\n",
       "      <th>100ma</th>\n",
       "    </tr>\n",
       "    <tr>\n",
       "      <th>Date</th>\n",
       "      <th></th>\n",
       "      <th></th>\n",
       "      <th></th>\n",
       "      <th></th>\n",
       "      <th></th>\n",
       "      <th></th>\n",
       "      <th></th>\n",
       "    </tr>\n",
       "  </thead>\n",
       "  <tbody>\n",
       "    <tr>\n",
       "      <th>2015-01-02</th>\n",
       "      <td>14.858000</td>\n",
       "      <td>14.883333</td>\n",
       "      <td>14.217333</td>\n",
       "      <td>14.620667</td>\n",
       "      <td>14.620667</td>\n",
       "      <td>71466000</td>\n",
       "      <td>14.620667</td>\n",
       "    </tr>\n",
       "    <tr>\n",
       "      <th>2015-01-05</th>\n",
       "      <td>14.303333</td>\n",
       "      <td>14.433333</td>\n",
       "      <td>13.810667</td>\n",
       "      <td>14.006000</td>\n",
       "      <td>14.006000</td>\n",
       "      <td>80527500</td>\n",
       "      <td>14.313334</td>\n",
       "    </tr>\n",
       "    <tr>\n",
       "      <th>2015-01-06</th>\n",
       "      <td>14.004000</td>\n",
       "      <td>14.280000</td>\n",
       "      <td>13.614000</td>\n",
       "      <td>14.085333</td>\n",
       "      <td>14.085333</td>\n",
       "      <td>93928500</td>\n",
       "      <td>14.237333</td>\n",
       "    </tr>\n",
       "    <tr>\n",
       "      <th>2015-01-07</th>\n",
       "      <td>14.223333</td>\n",
       "      <td>14.318667</td>\n",
       "      <td>13.985333</td>\n",
       "      <td>14.063333</td>\n",
       "      <td>14.063333</td>\n",
       "      <td>44526000</td>\n",
       "      <td>14.193833</td>\n",
       "    </tr>\n",
       "    <tr>\n",
       "      <th>2015-01-08</th>\n",
       "      <td>14.187333</td>\n",
       "      <td>14.253333</td>\n",
       "      <td>14.000667</td>\n",
       "      <td>14.041333</td>\n",
       "      <td>14.041333</td>\n",
       "      <td>51637500</td>\n",
       "      <td>14.163333</td>\n",
       "    </tr>\n",
       "  </tbody>\n",
       "</table>\n",
       "</div>"
      ],
      "text/plain": [
       "                 Open       High        Low      Close  Adj Close    Volume  \\\n",
       "Date                                                                          \n",
       "2015-01-02  14.858000  14.883333  14.217333  14.620667  14.620667  71466000   \n",
       "2015-01-05  14.303333  14.433333  13.810667  14.006000  14.006000  80527500   \n",
       "2015-01-06  14.004000  14.280000  13.614000  14.085333  14.085333  93928500   \n",
       "2015-01-07  14.223333  14.318667  13.985333  14.063333  14.063333  44526000   \n",
       "2015-01-08  14.187333  14.253333  14.000667  14.041333  14.041333  51637500   \n",
       "\n",
       "                100ma  \n",
       "Date                   \n",
       "2015-01-02  14.620667  \n",
       "2015-01-05  14.313334  \n",
       "2015-01-06  14.237333  \n",
       "2015-01-07  14.193833  \n",
       "2015-01-08  14.163333  "
      ]
     },
     "execution_count": 4,
     "metadata": {},
     "output_type": "execute_result"
    }
   ],
   "source": [
    "df['100ma'] = df['Adj Close'].rolling(window=100,min_periods=0).mean()\n",
    "df.head()"
   ]
  },
  {
   "cell_type": "markdown",
   "id": "cae2fc2f",
   "metadata": {},
   "source": [
    "Alright, that worked, now we want to see it! But we've already seen simple graphs, how about something slightly more complex?\n",
    "\n",
    "If you want to know more about subplot2grid, check out this [subplots with Matplotlib tutorial](https://pythonprogramming.net/subplot2grid-add_subplot-matplotlib-tutorial/).\n",
    "\n",
    "Basically, we're saying we want to create two subplots, and both subplots are going to act like they're on a 6x1 grid, where we have 6 rows and 1 column. The first subplot starts at (0,0) on that grid, spans 5 rows, and spans 1 column. The next axis is also on a 6x1 grid, but it starts at (5,0), spans 1 row, and 1 column. The 2nd axis also has the sharex=ax1, which means that ax2 will always align its x axis with whatever ax1's is, and visa-versa. Now we just make our plots:"
   ]
  },
  {
   "cell_type": "code",
   "execution_count": 5,
   "id": "9ebcddae",
   "metadata": {},
   "outputs": [
    {
     "data": {
      "image/png": "[encoded data removed]",
      "text/plain": [
       "<Figure size 640x480 with 2 Axes>"
      ]
     },
     "metadata": {},
     "output_type": "display_data"
    }
   ],
   "source": [
    "ax1 = plt.subplot2grid((6,1), (0,0), rowspan=5, colspan=1)\n",
    "ax2 = plt.subplot2grid((6,1), (5,0), rowspan=1, colspan=1, sharex=ax1)\n",
    "\n",
    "ax1.plot(df.index, df['Adj Close'])\n",
    "ax1.plot(df.index, df['100ma'])\n",
    "ax2.bar(df.index, df['Volume'])\n",
    "\n",
    "plt.show()"
   ]
  },
  {
   "cell_type": "markdown",
   "id": "a9767aa1",
   "metadata": {},
   "source": [
    "Full code up to this point:"
   ]
  },
  {
   "cell_type": "code",
   "execution_count": 6,
   "id": "15125a39",
   "metadata": {},
   "outputs": [
    {
     "data": {
      "text/html": [
       "<div>\n",
       "<style scoped>\n",
       "    .dataframe tbody tr th:only-of-type {\n",
       "        vertical-align: middle;\n",
       "    }\n",
       "\n",
       "    .dataframe tbody tr th {\n",
       "        vertical-align: top;\n",
       "    }\n",
       "\n",
       "    .dataframe thead th {\n",
       "        text-align: right;\n",
       "    }\n",
       "</style>\n",
       "<table border=\"1\" class=\"dataframe\">\n",
       "  <thead>\n",
       "    <tr style=\"text-align: right;\">\n",
       "      <th></th>\n",
       "      <th>Open</th>\n",
       "      <th>High</th>\n",
       "      <th>Low</th>\n",
       "      <th>Close</th>\n",
       "      <th>Adj Close</th>\n",
       "      <th>Volume</th>\n",
       "      <th>100ma</th>\n",
       "    </tr>\n",
       "    <tr>\n",
       "      <th>Date</th>\n",
       "      <th></th>\n",
       "      <th></th>\n",
       "      <th></th>\n",
       "      <th></th>\n",
       "      <th></th>\n",
       "      <th></th>\n",
       "      <th></th>\n",
       "    </tr>\n",
       "  </thead>\n",
       "  <tbody>\n",
       "    <tr>\n",
       "      <th>2015-01-02</th>\n",
       "      <td>14.858000</td>\n",
       "      <td>14.883333</td>\n",
       "      <td>14.217333</td>\n",
       "      <td>14.620667</td>\n",
       "      <td>14.620667</td>\n",
       "      <td>71466000</td>\n",
       "      <td>14.620667</td>\n",
       "    </tr>\n",
       "    <tr>\n",
       "      <th>2015-01-05</th>\n",
       "      <td>14.303333</td>\n",
       "      <td>14.433333</td>\n",
       "      <td>13.810667</td>\n",
       "      <td>14.006000</td>\n",
       "      <td>14.006000</td>\n",
       "      <td>80527500</td>\n",
       "      <td>14.313334</td>\n",
       "    </tr>\n",
       "    <tr>\n",
       "      <th>2015-01-06</th>\n",
       "      <td>14.004000</td>\n",
       "      <td>14.280000</td>\n",
       "      <td>13.614000</td>\n",
       "      <td>14.085333</td>\n",
       "      <td>14.085333</td>\n",
       "      <td>93928500</td>\n",
       "      <td>14.237333</td>\n",
       "    </tr>\n",
       "    <tr>\n",
       "      <th>2015-01-07</th>\n",
       "      <td>14.223333</td>\n",
       "      <td>14.318667</td>\n",
       "      <td>13.985333</td>\n",
       "      <td>14.063333</td>\n",
       "      <td>14.063333</td>\n",
       "      <td>44526000</td>\n",
       "      <td>14.193833</td>\n",
       "    </tr>\n",
       "    <tr>\n",
       "      <th>2015-01-08</th>\n",
       "      <td>14.187333</td>\n",
       "      <td>14.253333</td>\n",
       "      <td>14.000667</td>\n",
       "      <td>14.041333</td>\n",
       "      <td>14.041333</td>\n",
       "      <td>51637500</td>\n",
       "      <td>14.163333</td>\n",
       "    </tr>\n",
       "  </tbody>\n",
       "</table>\n",
       "</div>"
      ],
      "text/plain": [
       "                 Open       High        Low      Close  Adj Close    Volume  \\\n",
       "Date                                                                          \n",
       "2015-01-02  14.858000  14.883333  14.217333  14.620667  14.620667  71466000   \n",
       "2015-01-05  14.303333  14.433333  13.810667  14.006000  14.006000  80527500   \n",
       "2015-01-06  14.004000  14.280000  13.614000  14.085333  14.085333  93928500   \n",
       "2015-01-07  14.223333  14.318667  13.985333  14.063333  14.063333  44526000   \n",
       "2015-01-08  14.187333  14.253333  14.000667  14.041333  14.041333  51637500   \n",
       "\n",
       "                100ma  \n",
       "Date                   \n",
       "2015-01-02  14.620667  \n",
       "2015-01-05  14.313334  \n",
       "2015-01-06  14.237333  \n",
       "2015-01-07  14.193833  \n",
       "2015-01-08  14.163333  "
      ]
     },
     "metadata": {},
     "output_type": "display_data"
    },
    {
     "data": {
      "image/png": "[encoded data removed]",
      "text/plain": [
       "<Figure size 640x480 with 2 Axes>"
      ]
     },
     "metadata": {},
     "output_type": "display_data"
    }
   ],
   "source": [
    "import datetime as dt\n",
    "import matplotlib.pyplot as plt\n",
    "from matplotlib import style\n",
    "import pandas as pd\n",
    "import pandas_datareader.data as web\n",
    "from IPython.display import display\n",
    "style.use('ggplot')\n",
    "\n",
    "df = pd.read_csv('tsla.csv', parse_dates=True, index_col=0)\n",
    "df['100ma'] = df['Adj Close'].rolling(window=100, min_periods=0).mean()\n",
    "display(df.head())\n",
    "\n",
    "ax1 = plt.subplot2grid((6,1), (0,0), rowspan=5, colspan=1)\n",
    "ax2 = plt.subplot2grid((6,1), (5,0), rowspan=1, colspan=1, sharex=ax1)\n",
    "\n",
    "ax1.plot(df.index, df['Adj Close'])\n",
    "ax1.plot(df.index, df['100ma'])\n",
    "ax2.bar(df.index, df['Volume'])\n",
    "\n",
    "plt.show()"
   ]
  },
  {
   "cell_type": "markdown",
   "id": "dcc9d7da",
   "metadata": {},
   "source": [
    "In the next few tutorial, we'll learn how to make a candlestick graph via a Pandas resample of the data, and learn a bit more on working with Matplotlib."
   ]
  }
 ],
 "metadata": {
  "kernelspec": {
   "display_name": "Python 3 (ipykernel)",
   "language": "python",
   "name": "python3"
  },
  "language_info": {
   "codemirror_mode": {
    "name": "ipython",
    "version": 3
   },
   "file_extension": ".py",
   "mimetype": "text/x-python",
   "name": "python",
   "nbconvert_exporter": "python",
   "pygments_lexer": "ipython3",
   "version": "3.11.4"
  }
 },
 "nbformat": 4,
 "nbformat_minor": 5
}
