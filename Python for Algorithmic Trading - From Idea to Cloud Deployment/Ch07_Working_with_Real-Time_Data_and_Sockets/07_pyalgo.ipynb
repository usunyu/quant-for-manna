{
 "cells": [
  {
   "cell_type": "markdown",
   "metadata": {},
   "source": [
    "<img src=\"http://hilpisch.com/tpq_logo.png\" alt=\"The Python Quants\" width=\"35%\" align=\"right\" border=\"0\"><br>"
   ]
  },
  {
   "cell_type": "markdown",
   "metadata": {},
   "source": [
    "# Python for Algorithmic Trading "
   ]
  },
  {
   "cell_type": "markdown",
   "metadata": {},
   "source": [
    "**Chapter 07 &mdash; Working with Real-Time Data and Sockets**"
   ]
  },
  {
   "cell_type": "markdown",
   "metadata": {},
   "source": [
    "## Visualizing Streaming Data with Plotly"
   ]
  },
  {
   "cell_type": "markdown",
   "metadata": {},
   "source": [
    "### The Basics"
   ]
  },
  {
   "cell_type": "code",
   "execution_count": 1,
   "metadata": {},
   "outputs": [],
   "source": [
    "import zmq\n",
    "from datetime import datetime\n",
    "import plotly.graph_objects as go"
   ]
  },
  {
   "cell_type": "code",
   "execution_count": 2,
   "metadata": {},
   "outputs": [],
   "source": [
    "symbol = 'SYMBOL'"
   ]
  },
  {
   "cell_type": "code",
   "execution_count": 3,
   "metadata": {},
   "outputs": [
    {
     "data": {
      "application/vnd.jupyter.widget-view+json": {
       "model_id": "4c2a6579a1b24f6f866dc5d63798c178",
       "version_major": 2,
       "version_minor": 0
      },
      "text/plain": [
       "FigureWidget({\n",
       "    'data': [{'type': 'scatter', 'uid': '57663ff7-26e6-4784-8734-d435737372ea'}], 'layout': {'template': '...'}\n",
       "})"
      ]
     },
     "execution_count": 3,
     "metadata": {},
     "output_type": "execute_result"
    }
   ],
   "source": [
    "fig = go.FigureWidget()\n",
    "fig.add_scatter()\n",
    "fig"
   ]
  },
  {
   "cell_type": "code",
   "execution_count": 4,
   "metadata": {},
   "outputs": [],
   "source": [
    "context = zmq.Context()"
   ]
  },
  {
   "cell_type": "code",
   "execution_count": 5,
   "metadata": {},
   "outputs": [],
   "source": [
    "socket = context.socket(zmq.SUB)"
   ]
  },
  {
   "cell_type": "code",
   "execution_count": 6,
   "metadata": {},
   "outputs": [
    {
     "data": {
      "text/plain": [
       "<SocketContext(connect='tcp://0.0.0.0:5555')>"
      ]
     },
     "execution_count": 6,
     "metadata": {},
     "output_type": "execute_result"
    }
   ],
   "source": [
    "socket.connect('tcp://0.0.0.0:5555')"
   ]
  },
  {
   "cell_type": "code",
   "execution_count": 7,
   "metadata": {},
   "outputs": [],
   "source": [
    "socket.setsockopt_string(zmq.SUBSCRIBE, 'SYMBOL')"
   ]
  },
  {
   "cell_type": "code",
   "execution_count": 8,
   "metadata": {},
   "outputs": [],
   "source": [
    "times = list()\n",
    "prices = list()"
   ]
  },
  {
   "cell_type": "code",
   "execution_count": 9,
   "metadata": {},
   "outputs": [],
   "source": [
    "for _ in range(50):\n",
    "    msg = socket.recv_string()\n",
    "    t = datetime.now()\n",
    "    times.append(t)\n",
    "    _, price = msg.split()\n",
    "    prices.append(float(price))\n",
    "    fig.data[0].x = times\n",
    "    fig.data[0].y = prices"
   ]
  },
  {
   "cell_type": "code",
   "execution_count": 10,
   "metadata": {},
   "outputs": [
    {
     "data": {
      "application/vnd.jupyter.widget-view+json": {
       "model_id": "2be1c0a14c924e2aa4d0879793e596ee",
       "version_major": 2,
       "version_minor": 0
      },
      "text/plain": [
       "FigureWidget({\n",
       "    'data': [{'name': 'SYMBOL', 'type': 'scatter', 'uid': '89a602ed-4539-4801-bf00-ebe84493699b'},\n",
       "             {'line': {'dash': 'dot', 'width': 1},\n",
       "              'mode': 'lines+markers',\n",
       "              'name': 'SMA1',\n",
       "              'type': 'scatter',\n",
       "              'uid': 'a2176055-36bf-46d7-9ec0-2d4eb17dad5c'},\n",
       "             {'line': {'dash': 'dash', 'width': 1},\n",
       "              'mode': 'lines+markers',\n",
       "              'name': 'SMA2',\n",
       "              'type': 'scatter',\n",
       "              'uid': '11ba82f8-1d47-49d0-a47d-a927bb4c254a'}],\n",
       "    'layout': {'template': '...'}\n",
       "})"
      ]
     },
     "execution_count": 10,
     "metadata": {},
     "output_type": "execute_result"
    }
   ],
   "source": [
    "fig = go.FigureWidget()\n",
    "fig.add_scatter(name='SYMBOL')\n",
    "fig.add_scatter(name='SMA1', line=dict(width=1, dash='dot'),\n",
    "                mode='lines+markers')\n",
    "fig.add_scatter(name='SMA2', line=dict(width=1, dash='dash'),\n",
    "                mode='lines+markers')\n",
    "fig"
   ]
  },
  {
   "cell_type": "code",
   "execution_count": 11,
   "metadata": {},
   "outputs": [],
   "source": [
    "import pandas as pd"
   ]
  },
  {
   "cell_type": "code",
   "execution_count": 12,
   "metadata": {},
   "outputs": [],
   "source": [
    "df = pd.DataFrame()"
   ]
  },
  {
   "cell_type": "code",
   "execution_count": 13,
   "metadata": {},
   "outputs": [],
   "source": [
    "for _ in range(75):\n",
    "    msg = socket.recv_string()\n",
    "    t = datetime.now()\n",
    "    sym, price = msg.split()\n",
    "    # df = df.append(pd.DataFrame({sym: float(price)}, index=[t]))\n",
    "    df = pd.concat([df, pd.DataFrame({sym: float(price)}, index=[t])])\n",
    "    df['SMA1'] = df[sym].rolling(5).mean()\n",
    "    df['SMA2'] = df[sym].rolling(10).mean()\n",
    "    fig.data[0].x = df.index\n",
    "    fig.data[1].x = df.index\n",
    "    fig.data[2].x = df.index\n",
    "    fig.data[0].y = df[sym]\n",
    "    fig.data[1].y = df['SMA1']\n",
    "    fig.data[2].y = df['SMA2']"
   ]
  },
  {
   "cell_type": "code",
   "execution_count": 14,
   "metadata": {},
   "outputs": [],
   "source": [
    "from plotly.subplots import make_subplots"
   ]
  },
  {
   "cell_type": "code",
   "execution_count": 15,
   "metadata": {},
   "outputs": [],
   "source": [
    "f = make_subplots(rows=3, cols=1, shared_xaxes=True)\n",
    "f.append_trace(go.Scatter(name='SYMBOL'), row=1, col=1)\n",
    "f.append_trace(go.Scatter(name='RETURN', line=dict(width=1, dash='dot'),\n",
    "                mode='lines+markers', marker={'symbol': 'triangle-up'}),\n",
    "                row=2, col=1)\n",
    "f.append_trace(go.Scatter(name='MOMENTUM', line=dict(width=1, dash='dash'),\n",
    "                mode='lines+markers', marker={'symbol': 'x'}), row=3, col=1)\n",
    "# f.update_layout(height=600)"
   ]
  },
  {
   "cell_type": "code",
   "execution_count": 16,
   "metadata": {},
   "outputs": [],
   "source": [
    "fig = go.FigureWidget(f)"
   ]
  },
  {
   "cell_type": "code",
   "execution_count": 17,
   "metadata": {},
   "outputs": [
    {
     "data": {
      "application/vnd.jupyter.widget-view+json": {
       "model_id": "bc22527f8bf44e1988d8241708dc1484",
       "version_major": 2,
       "version_minor": 0
      },
      "text/plain": [
       "FigureWidget({\n",
       "    'data': [{'name': 'SYMBOL',\n",
       "              'type': 'scatter',\n",
       "              'uid': '3b9dba63-9200-4fb3-9b9b-6e7ede531f72',\n",
       "              'xaxis': 'x',\n",
       "              'yaxis': 'y'},\n",
       "             {'line': {'dash': 'dot', 'width': 1},\n",
       "              'marker': {'symbol': 'triangle-up'},\n",
       "              'mode': 'lines+markers',\n",
       "              'name': 'RETURN',\n",
       "              'type': 'scatter',\n",
       "              'uid': '6fd845dd-ecdc-453e-8ae9-2a2cca0730c4',\n",
       "              'xaxis': 'x2',\n",
       "              'yaxis': 'y2'},\n",
       "             {'line': {'dash': 'dash', 'width': 1},\n",
       "              'marker': {'symbol': 'x'},\n",
       "              'mode': 'lines+markers',\n",
       "              'name': 'MOMENTUM',\n",
       "              'type': 'scatter',\n",
       "              'uid': 'e22ba656-caec-4fc8-b41b-0785748b6d97',\n",
       "              'xaxis': 'x3',\n",
       "              'yaxis': 'y3'}],\n",
       "    'layout': {'template': '...',\n",
       "               'xaxis': {'anchor': 'y', 'domain': [0.0, 1.0], 'matches': 'x3', 'showticklabels': False},\n",
       "               'xaxis2': {'anchor': 'y2', 'domain': [0.0, 1.0], 'matches': 'x3', 'showticklabels': False},\n",
       "               'xaxis3': {'anchor': 'y3', 'domain': [0.0, 1.0]},\n",
       "               'yaxis': {'anchor': 'x', 'domain': [0.7333333333333333, 1.0]},\n",
       "               'yaxis2': {'anchor': 'x2', 'domain': [0.36666666666666664, 0.6333333333333333]},\n",
       "               'yaxis3': {'anchor': 'x3', 'domain': [0.0, 0.26666666666666666]}}\n",
       "})"
      ]
     },
     "execution_count": 17,
     "metadata": {},
     "output_type": "execute_result"
    }
   ],
   "source": [
    "fig"
   ]
  },
  {
   "cell_type": "code",
   "execution_count": 18,
   "metadata": {},
   "outputs": [],
   "source": [
    "import numpy as np"
   ]
  },
  {
   "cell_type": "code",
   "execution_count": 19,
   "metadata": {},
   "outputs": [],
   "source": [
    "df = pd.DataFrame()"
   ]
  },
  {
   "cell_type": "code",
   "execution_count": 20,
   "metadata": {},
   "outputs": [],
   "source": [
    "for _ in range(75):\n",
    "    msg = socket.recv_string()\n",
    "    t = datetime.now()\n",
    "    sym, price = msg.split()\n",
    "    # df = df.append(pd.DataFrame({sym: float(price)}, index=[t]))\n",
    "    df = pd.concat([df, pd.DataFrame({sym: float(price)}, index=[t])])\n",
    "    df['RET'] = np.log(df[sym] / df[sym].shift(1))\n",
    "    df['MOM'] = df['RET'].rolling(10).mean()\n",
    "    fig.data[0].x = df.index\n",
    "    fig.data[1].x = df.index\n",
    "    fig.data[2].x = df.index\n",
    "    fig.data[0].y = df[sym]\n",
    "    fig.data[1].y = df['RET']\n",
    "    fig.data[2].y = df['MOM']"
   ]
  },
  {
   "cell_type": "code",
   "execution_count": 21,
   "metadata": {},
   "outputs": [],
   "source": [
    "socket = context.socket(zmq.SUB)"
   ]
  },
  {
   "cell_type": "code",
   "execution_count": 22,
   "metadata": {},
   "outputs": [
    {
     "data": {
      "text/plain": [
       "<SocketContext(connect='tcp://0.0.0.0:5556')>"
      ]
     },
     "execution_count": 22,
     "metadata": {},
     "output_type": "execute_result"
    }
   ],
   "source": [
    "socket.connect('tcp://0.0.0.0:5556')"
   ]
  },
  {
   "cell_type": "code",
   "execution_count": 23,
   "metadata": {},
   "outputs": [],
   "source": [
    "socket.setsockopt_string(zmq.SUBSCRIBE, '')"
   ]
  },
  {
   "cell_type": "code",
   "execution_count": 24,
   "metadata": {},
   "outputs": [
    {
     "name": "stdout",
     "output_type": "stream",
     "text": [
      "20.771 69.968 56.450 11.939 64.297 29.343 42.722 6.290\n",
      "6.815 76.054 86.808 77.359 9.411 77.443 81.603 69.970\n",
      "69.953 88.998 33.314 10.501 12.157 8.253 99.523 42.205\n",
      "63.269 34.353 50.844 50.410 57.786 64.742 53.547 32.064\n",
      "36.197 57.831 82.870 1.465 46.714 92.598 78.228 2.097\n"
     ]
    }
   ],
   "source": [
    "for _ in range(5):\n",
    "    msg = socket.recv_string()\n",
    "    print(msg)"
   ]
  },
  {
   "cell_type": "code",
   "execution_count": 25,
   "metadata": {},
   "outputs": [
    {
     "data": {
      "application/vnd.jupyter.widget-view+json": {
       "model_id": "a045a969507c4281a866c1019aeae0bb",
       "version_major": 2,
       "version_minor": 0
      },
      "text/plain": [
       "FigureWidget({\n",
       "    'data': [{'type': 'bar', 'uid': 'f3f31968-2c92-47a0-9b5e-4be4d58215df'}], 'layout': {'template': '...'}\n",
       "})"
      ]
     },
     "execution_count": 25,
     "metadata": {},
     "output_type": "execute_result"
    }
   ],
   "source": [
    "fig = go.FigureWidget()\n",
    "fig.add_bar()\n",
    "fig"
   ]
  },
  {
   "cell_type": "code",
   "execution_count": 26,
   "metadata": {},
   "outputs": [],
   "source": [
    "x = list('abcdefgh')\n",
    "fig.data[0].x = x\n",
    "for _ in range(100):\n",
    "    msg = socket.recv_string()\n",
    "    y = msg.split()\n",
    "    y = [float(n) for n in y]\n",
    "    fig.data[0].y = y"
   ]
  },
  {
   "cell_type": "markdown",
   "metadata": {},
   "source": [
    "<img src=\"http://hilpisch.com/tpq_logo.png\" alt=\"The Python Quants\" width=\"35%\" align=\"right\" border=\"0\"><br>\n",
    "\n",
    "<a href=\"http://tpq.io\" target=\"_blank\">http://tpq.io</a> | <a href=\"http://twitter.com/dyjh\" target=\"_blank\">@dyjh</a> | <a href=\"mailto:training@tpq.io\">training@tpq.io</a>"
   ]
  }
 ],
 "metadata": {
  "anaconda-cloud": {},
  "kernelspec": {
   "display_name": "Python 3 (ipykernel)",
   "language": "python",
   "name": "python3"
  },
  "language_info": {
   "codemirror_mode": {
    "name": "ipython",
    "version": 3
   },
   "file_extension": ".py",
   "mimetype": "text/x-python",
   "name": "python",
   "nbconvert_exporter": "python",
   "pygments_lexer": "ipython3",
   "version": "3.11.4"
  }
 },
 "nbformat": 4,
 "nbformat_minor": 4
}
