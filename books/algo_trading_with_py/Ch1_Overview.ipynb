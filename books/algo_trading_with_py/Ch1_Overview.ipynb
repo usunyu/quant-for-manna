{
 "cells": [
  {
   "cell_type": "markdown",
   "id": "6e05346c",
   "metadata": {},
   "source": [
    "### 1.1 Type Hinting Examples"
   ]
  },
  {
   "cell_type": "code",
   "execution_count": 1,
   "id": "c02c24f1",
   "metadata": {},
   "outputs": [],
   "source": [
    "from typing import List, Dict, Tuple, Any\n",
    "import numpy as np\n",
    "import datetime"
   ]
  },
  {
   "cell_type": "code",
   "execution_count": 2,
   "id": "1f0859fe",
   "metadata": {},
   "outputs": [
    {
     "data": {
      "text/plain": [
       "[0.0, 1.23, 2.46, 3.69, 4.92, 6.15, 7.38, 8.61, 9.84, 11.07]"
      ]
     },
     "execution_count": 2,
     "metadata": {},
     "output_type": "execute_result"
    }
   ],
   "source": [
    "# A list of floating point numbers\n",
    "v: List[float] = [i * 1.23 for i in range(10)]\n",
    "v"
   ]
  },
  {
   "cell_type": "code",
   "execution_count": 3,
   "id": "8e50bf44",
   "metadata": {},
   "outputs": [
    {
     "data": {
      "text/plain": [
       "['apple', 123, 'banana', None]"
      ]
     },
     "execution_count": 3,
     "metadata": {},
     "output_type": "execute_result"
    }
   ],
   "source": [
    "# A list of mixed type values\n",
    "v: List[Any] = ['apple', 123, 'banana', None]\n",
    "v"
   ]
  },
  {
   "cell_type": "code",
   "execution_count": 4,
   "id": "fb1b9764",
   "metadata": {},
   "outputs": [
    {
     "data": {
      "text/plain": [
       "{datetime.date(2023, 8, 20): 123.456, datetime.date(2000, 1, 1): 234.567}"
      ]
     },
     "execution_count": 4,
     "metadata": {},
     "output_type": "execute_result"
    }
   ],
   "source": [
    "# A dictionary of floats indexed by dates\n",
    "v: Dict[datetime.date, float] = {\n",
    "    datetime.date.today(): 123.456,\n",
    "    datetime.date(2000, 1, 1): 234.567,\n",
    "}\n",
    "v"
   ]
  },
  {
   "cell_type": "code",
   "execution_count": 5,
   "id": "86b8d0f2",
   "metadata": {},
   "outputs": [
    {
     "data": {
      "text/plain": [
       "{(2, 3): ['apple', 'banana'], (4, 7): ['orange', 'pineapple']}"
      ]
     },
     "execution_count": 5,
     "metadata": {},
     "output_type": "execute_result"
    }
   ],
   "source": [
    "# A dictionary of lists of strings indexed by tuples of integers\n",
    "v: Dict[Tuple[int, int], List[str]] = {\n",
    "    (2, 3): [\n",
    "        'apple', \n",
    "        'banana',\n",
    "    ],\n",
    "    (4, 7): [\n",
    "        'orange',\n",
    "        'pineapple',\n",
    "    ]\n",
    "}\n",
    "v"
   ]
  },
  {
   "cell_type": "code",
   "execution_count": 6,
   "id": "2e69cbdd",
   "metadata": {},
   "outputs": [
    {
     "data": {
      "text/plain": [
       "[1, 2, 3]"
      ]
     },
     "execution_count": 6,
     "metadata": {},
     "output_type": "execute_result"
    }
   ],
   "source": [
    "# An incorrect type hint\n",
    "# Your compiler or IDE might complain about this\n",
    "v: List[str] = [1, 2, 3]\n",
    "v"
   ]
  },
  {
   "cell_type": "code",
   "execution_count": 7,
   "id": "5e9adf0a",
   "metadata": {},
   "outputs": [
    {
     "data": {
      "text/plain": [
       "[1, None, 3, None, 5]"
      ]
     },
     "execution_count": 7,
     "metadata": {},
     "output_type": "execute_result"
    }
   ],
   "source": [
    "# A possibly incorrect type hint\n",
    "# There is no concensus on whether or not this is correct\n",
    "v: List[float] = [1, None, 3, None, 5]\n",
    "v"
   ]
  },
  {
   "cell_type": "code",
   "execution_count": 8,
   "id": "afe0a6b8",
   "metadata": {},
   "outputs": [
    {
     "data": {
      "text/plain": [
       "[(1, 2, 'a'), (4, 5, 'b')]"
      ]
     },
     "execution_count": 8,
     "metadata": {},
     "output_type": "execute_result"
    }
   ],
   "source": [
    "# This is non-descript but correct\n",
    "v: List = [(1,2,'a'), (4,5,'b')]\n",
    "v"
   ]
  },
  {
   "cell_type": "code",
   "execution_count": 9,
   "id": "6f950cfa",
   "metadata": {},
   "outputs": [
    {
     "data": {
      "text/plain": [
       "[(1, 2, 'a'), (4, 5, 'b')]"
      ]
     },
     "execution_count": 9,
     "metadata": {},
     "output_type": "execute_result"
    }
   ],
   "source": [
    "# This is more descriptive\n",
    "v: List[Tuple[int, int, str]] = [(1,2,'a'), (4,5,'b')]\n",
    "v"
   ]
  },
  {
   "cell_type": "code",
   "execution_count": 10,
   "id": "abed3ae5",
   "metadata": {},
   "outputs": [
    {
     "data": {
      "text/plain": [
       "'AAPL'"
      ]
     },
     "execution_count": 10,
     "metadata": {},
     "output_type": "execute_result"
    }
   ],
   "source": [
    "# Custom types are supported\n",
    "from typing import NewType\n",
    "StockTicker = NewType('StockTicker', np.float64)\n",
    "ticker: StockTicker = 'AAPL'\n",
    "ticker"
   ]
  },
  {
   "cell_type": "code",
   "execution_count": 11,
   "id": "d021a3ba",
   "metadata": {},
   "outputs": [],
   "source": [
    "# Functions can define input and return types\n",
    "def convert_to_string(value: Any) -> str:\n",
    "    return str(value)"
   ]
  },
  {
   "cell_type": "markdown",
   "id": "2b03bc9b",
   "metadata": {},
   "source": [
    "### 1.2 Pandas Data Types"
   ]
  },
  {
   "cell_type": "code",
   "execution_count": 12,
   "id": "a64189a6",
   "metadata": {},
   "outputs": [],
   "source": [
    "import pandas as pd\n",
    "import datetime"
   ]
  },
  {
   "cell_type": "code",
   "execution_count": 13,
   "id": "ac421805",
   "metadata": {},
   "outputs": [
    {
     "data": {
      "text/html": [
       "<div>\n",
       "<style scoped>\n",
       "    .dataframe tbody tr th:only-of-type {\n",
       "        vertical-align: middle;\n",
       "    }\n",
       "\n",
       "    .dataframe tbody tr th {\n",
       "        vertical-align: top;\n",
       "    }\n",
       "\n",
       "    .dataframe thead th {\n",
       "        text-align: right;\n",
       "    }\n",
       "</style>\n",
       "<table border=\"1\" class=\"dataframe\">\n",
       "  <thead>\n",
       "    <tr style=\"text-align: right;\">\n",
       "      <th></th>\n",
       "      <th>SPY</th>\n",
       "      <th>AAPL</th>\n",
       "    </tr>\n",
       "  </thead>\n",
       "  <tbody>\n",
       "    <tr>\n",
       "      <th>2000-01-04</th>\n",
       "      <td>100</td>\n",
       "      <td>300</td>\n",
       "    </tr>\n",
       "    <tr>\n",
       "      <th>2000-01-05</th>\n",
       "      <td>101</td>\n",
       "      <td>303</td>\n",
       "    </tr>\n",
       "  </tbody>\n",
       "</table>\n",
       "</div>"
      ],
      "text/plain": [
       "            SPY  AAPL\n",
       "2000-01-04  100   300\n",
       "2000-01-05  101   303"
      ]
     },
     "execution_count": 13,
     "metadata": {},
     "output_type": "execute_result"
    }
   ],
   "source": [
    "data = {\n",
    "    'SPY': {\n",
    "        datetime.date(2000, 1, 4): 100,\n",
    "        datetime.date(2000, 1, 5): 101,\n",
    "    },\n",
    "    'AAPL': {\n",
    "        datetime.date(2000, 1, 4): 300,\n",
    "        datetime.date(2000, 1, 5): 303,\n",
    "    },\n",
    "}\n",
    "df: pd.DataFrame = pd.DataFrame(data=data)\n",
    "df"
   ]
  },
  {
   "cell_type": "code",
   "execution_count": 14,
   "id": "2e480ada",
   "metadata": {},
   "outputs": [
    {
     "data": {
      "text/plain": [
       "2000-01-04    300\n",
       "2000-01-05    303\n",
       "Name: AAPL, dtype: int64"
      ]
     },
     "execution_count": 14,
     "metadata": {},
     "output_type": "execute_result"
    }
   ],
   "source": [
    "# Index by column\n",
    "aapl_series: pd.Series = df['AAPL']\n",
    "aapl_series"
   ]
  },
  {
   "cell_type": "code",
   "execution_count": 15,
   "id": "fd13fe67",
   "metadata": {},
   "outputs": [
    {
     "data": {
      "text/plain": [
       "SPY     100\n",
       "AAPL    300\n",
       "Name: 2000-01-04, dtype: int64"
      ]
     },
     "execution_count": 15,
     "metadata": {},
     "output_type": "execute_result"
    }
   ],
   "source": [
    "# Index by row\n",
    "start_of_year_row: pd.Series = df.loc[datetime.date(2000, 1, 4)]\n",
    "start_of_year_row"
   ]
  },
  {
   "cell_type": "code",
   "execution_count": 16,
   "id": "45704635",
   "metadata": {},
   "outputs": [
    {
     "data": {
      "text/plain": [
       "300"
      ]
     },
     "execution_count": 16,
     "metadata": {},
     "output_type": "execute_result"
    }
   ],
   "source": [
    "# Index by both\n",
    "start_of_year_price: pd.Series = df['AAPL'][datetime.date(2000, 1, 4)]\n",
    "start_of_year_price"
   ]
  },
  {
   "cell_type": "markdown",
   "id": "ac104651",
   "metadata": {},
   "source": [
    "### 1.3 Pandas Data Types Part 2"
   ]
  },
  {
   "cell_type": "code",
   "execution_count": 17,
   "id": "bf36a994",
   "metadata": {},
   "outputs": [
    {
     "data": {
      "text/plain": [
       "2000-01-04    100\n",
       "2000-01-05    101\n",
       "dtype: int64"
      ]
     },
     "execution_count": 17,
     "metadata": {},
     "output_type": "execute_result"
    }
   ],
   "source": [
    "# Create a series\n",
    "series = pd.Series(data=data['SPY'])\n",
    "series"
   ]
  },
  {
   "cell_type": "markdown",
   "id": "0fc02919",
   "metadata": {},
   "source": [
    "### 1.4 Pandas Indexes"
   ]
  },
  {
   "cell_type": "code",
   "execution_count": 18,
   "id": "a22d5ae0",
   "metadata": {},
   "outputs": [
    {
     "data": {
      "text/plain": [
       "2000-01-01      1\n",
       "2000-01-02      4\n",
       "2000-01-03      9\n",
       "2000-01-04     16\n",
       "2000-01-05     25\n",
       "2000-01-06     36\n",
       "2000-01-07     49\n",
       "2000-01-08     64\n",
       "2000-01-09     81\n",
       "2000-01-10    100\n",
       "dtype: int64"
      ]
     },
     "execution_count": 18,
     "metadata": {},
     "output_type": "execute_result"
    }
   ],
   "source": [
    "### Begin listing\n",
    "\n",
    "dates = [datetime.date(2000, 1, i) for i in range(1, 11)]\n",
    "values = [i**2 for i in range(1, 11)]\n",
    "series = pd.Series(data=values, index=dates)\n",
    "series"
   ]
  },
  {
   "cell_type": "code",
   "execution_count": 19,
   "id": "359f0776",
   "metadata": {},
   "outputs": [
    {
     "data": {
      "text/plain": [
       "True"
      ]
     },
     "execution_count": 19,
     "metadata": {},
     "output_type": "execute_result"
    }
   ],
   "source": [
    "# O(n) time complexity search through a list\n",
    "datetime.date(2000, 1, 5) in dates"
   ]
  },
  {
   "cell_type": "code",
   "execution_count": 20,
   "id": "7ca34428",
   "metadata": {},
   "outputs": [
    {
     "data": {
      "text/plain": [
       "True"
      ]
     },
     "execution_count": 20,
     "metadata": {},
     "output_type": "execute_result"
    }
   ],
   "source": [
    "# O(1) time complexity search through an index\n",
    "datetime.date(2000, 1, 5) in series.index"
   ]
  }
 ],
 "metadata": {
  "kernelspec": {
   "display_name": "Python 3 (ipykernel)",
   "language": "python",
   "name": "python3"
  },
  "language_info": {
   "codemirror_mode": {
    "name": "ipython",
    "version": 3
   },
   "file_extension": ".py",
   "mimetype": "text/x-python",
   "name": "python",
   "nbconvert_exporter": "python",
   "pygments_lexer": "ipython3",
   "version": "3.11.4"
  }
 },
 "nbformat": 4,
 "nbformat_minor": 5
}
