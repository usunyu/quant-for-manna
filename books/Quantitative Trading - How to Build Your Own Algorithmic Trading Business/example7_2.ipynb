{
 "cells": [
  {
   "cell_type": "markdown",
   "metadata": {},
   "source": [
    "# How to Form a Good Cointegrating (and Mean-Reverting) Pair of Stocks"
   ]
  },
  {
   "cell_type": "code",
   "execution_count": 1,
   "metadata": {},
   "outputs": [],
   "source": [
    "import numpy as np"
   ]
  },
  {
   "cell_type": "code",
   "execution_count": 2,
   "metadata": {},
   "outputs": [],
   "source": [
    "import pandas as pd"
   ]
  },
  {
   "cell_type": "code",
   "execution_count": 3,
   "metadata": {},
   "outputs": [],
   "source": [
    "import matplotlib.pyplot as plt"
   ]
  },
  {
   "cell_type": "code",
   "execution_count": 4,
   "metadata": {},
   "outputs": [],
   "source": [
    "from statsmodels.tsa.stattools import coint"
   ]
  },
  {
   "cell_type": "code",
   "execution_count": 5,
   "metadata": {},
   "outputs": [],
   "source": [
    "from statsmodels.tsa.stattools import adfuller"
   ]
  },
  {
   "cell_type": "code",
   "execution_count": 6,
   "metadata": {},
   "outputs": [],
   "source": [
    "from statsmodels.api import OLS"
   ]
  },
  {
   "cell_type": "code",
   "execution_count": 7,
   "metadata": {},
   "outputs": [],
   "source": [
    "df1=pd.read_excel('GLD.xls')"
   ]
  },
  {
   "cell_type": "code",
   "execution_count": 8,
   "metadata": {},
   "outputs": [],
   "source": [
    "df2=pd.read_excel('GDX.xls')"
   ]
  },
  {
   "cell_type": "code",
   "execution_count": 9,
   "metadata": {},
   "outputs": [],
   "source": [
    "df=pd.merge(df1, df2, on='Date', suffixes=('_GLD', '_GDX'))"
   ]
  },
  {
   "cell_type": "code",
   "execution_count": 10,
   "metadata": {},
   "outputs": [],
   "source": [
    "df.set_index('Date', inplace=True)"
   ]
  },
  {
   "cell_type": "code",
   "execution_count": 11,
   "metadata": {},
   "outputs": [],
   "source": [
    "df.sort_index(inplace=True)"
   ]
  },
  {
   "cell_type": "code",
   "execution_count": 12,
   "metadata": {},
   "outputs": [
    {
     "data": {
      "text/html": [
       "<div>\n",
       "<style scoped>\n",
       "    .dataframe tbody tr th:only-of-type {\n",
       "        vertical-align: middle;\n",
       "    }\n",
       "\n",
       "    .dataframe tbody tr th {\n",
       "        vertical-align: top;\n",
       "    }\n",
       "\n",
       "    .dataframe thead th {\n",
       "        text-align: right;\n",
       "    }\n",
       "</style>\n",
       "<table border=\"1\" class=\"dataframe\">\n",
       "  <thead>\n",
       "    <tr style=\"text-align: right;\">\n",
       "      <th></th>\n",
       "      <th>Open_GLD</th>\n",
       "      <th>High_GLD</th>\n",
       "      <th>Low_GLD</th>\n",
       "      <th>Close_GLD</th>\n",
       "      <th>Volume_GLD</th>\n",
       "      <th>Adj Close_GLD</th>\n",
       "      <th>Open_GDX</th>\n",
       "      <th>High_GDX</th>\n",
       "      <th>Low_GDX</th>\n",
       "      <th>Close_GDX</th>\n",
       "      <th>Volume_GDX</th>\n",
       "      <th>Adj Close_GDX</th>\n",
       "    </tr>\n",
       "    <tr>\n",
       "      <th>Date</th>\n",
       "      <th></th>\n",
       "      <th></th>\n",
       "      <th></th>\n",
       "      <th></th>\n",
       "      <th></th>\n",
       "      <th></th>\n",
       "      <th></th>\n",
       "      <th></th>\n",
       "      <th></th>\n",
       "      <th></th>\n",
       "      <th></th>\n",
       "      <th></th>\n",
       "    </tr>\n",
       "  </thead>\n",
       "  <tbody>\n",
       "    <tr>\n",
       "      <th>2006-05-23</th>\n",
       "      <td>65.99</td>\n",
       "      <td>67.16</td>\n",
       "      <td>65.91</td>\n",
       "      <td>66.38</td>\n",
       "      <td>10509700</td>\n",
       "      <td>66.38</td>\n",
       "      <td>37.75</td>\n",
       "      <td>39.22</td>\n",
       "      <td>37.75</td>\n",
       "      <td>37.96</td>\n",
       "      <td>620900</td>\n",
       "      <td>37.85</td>\n",
       "    </tr>\n",
       "    <tr>\n",
       "      <th>2006-05-24</th>\n",
       "      <td>64.83</td>\n",
       "      <td>65.16</td>\n",
       "      <td>63.22</td>\n",
       "      <td>64.06</td>\n",
       "      <td>11065600</td>\n",
       "      <td>64.06</td>\n",
       "      <td>37.13</td>\n",
       "      <td>37.57</td>\n",
       "      <td>35.87</td>\n",
       "      <td>36.52</td>\n",
       "      <td>638600</td>\n",
       "      <td>36.41</td>\n",
       "    </tr>\n",
       "    <tr>\n",
       "      <th>2006-05-25</th>\n",
       "      <td>64.12</td>\n",
       "      <td>64.76</td>\n",
       "      <td>63.76</td>\n",
       "      <td>64.70</td>\n",
       "      <td>6505400</td>\n",
       "      <td>64.70</td>\n",
       "      <td>37.18</td>\n",
       "      <td>38.32</td>\n",
       "      <td>36.98</td>\n",
       "      <td>38.32</td>\n",
       "      <td>367000</td>\n",
       "      <td>38.21</td>\n",
       "    </tr>\n",
       "    <tr>\n",
       "      <th>2006-05-26</th>\n",
       "      <td>65.01</td>\n",
       "      <td>65.10</td>\n",
       "      <td>63.75</td>\n",
       "      <td>65.10</td>\n",
       "      <td>5265900</td>\n",
       "      <td>65.10</td>\n",
       "      <td>38.74</td>\n",
       "      <td>38.74</td>\n",
       "      <td>37.77</td>\n",
       "      <td>38.55</td>\n",
       "      <td>269400</td>\n",
       "      <td>38.44</td>\n",
       "    </tr>\n",
       "    <tr>\n",
       "      <th>2006-05-30</th>\n",
       "      <td>65.20</td>\n",
       "      <td>66.24</td>\n",
       "      <td>65.00</td>\n",
       "      <td>65.11</td>\n",
       "      <td>8240200</td>\n",
       "      <td>65.11</td>\n",
       "      <td>39.50</td>\n",
       "      <td>39.72</td>\n",
       "      <td>38.11</td>\n",
       "      <td>38.17</td>\n",
       "      <td>559100</td>\n",
       "      <td>38.06</td>\n",
       "    </tr>\n",
       "    <tr>\n",
       "      <th>...</th>\n",
       "      <td>...</td>\n",
       "      <td>...</td>\n",
       "      <td>...</td>\n",
       "      <td>...</td>\n",
       "      <td>...</td>\n",
       "      <td>...</td>\n",
       "      <td>...</td>\n",
       "      <td>...</td>\n",
       "      <td>...</td>\n",
       "      <td>...</td>\n",
       "      <td>...</td>\n",
       "      <td>...</td>\n",
       "    </tr>\n",
       "    <tr>\n",
       "      <th>2007-11-26</th>\n",
       "      <td>82.25</td>\n",
       "      <td>82.25</td>\n",
       "      <td>81.13</td>\n",
       "      <td>81.30</td>\n",
       "      <td>7440200</td>\n",
       "      <td>81.30</td>\n",
       "      <td>49.43</td>\n",
       "      <td>49.43</td>\n",
       "      <td>46.85</td>\n",
       "      <td>47.06</td>\n",
       "      <td>1966500</td>\n",
       "      <td>47.06</td>\n",
       "    </tr>\n",
       "    <tr>\n",
       "      <th>2007-11-27</th>\n",
       "      <td>80.70</td>\n",
       "      <td>80.89</td>\n",
       "      <td>79.81</td>\n",
       "      <td>80.10</td>\n",
       "      <td>7229900</td>\n",
       "      <td>80.10</td>\n",
       "      <td>46.84</td>\n",
       "      <td>46.84</td>\n",
       "      <td>45.74</td>\n",
       "      <td>46.61</td>\n",
       "      <td>2329700</td>\n",
       "      <td>46.61</td>\n",
       "    </tr>\n",
       "    <tr>\n",
       "      <th>2007-11-28</th>\n",
       "      <td>79.42</td>\n",
       "      <td>79.87</td>\n",
       "      <td>78.76</td>\n",
       "      <td>79.57</td>\n",
       "      <td>9706700</td>\n",
       "      <td>79.57</td>\n",
       "      <td>46.11</td>\n",
       "      <td>48.00</td>\n",
       "      <td>46.06</td>\n",
       "      <td>47.86</td>\n",
       "      <td>3893200</td>\n",
       "      <td>47.86</td>\n",
       "    </tr>\n",
       "    <tr>\n",
       "      <th>2007-11-29</th>\n",
       "      <td>79.28</td>\n",
       "      <td>79.33</td>\n",
       "      <td>78.28</td>\n",
       "      <td>78.28</td>\n",
       "      <td>9306700</td>\n",
       "      <td>78.28</td>\n",
       "      <td>47.10</td>\n",
       "      <td>48.00</td>\n",
       "      <td>46.76</td>\n",
       "      <td>47.02</td>\n",
       "      <td>1668500</td>\n",
       "      <td>47.02</td>\n",
       "    </tr>\n",
       "    <tr>\n",
       "      <th>2007-11-30</th>\n",
       "      <td>78.35</td>\n",
       "      <td>78.60</td>\n",
       "      <td>76.98</td>\n",
       "      <td>77.32</td>\n",
       "      <td>9509100</td>\n",
       "      <td>77.32</td>\n",
       "      <td>47.09</td>\n",
       "      <td>47.50</td>\n",
       "      <td>45.70</td>\n",
       "      <td>46.36</td>\n",
       "      <td>2006000</td>\n",
       "      <td>46.36</td>\n",
       "    </tr>\n",
       "  </tbody>\n",
       "</table>\n",
       "<p>385 rows × 12 columns</p>\n",
       "</div>"
      ],
      "text/plain": [
       "            Open_GLD  High_GLD  Low_GLD  Close_GLD  Volume_GLD  Adj Close_GLD  \\\n",
       "Date                                                                            \n",
       "2006-05-23     65.99     67.16    65.91      66.38    10509700          66.38   \n",
       "2006-05-24     64.83     65.16    63.22      64.06    11065600          64.06   \n",
       "2006-05-25     64.12     64.76    63.76      64.70     6505400          64.70   \n",
       "2006-05-26     65.01     65.10    63.75      65.10     5265900          65.10   \n",
       "2006-05-30     65.20     66.24    65.00      65.11     8240200          65.11   \n",
       "...              ...       ...      ...        ...         ...            ...   \n",
       "2007-11-26     82.25     82.25    81.13      81.30     7440200          81.30   \n",
       "2007-11-27     80.70     80.89    79.81      80.10     7229900          80.10   \n",
       "2007-11-28     79.42     79.87    78.76      79.57     9706700          79.57   \n",
       "2007-11-29     79.28     79.33    78.28      78.28     9306700          78.28   \n",
       "2007-11-30     78.35     78.60    76.98      77.32     9509100          77.32   \n",
       "\n",
       "            Open_GDX  High_GDX  Low_GDX  Close_GDX  Volume_GDX  Adj Close_GDX  \n",
       "Date                                                                           \n",
       "2006-05-23     37.75     39.22    37.75      37.96      620900          37.85  \n",
       "2006-05-24     37.13     37.57    35.87      36.52      638600          36.41  \n",
       "2006-05-25     37.18     38.32    36.98      38.32      367000          38.21  \n",
       "2006-05-26     38.74     38.74    37.77      38.55      269400          38.44  \n",
       "2006-05-30     39.50     39.72    38.11      38.17      559100          38.06  \n",
       "...              ...       ...      ...        ...         ...            ...  \n",
       "2007-11-26     49.43     49.43    46.85      47.06     1966500          47.06  \n",
       "2007-11-27     46.84     46.84    45.74      46.61     2329700          46.61  \n",
       "2007-11-28     46.11     48.00    46.06      47.86     3893200          47.86  \n",
       "2007-11-29     47.10     48.00    46.76      47.02     1668500          47.02  \n",
       "2007-11-30     47.09     47.50    45.70      46.36     2006000          46.36  \n",
       "\n",
       "[385 rows x 12 columns]"
      ]
     },
     "execution_count": 12,
     "metadata": {},
     "output_type": "execute_result"
    }
   ],
   "source": [
    "df"
   ]
  },
  {
   "cell_type": "code",
   "execution_count": 13,
   "metadata": {},
   "outputs": [],
   "source": [
    "trainset=np.arange(0, 252)"
   ]
  },
  {
   "cell_type": "code",
   "execution_count": 14,
   "metadata": {},
   "outputs": [],
   "source": [
    "df=df.iloc[trainset,]"
   ]
  },
  {
   "cell_type": "markdown",
   "metadata": {},
   "source": [
    "## Run cointegration (Engle-Granger) test"
   ]
  },
  {
   "cell_type": "code",
   "execution_count": 15,
   "metadata": {},
   "outputs": [],
   "source": [
    "coint_t, pvalue, crit_value=coint(df['Adj Close_GLD'], df['Adj Close_GDX'])"
   ]
  },
  {
   "cell_type": "code",
   "execution_count": 16,
   "metadata": {},
   "outputs": [
    {
     "data": {
      "text/plain": [
       "(-2.3591268376687258,\n",
       " 0.34444948804278774,\n",
       " array([-3.94060523, -3.36058133, -3.06139039]))"
      ]
     },
     "execution_count": 16,
     "metadata": {},
     "output_type": "execute_result"
    }
   ],
   "source": [
    "# abs(t-stat) > critical value at 95%.\n",
    "# pvalue says probability of null hypothesis (of no cointegration) is only 1.8%\n",
    "(coint_t, pvalue, crit_value)"
   ]
  },
  {
   "cell_type": "markdown",
   "metadata": {},
   "source": [
    "## Run Augmented Dickey–Fuller test"
   ]
  },
  {
   "cell_type": "code",
   "execution_count": 17,
   "metadata": {},
   "outputs": [
    {
     "data": {
      "text/plain": [
       "Date\n",
       "2006-05-23    28.53\n",
       "2006-05-24    27.65\n",
       "2006-05-25    26.49\n",
       "2006-05-26    26.66\n",
       "2006-05-30    27.05\n",
       "              ...  \n",
       "2007-05-17    26.80\n",
       "2007-05-18    26.51\n",
       "2007-05-21    26.20\n",
       "2007-05-22    26.34\n",
       "2007-05-23    26.22\n",
       "Length: 252, dtype: float64"
      ]
     },
     "execution_count": 17,
     "metadata": {},
     "output_type": "execute_result"
    }
   ],
   "source": [
    "diff_df = df['Adj Close_GLD'] - df['Adj Close_GDX']\n",
    "diff_df"
   ]
  },
  {
   "cell_type": "code",
   "execution_count": 18,
   "metadata": {},
   "outputs": [
    {
     "data": {
      "text/plain": [
       "(-1.9992750177619338,\n",
       " 0.2868910690633688,\n",
       " {'1%': -3.4573260719088132,\n",
       "  '5%': -2.873410402808354,\n",
       "  '10%': -2.573095980841316})"
      ]
     },
     "execution_count": 18,
     "metadata": {},
     "output_type": "execute_result"
    }
   ],
   "source": [
    "(adf_t, pvalue, _, _, crit_value, _) = adfuller(diff_df)\n",
    "(adf_t, pvalue, crit_value)"
   ]
  },
  {
   "cell_type": "markdown",
   "metadata": {},
   "source": [
    "## Determine hedge ratio"
   ]
  },
  {
   "cell_type": "code",
   "execution_count": 19,
   "metadata": {},
   "outputs": [],
   "source": [
    "model=OLS(df['Adj Close_GLD'], df['Adj Close_GDX'])"
   ]
  },
  {
   "cell_type": "code",
   "execution_count": 20,
   "metadata": {},
   "outputs": [],
   "source": [
    "results=model.fit()"
   ]
  },
  {
   "cell_type": "code",
   "execution_count": 21,
   "metadata": {},
   "outputs": [],
   "source": [
    "hedgeRatio=results.params"
   ]
  },
  {
   "cell_type": "code",
   "execution_count": 22,
   "metadata": {},
   "outputs": [
    {
     "data": {
      "text/plain": [
       "Adj Close_GDX    1.631009\n",
       "dtype: float64"
      ]
     },
     "execution_count": 22,
     "metadata": {},
     "output_type": "execute_result"
    }
   ],
   "source": [
    "hedgeRatio"
   ]
  },
  {
   "cell_type": "markdown",
   "metadata": {},
   "source": [
    "##  spread = GLD - hedgeRatio*GDX"
   ]
  },
  {
   "cell_type": "code",
   "execution_count": 23,
   "metadata": {},
   "outputs": [],
   "source": [
    "spread=df['Adj Close_GLD']-hedgeRatio[0]*df['Adj Close_GDX']"
   ]
  },
  {
   "cell_type": "code",
   "execution_count": 24,
   "metadata": {},
   "outputs": [
    {
     "data": {
      "text/plain": [
       "[<matplotlib.lines.Line2D at 0x13957c820>]"
      ]
     },
     "execution_count": 24,
     "metadata": {},
     "output_type": "execute_result"
    },
    {
     "data": {
      "image/png": "[encoded data removed]",
      "text/plain": [
       "<Figure size 640x480 with 1 Axes>"
      ]
     },
     "metadata": {},
     "output_type": "display_data"
    }
   ],
   "source": [
    "plt.ylabel('Spread (in $)')\n",
    "plt.title('Spread between GLD and GDX')\n",
    "plt.plot(spread)"
   ]
  }
 ],
 "metadata": {
  "kernelspec": {
   "display_name": "Python 3 (ipykernel)",
   "language": "python",
   "name": "python3"
  },
  "language_info": {
   "codemirror_mode": {
    "name": "ipython",
    "version": 3
   },
   "file_extension": ".py",
   "mimetype": "text/x-python",
   "name": "python",
   "nbconvert_exporter": "python",
   "pygments_lexer": "ipython3",
   "version": "3.10.11"
  }
 },
 "nbformat": 4,
 "nbformat_minor": 2
}
