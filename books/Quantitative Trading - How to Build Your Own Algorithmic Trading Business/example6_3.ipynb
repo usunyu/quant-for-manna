{
 "cells": [
  {
   "cell_type": "markdown",
   "metadata": {},
   "source": [
    "# Calculating the Optimal Allocation Using Kelly formula"
   ]
  },
  {
   "cell_type": "code",
   "execution_count": 1,
   "metadata": {},
   "outputs": [],
   "source": [
    "import numpy as np"
   ]
  },
  {
   "cell_type": "code",
   "execution_count": 2,
   "metadata": {},
   "outputs": [],
   "source": [
    "import pandas as pd"
   ]
  },
  {
   "cell_type": "code",
   "execution_count": 3,
   "metadata": {},
   "outputs": [],
   "source": [
    "from numpy.linalg import inv"
   ]
  },
  {
   "cell_type": "code",
   "execution_count": 4,
   "metadata": {},
   "outputs": [],
   "source": [
    "df1=pd.read_excel('OIH.xls')"
   ]
  },
  {
   "cell_type": "code",
   "execution_count": 5,
   "metadata": {},
   "outputs": [],
   "source": [
    "df2=pd.read_excel('RKH.xls')"
   ]
  },
  {
   "cell_type": "code",
   "execution_count": 6,
   "metadata": {},
   "outputs": [],
   "source": [
    "df=pd.merge(df1, df2, on='Date', suffixes=('_OIH', '_RKH'))"
   ]
  },
  {
   "cell_type": "code",
   "execution_count": 7,
   "metadata": {},
   "outputs": [],
   "source": [
    "df.set_index('Date', inplace=True)"
   ]
  },
  {
   "cell_type": "code",
   "execution_count": 8,
   "metadata": {},
   "outputs": [],
   "source": [
    "df3=pd.read_excel('RTH.xls')"
   ]
  },
  {
   "cell_type": "code",
   "execution_count": 9,
   "metadata": {},
   "outputs": [],
   "source": [
    "df=pd.merge(df, df3, on='Date')"
   ]
  },
  {
   "cell_type": "code",
   "execution_count": 10,
   "metadata": {},
   "outputs": [],
   "source": [
    "df.rename(columns={\"Adj Close\": \"Adj Close_RTH\"}, inplace=True)"
   ]
  },
  {
   "cell_type": "code",
   "execution_count": 11,
   "metadata": {},
   "outputs": [],
   "source": [
    "df.set_index('Date', inplace=True)"
   ]
  },
  {
   "cell_type": "code",
   "execution_count": 12,
   "metadata": {},
   "outputs": [],
   "source": [
    "df.sort_index(inplace=True)"
   ]
  },
  {
   "cell_type": "code",
   "execution_count": 13,
   "metadata": {},
   "outputs": [
    {
     "data": {
      "text/html": [
       "<div>\n",
       "<style scoped>\n",
       "    .dataframe tbody tr th:only-of-type {\n",
       "        vertical-align: middle;\n",
       "    }\n",
       "\n",
       "    .dataframe tbody tr th {\n",
       "        vertical-align: top;\n",
       "    }\n",
       "\n",
       "    .dataframe thead th {\n",
       "        text-align: right;\n",
       "    }\n",
       "</style>\n",
       "<table border=\"1\" class=\"dataframe\">\n",
       "  <thead>\n",
       "    <tr style=\"text-align: right;\">\n",
       "      <th></th>\n",
       "      <th>Open_OIH</th>\n",
       "      <th>High_OIH</th>\n",
       "      <th>Low_OIH</th>\n",
       "      <th>Close_OIH</th>\n",
       "      <th>Volume_OIH</th>\n",
       "      <th>Adj Close_OIH</th>\n",
       "      <th>Open_RKH</th>\n",
       "      <th>High_RKH</th>\n",
       "      <th>Low_RKH</th>\n",
       "      <th>Close_RKH</th>\n",
       "      <th>Volume_RKH</th>\n",
       "      <th>Adj Close_RKH</th>\n",
       "      <th>Open</th>\n",
       "      <th>High</th>\n",
       "      <th>Low</th>\n",
       "      <th>Close</th>\n",
       "      <th>Volume</th>\n",
       "      <th>Adj Close_RTH</th>\n",
       "    </tr>\n",
       "    <tr>\n",
       "      <th>Date</th>\n",
       "      <th></th>\n",
       "      <th></th>\n",
       "      <th></th>\n",
       "      <th></th>\n",
       "      <th></th>\n",
       "      <th></th>\n",
       "      <th></th>\n",
       "      <th></th>\n",
       "      <th></th>\n",
       "      <th></th>\n",
       "      <th></th>\n",
       "      <th></th>\n",
       "      <th></th>\n",
       "      <th></th>\n",
       "      <th></th>\n",
       "      <th></th>\n",
       "      <th></th>\n",
       "      <th></th>\n",
       "    </tr>\n",
       "  </thead>\n",
       "  <tbody>\n",
       "    <tr>\n",
       "      <th>2001-05-17</th>\n",
       "      <td>91.25</td>\n",
       "      <td>94.00</td>\n",
       "      <td>90.25</td>\n",
       "      <td>93.93</td>\n",
       "      <td>276900</td>\n",
       "      <td>84.60</td>\n",
       "      <td>115.40</td>\n",
       "      <td>117.00</td>\n",
       "      <td>115.40</td>\n",
       "      <td>116.25</td>\n",
       "      <td>18500</td>\n",
       "      <td>93.63</td>\n",
       "      <td>97.75</td>\n",
       "      <td>98.45</td>\n",
       "      <td>97.70</td>\n",
       "      <td>98.00</td>\n",
       "      <td>14200</td>\n",
       "      <td>87.09</td>\n",
       "    </tr>\n",
       "    <tr>\n",
       "      <th>2001-05-18</th>\n",
       "      <td>94.00</td>\n",
       "      <td>96.04</td>\n",
       "      <td>93.80</td>\n",
       "      <td>94.70</td>\n",
       "      <td>546300</td>\n",
       "      <td>85.30</td>\n",
       "      <td>116.50</td>\n",
       "      <td>116.70</td>\n",
       "      <td>115.85</td>\n",
       "      <td>115.85</td>\n",
       "      <td>81800</td>\n",
       "      <td>93.31</td>\n",
       "      <td>97.30</td>\n",
       "      <td>97.75</td>\n",
       "      <td>97.25</td>\n",
       "      <td>97.75</td>\n",
       "      <td>1900</td>\n",
       "      <td>86.87</td>\n",
       "    </tr>\n",
       "    <tr>\n",
       "      <th>2001-05-21</th>\n",
       "      <td>95.10</td>\n",
       "      <td>95.58</td>\n",
       "      <td>93.96</td>\n",
       "      <td>95.55</td>\n",
       "      <td>627500</td>\n",
       "      <td>86.06</td>\n",
       "      <td>116.00</td>\n",
       "      <td>116.00</td>\n",
       "      <td>115.00</td>\n",
       "      <td>116.00</td>\n",
       "      <td>26500</td>\n",
       "      <td>93.43</td>\n",
       "      <td>98.20</td>\n",
       "      <td>100.15</td>\n",
       "      <td>97.80</td>\n",
       "      <td>99.95</td>\n",
       "      <td>15900</td>\n",
       "      <td>88.83</td>\n",
       "    </tr>\n",
       "    <tr>\n",
       "      <th>2001-05-22</th>\n",
       "      <td>95.46</td>\n",
       "      <td>95.46</td>\n",
       "      <td>93.70</td>\n",
       "      <td>94.10</td>\n",
       "      <td>371700</td>\n",
       "      <td>84.76</td>\n",
       "      <td>115.80</td>\n",
       "      <td>118.60</td>\n",
       "      <td>115.80</td>\n",
       "      <td>118.13</td>\n",
       "      <td>37900</td>\n",
       "      <td>95.15</td>\n",
       "      <td>99.75</td>\n",
       "      <td>100.90</td>\n",
       "      <td>99.15</td>\n",
       "      <td>100.10</td>\n",
       "      <td>88500</td>\n",
       "      <td>88.96</td>\n",
       "    </tr>\n",
       "    <tr>\n",
       "      <th>2001-05-23</th>\n",
       "      <td>93.00</td>\n",
       "      <td>93.00</td>\n",
       "      <td>90.52</td>\n",
       "      <td>90.57</td>\n",
       "      <td>682400</td>\n",
       "      <td>81.58</td>\n",
       "      <td>117.75</td>\n",
       "      <td>118.16</td>\n",
       "      <td>117.41</td>\n",
       "      <td>118.00</td>\n",
       "      <td>21300</td>\n",
       "      <td>95.04</td>\n",
       "      <td>98.80</td>\n",
       "      <td>98.80</td>\n",
       "      <td>97.95</td>\n",
       "      <td>98.20</td>\n",
       "      <td>4300</td>\n",
       "      <td>87.27</td>\n",
       "    </tr>\n",
       "    <tr>\n",
       "      <th>...</th>\n",
       "      <td>...</td>\n",
       "      <td>...</td>\n",
       "      <td>...</td>\n",
       "      <td>...</td>\n",
       "      <td>...</td>\n",
       "      <td>...</td>\n",
       "      <td>...</td>\n",
       "      <td>...</td>\n",
       "      <td>...</td>\n",
       "      <td>...</td>\n",
       "      <td>...</td>\n",
       "      <td>...</td>\n",
       "      <td>...</td>\n",
       "      <td>...</td>\n",
       "      <td>...</td>\n",
       "      <td>...</td>\n",
       "      <td>...</td>\n",
       "      <td>...</td>\n",
       "    </tr>\n",
       "    <tr>\n",
       "      <th>2007-12-21</th>\n",
       "      <td>182.99</td>\n",
       "      <td>188.30</td>\n",
       "      <td>182.51</td>\n",
       "      <td>188.30</td>\n",
       "      <td>4633500</td>\n",
       "      <td>188.30</td>\n",
       "      <td>131.03</td>\n",
       "      <td>133.34</td>\n",
       "      <td>130.19</td>\n",
       "      <td>133.28</td>\n",
       "      <td>580400</td>\n",
       "      <td>132.96</td>\n",
       "      <td>93.23</td>\n",
       "      <td>94.81</td>\n",
       "      <td>93.23</td>\n",
       "      <td>94.36</td>\n",
       "      <td>2924900</td>\n",
       "      <td>94.35</td>\n",
       "    </tr>\n",
       "    <tr>\n",
       "      <th>2007-12-24</th>\n",
       "      <td>189.61</td>\n",
       "      <td>189.94</td>\n",
       "      <td>186.61</td>\n",
       "      <td>189.70</td>\n",
       "      <td>1284300</td>\n",
       "      <td>189.70</td>\n",
       "      <td>134.22</td>\n",
       "      <td>135.63</td>\n",
       "      <td>134.07</td>\n",
       "      <td>134.95</td>\n",
       "      <td>214400</td>\n",
       "      <td>134.62</td>\n",
       "      <td>94.01</td>\n",
       "      <td>95.65</td>\n",
       "      <td>94.01</td>\n",
       "      <td>95.55</td>\n",
       "      <td>1216700</td>\n",
       "      <td>95.55</td>\n",
       "    </tr>\n",
       "    <tr>\n",
       "      <th>2007-12-26</th>\n",
       "      <td>190.05</td>\n",
       "      <td>193.61</td>\n",
       "      <td>189.15</td>\n",
       "      <td>193.60</td>\n",
       "      <td>2395800</td>\n",
       "      <td>193.60</td>\n",
       "      <td>133.98</td>\n",
       "      <td>134.62</td>\n",
       "      <td>133.26</td>\n",
       "      <td>134.43</td>\n",
       "      <td>474600</td>\n",
       "      <td>134.11</td>\n",
       "      <td>95.08</td>\n",
       "      <td>95.08</td>\n",
       "      <td>93.86</td>\n",
       "      <td>94.80</td>\n",
       "      <td>3023300</td>\n",
       "      <td>94.80</td>\n",
       "    </tr>\n",
       "    <tr>\n",
       "      <th>2007-12-27</th>\n",
       "      <td>192.97</td>\n",
       "      <td>193.20</td>\n",
       "      <td>190.23</td>\n",
       "      <td>190.32</td>\n",
       "      <td>4163100</td>\n",
       "      <td>190.32</td>\n",
       "      <td>133.05</td>\n",
       "      <td>133.18</td>\n",
       "      <td>131.14</td>\n",
       "      <td>131.34</td>\n",
       "      <td>689300</td>\n",
       "      <td>131.32</td>\n",
       "      <td>94.06</td>\n",
       "      <td>94.47</td>\n",
       "      <td>93.79</td>\n",
       "      <td>93.93</td>\n",
       "      <td>2412200</td>\n",
       "      <td>93.93</td>\n",
       "    </tr>\n",
       "    <tr>\n",
       "      <th>2007-12-28</th>\n",
       "      <td>191.64</td>\n",
       "      <td>193.28</td>\n",
       "      <td>191.22</td>\n",
       "      <td>191.72</td>\n",
       "      <td>2973500</td>\n",
       "      <td>191.72</td>\n",
       "      <td>131.97</td>\n",
       "      <td>132.51</td>\n",
       "      <td>130.14</td>\n",
       "      <td>130.92</td>\n",
       "      <td>206800</td>\n",
       "      <td>130.92</td>\n",
       "      <td>94.45</td>\n",
       "      <td>94.97</td>\n",
       "      <td>93.53</td>\n",
       "      <td>94.10</td>\n",
       "      <td>2098800</td>\n",
       "      <td>94.10</td>\n",
       "    </tr>\n",
       "  </tbody>\n",
       "</table>\n",
       "<p>1663 rows × 18 columns</p>\n",
       "</div>"
      ],
      "text/plain": [
       "            Open_OIH  High_OIH  Low_OIH  Close_OIH  Volume_OIH  Adj Close_OIH  \\\n",
       "Date                                                                            \n",
       "2001-05-17     91.25     94.00    90.25      93.93      276900          84.60   \n",
       "2001-05-18     94.00     96.04    93.80      94.70      546300          85.30   \n",
       "2001-05-21     95.10     95.58    93.96      95.55      627500          86.06   \n",
       "2001-05-22     95.46     95.46    93.70      94.10      371700          84.76   \n",
       "2001-05-23     93.00     93.00    90.52      90.57      682400          81.58   \n",
       "...              ...       ...      ...        ...         ...            ...   \n",
       "2007-12-21    182.99    188.30   182.51     188.30     4633500         188.30   \n",
       "2007-12-24    189.61    189.94   186.61     189.70     1284300         189.70   \n",
       "2007-12-26    190.05    193.61   189.15     193.60     2395800         193.60   \n",
       "2007-12-27    192.97    193.20   190.23     190.32     4163100         190.32   \n",
       "2007-12-28    191.64    193.28   191.22     191.72     2973500         191.72   \n",
       "\n",
       "            Open_RKH  High_RKH  Low_RKH  Close_RKH  Volume_RKH  Adj Close_RKH  \\\n",
       "Date                                                                            \n",
       "2001-05-17    115.40    117.00   115.40     116.25       18500          93.63   \n",
       "2001-05-18    116.50    116.70   115.85     115.85       81800          93.31   \n",
       "2001-05-21    116.00    116.00   115.00     116.00       26500          93.43   \n",
       "2001-05-22    115.80    118.60   115.80     118.13       37900          95.15   \n",
       "2001-05-23    117.75    118.16   117.41     118.00       21300          95.04   \n",
       "...              ...       ...      ...        ...         ...            ...   \n",
       "2007-12-21    131.03    133.34   130.19     133.28      580400         132.96   \n",
       "2007-12-24    134.22    135.63   134.07     134.95      214400         134.62   \n",
       "2007-12-26    133.98    134.62   133.26     134.43      474600         134.11   \n",
       "2007-12-27    133.05    133.18   131.14     131.34      689300         131.32   \n",
       "2007-12-28    131.97    132.51   130.14     130.92      206800         130.92   \n",
       "\n",
       "             Open    High    Low   Close   Volume  Adj Close_RTH  \n",
       "Date                                                              \n",
       "2001-05-17  97.75   98.45  97.70   98.00    14200          87.09  \n",
       "2001-05-18  97.30   97.75  97.25   97.75     1900          86.87  \n",
       "2001-05-21  98.20  100.15  97.80   99.95    15900          88.83  \n",
       "2001-05-22  99.75  100.90  99.15  100.10    88500          88.96  \n",
       "2001-05-23  98.80   98.80  97.95   98.20     4300          87.27  \n",
       "...           ...     ...    ...     ...      ...            ...  \n",
       "2007-12-21  93.23   94.81  93.23   94.36  2924900          94.35  \n",
       "2007-12-24  94.01   95.65  94.01   95.55  1216700          95.55  \n",
       "2007-12-26  95.08   95.08  93.86   94.80  3023300          94.80  \n",
       "2007-12-27  94.06   94.47  93.79   93.93  2412200          93.93  \n",
       "2007-12-28  94.45   94.97  93.53   94.10  2098800          94.10  \n",
       "\n",
       "[1663 rows x 18 columns]"
      ]
     },
     "execution_count": 13,
     "metadata": {},
     "output_type": "execute_result"
    }
   ],
   "source": [
    "df"
   ]
  },
  {
   "cell_type": "code",
   "execution_count": 14,
   "metadata": {},
   "outputs": [],
   "source": [
    "dailyret=df.loc[:, ('Adj Close_OIH', 'Adj Close_RKH', 'Adj Close_RTH')].pct_change()"
   ]
  },
  {
   "cell_type": "code",
   "execution_count": 15,
   "metadata": {},
   "outputs": [],
   "source": [
    "dailyret.rename(columns={\"Adj Close_OIH\": \"OIH\", \"Adj Close_RKH\": \"RKH\", \"Adj Close_RTH\": \"RTH\"}, inplace=True)"
   ]
  },
  {
   "cell_type": "code",
   "execution_count": 16,
   "metadata": {},
   "outputs": [
    {
     "data": {
      "text/html": [
       "<div>\n",
       "<style scoped>\n",
       "    .dataframe tbody tr th:only-of-type {\n",
       "        vertical-align: middle;\n",
       "    }\n",
       "\n",
       "    .dataframe tbody tr th {\n",
       "        vertical-align: top;\n",
       "    }\n",
       "\n",
       "    .dataframe thead th {\n",
       "        text-align: right;\n",
       "    }\n",
       "</style>\n",
       "<table border=\"1\" class=\"dataframe\">\n",
       "  <thead>\n",
       "    <tr style=\"text-align: right;\">\n",
       "      <th></th>\n",
       "      <th>OIH</th>\n",
       "      <th>RKH</th>\n",
       "      <th>RTH</th>\n",
       "    </tr>\n",
       "    <tr>\n",
       "      <th>Date</th>\n",
       "      <th></th>\n",
       "      <th></th>\n",
       "      <th></th>\n",
       "    </tr>\n",
       "  </thead>\n",
       "  <tbody>\n",
       "    <tr>\n",
       "      <th>2001-05-17</th>\n",
       "      <td>NaN</td>\n",
       "      <td>NaN</td>\n",
       "      <td>NaN</td>\n",
       "    </tr>\n",
       "    <tr>\n",
       "      <th>2001-05-18</th>\n",
       "      <td>0.008274</td>\n",
       "      <td>-0.003418</td>\n",
       "      <td>-0.002526</td>\n",
       "    </tr>\n",
       "    <tr>\n",
       "      <th>2001-05-21</th>\n",
       "      <td>0.008910</td>\n",
       "      <td>0.001286</td>\n",
       "      <td>0.022562</td>\n",
       "    </tr>\n",
       "    <tr>\n",
       "      <th>2001-05-22</th>\n",
       "      <td>-0.015106</td>\n",
       "      <td>0.018410</td>\n",
       "      <td>0.001463</td>\n",
       "    </tr>\n",
       "    <tr>\n",
       "      <th>2001-05-23</th>\n",
       "      <td>-0.037518</td>\n",
       "      <td>-0.001156</td>\n",
       "      <td>-0.018997</td>\n",
       "    </tr>\n",
       "    <tr>\n",
       "      <th>...</th>\n",
       "      <td>...</td>\n",
       "      <td>...</td>\n",
       "      <td>...</td>\n",
       "    </tr>\n",
       "    <tr>\n",
       "      <th>2007-12-21</th>\n",
       "      <td>0.035184</td>\n",
       "      <td>0.020571</td>\n",
       "      <td>0.017909</td>\n",
       "    </tr>\n",
       "    <tr>\n",
       "      <th>2007-12-24</th>\n",
       "      <td>0.007435</td>\n",
       "      <td>0.012485</td>\n",
       "      <td>0.012719</td>\n",
       "    </tr>\n",
       "    <tr>\n",
       "      <th>2007-12-26</th>\n",
       "      <td>0.020559</td>\n",
       "      <td>-0.003788</td>\n",
       "      <td>-0.007849</td>\n",
       "    </tr>\n",
       "    <tr>\n",
       "      <th>2007-12-27</th>\n",
       "      <td>-0.016942</td>\n",
       "      <td>-0.020804</td>\n",
       "      <td>-0.009177</td>\n",
       "    </tr>\n",
       "    <tr>\n",
       "      <th>2007-12-28</th>\n",
       "      <td>0.007356</td>\n",
       "      <td>-0.003046</td>\n",
       "      <td>0.001810</td>\n",
       "    </tr>\n",
       "  </tbody>\n",
       "</table>\n",
       "<p>1663 rows × 3 columns</p>\n",
       "</div>"
      ],
      "text/plain": [
       "                 OIH       RKH       RTH\n",
       "Date                                    \n",
       "2001-05-17       NaN       NaN       NaN\n",
       "2001-05-18  0.008274 -0.003418 -0.002526\n",
       "2001-05-21  0.008910  0.001286  0.022562\n",
       "2001-05-22 -0.015106  0.018410  0.001463\n",
       "2001-05-23 -0.037518 -0.001156 -0.018997\n",
       "...              ...       ...       ...\n",
       "2007-12-21  0.035184  0.020571  0.017909\n",
       "2007-12-24  0.007435  0.012485  0.012719\n",
       "2007-12-26  0.020559 -0.003788 -0.007849\n",
       "2007-12-27 -0.016942 -0.020804 -0.009177\n",
       "2007-12-28  0.007356 -0.003046  0.001810\n",
       "\n",
       "[1663 rows x 3 columns]"
      ]
     },
     "execution_count": 16,
     "metadata": {},
     "output_type": "execute_result"
    }
   ],
   "source": [
    "dailyret"
   ]
  },
  {
   "cell_type": "code",
   "execution_count": 17,
   "metadata": {},
   "outputs": [],
   "source": [
    "excessRet=dailyret-0.04/252"
   ]
  },
  {
   "cell_type": "code",
   "execution_count": 29,
   "metadata": {},
   "outputs": [
    {
     "data": {
      "text/plain": [
       "0.00015873015873015873"
      ]
     },
     "execution_count": 29,
     "metadata": {},
     "output_type": "execute_result"
    }
   ],
   "source": [
    "0.04/252"
   ]
  },
  {
   "cell_type": "code",
   "execution_count": 28,
   "metadata": {
    "scrolled": false
   },
   "outputs": [
    {
     "data": {
      "text/html": [
       "<div>\n",
       "<style scoped>\n",
       "    .dataframe tbody tr th:only-of-type {\n",
       "        vertical-align: middle;\n",
       "    }\n",
       "\n",
       "    .dataframe tbody tr th {\n",
       "        vertical-align: top;\n",
       "    }\n",
       "\n",
       "    .dataframe thead th {\n",
       "        text-align: right;\n",
       "    }\n",
       "</style>\n",
       "<table border=\"1\" class=\"dataframe\">\n",
       "  <thead>\n",
       "    <tr style=\"text-align: right;\">\n",
       "      <th></th>\n",
       "      <th>OIH</th>\n",
       "      <th>RKH</th>\n",
       "      <th>RTH</th>\n",
       "    </tr>\n",
       "    <tr>\n",
       "      <th>Date</th>\n",
       "      <th></th>\n",
       "      <th></th>\n",
       "      <th></th>\n",
       "    </tr>\n",
       "  </thead>\n",
       "  <tbody>\n",
       "    <tr>\n",
       "      <th>2001-05-17</th>\n",
       "      <td>NaN</td>\n",
       "      <td>NaN</td>\n",
       "      <td>NaN</td>\n",
       "    </tr>\n",
       "    <tr>\n",
       "      <th>2001-05-18</th>\n",
       "      <td>0.008116</td>\n",
       "      <td>-0.003576</td>\n",
       "      <td>-0.002685</td>\n",
       "    </tr>\n",
       "    <tr>\n",
       "      <th>2001-05-21</th>\n",
       "      <td>0.008751</td>\n",
       "      <td>0.001127</td>\n",
       "      <td>0.022404</td>\n",
       "    </tr>\n",
       "    <tr>\n",
       "      <th>2001-05-22</th>\n",
       "      <td>-0.015264</td>\n",
       "      <td>0.018251</td>\n",
       "      <td>0.001305</td>\n",
       "    </tr>\n",
       "    <tr>\n",
       "      <th>2001-05-23</th>\n",
       "      <td>-0.037676</td>\n",
       "      <td>-0.001315</td>\n",
       "      <td>-0.019156</td>\n",
       "    </tr>\n",
       "    <tr>\n",
       "      <th>...</th>\n",
       "      <td>...</td>\n",
       "      <td>...</td>\n",
       "      <td>...</td>\n",
       "    </tr>\n",
       "    <tr>\n",
       "      <th>2007-12-21</th>\n",
       "      <td>0.035025</td>\n",
       "      <td>0.020412</td>\n",
       "      <td>0.017750</td>\n",
       "    </tr>\n",
       "    <tr>\n",
       "      <th>2007-12-24</th>\n",
       "      <td>0.007276</td>\n",
       "      <td>0.012326</td>\n",
       "      <td>0.012560</td>\n",
       "    </tr>\n",
       "    <tr>\n",
       "      <th>2007-12-26</th>\n",
       "      <td>0.020400</td>\n",
       "      <td>-0.003947</td>\n",
       "      <td>-0.008008</td>\n",
       "    </tr>\n",
       "    <tr>\n",
       "      <th>2007-12-27</th>\n",
       "      <td>-0.017101</td>\n",
       "      <td>-0.020963</td>\n",
       "      <td>-0.009336</td>\n",
       "    </tr>\n",
       "    <tr>\n",
       "      <th>2007-12-28</th>\n",
       "      <td>0.007197</td>\n",
       "      <td>-0.003205</td>\n",
       "      <td>0.001651</td>\n",
       "    </tr>\n",
       "  </tbody>\n",
       "</table>\n",
       "<p>1663 rows × 3 columns</p>\n",
       "</div>"
      ],
      "text/plain": [
       "                 OIH       RKH       RTH\n",
       "Date                                    \n",
       "2001-05-17       NaN       NaN       NaN\n",
       "2001-05-18  0.008116 -0.003576 -0.002685\n",
       "2001-05-21  0.008751  0.001127  0.022404\n",
       "2001-05-22 -0.015264  0.018251  0.001305\n",
       "2001-05-23 -0.037676 -0.001315 -0.019156\n",
       "...              ...       ...       ...\n",
       "2007-12-21  0.035025  0.020412  0.017750\n",
       "2007-12-24  0.007276  0.012326  0.012560\n",
       "2007-12-26  0.020400 -0.003947 -0.008008\n",
       "2007-12-27 -0.017101 -0.020963 -0.009336\n",
       "2007-12-28  0.007197 -0.003205  0.001651\n",
       "\n",
       "[1663 rows x 3 columns]"
      ]
     },
     "execution_count": 28,
     "metadata": {},
     "output_type": "execute_result"
    }
   ],
   "source": [
    "excessRet"
   ]
  },
  {
   "cell_type": "code",
   "execution_count": 32,
   "metadata": {},
   "outputs": [
    {
     "data": {
      "text/plain": [
       "OIH    0.131498\n",
       "RKH    0.027700\n",
       "RTH   -0.006922\n",
       "dtype: float64"
      ]
     },
     "execution_count": 32,
     "metadata": {},
     "output_type": "execute_result"
    }
   ],
   "source": [
    "excessRet.sum()/7"
   ]
  },
  {
   "cell_type": "code",
   "execution_count": 18,
   "metadata": {},
   "outputs": [],
   "source": [
    "M=252*excessRet.mean()"
   ]
  },
  {
   "cell_type": "code",
   "execution_count": 19,
   "metadata": {},
   "outputs": [
    {
     "data": {
      "text/plain": [
       "OIH    0.139568\n",
       "RKH    0.029400\n",
       "RTH   -0.007346\n",
       "dtype: float64"
      ]
     },
     "execution_count": 19,
     "metadata": {},
     "output_type": "execute_result"
    }
   ],
   "source": [
    "M"
   ]
  },
  {
   "cell_type": "code",
   "execution_count": 20,
   "metadata": {},
   "outputs": [],
   "source": [
    "C=252*excessRet.cov()"
   ]
  },
  {
   "cell_type": "code",
   "execution_count": 21,
   "metadata": {
    "scrolled": true
   },
   "outputs": [
    {
     "data": {
      "text/html": [
       "<div>\n",
       "<style scoped>\n",
       "    .dataframe tbody tr th:only-of-type {\n",
       "        vertical-align: middle;\n",
       "    }\n",
       "\n",
       "    .dataframe tbody tr th {\n",
       "        vertical-align: top;\n",
       "    }\n",
       "\n",
       "    .dataframe thead th {\n",
       "        text-align: right;\n",
       "    }\n",
       "</style>\n",
       "<table border=\"1\" class=\"dataframe\">\n",
       "  <thead>\n",
       "    <tr style=\"text-align: right;\">\n",
       "      <th></th>\n",
       "      <th>OIH</th>\n",
       "      <th>RKH</th>\n",
       "      <th>RTH</th>\n",
       "    </tr>\n",
       "  </thead>\n",
       "  <tbody>\n",
       "    <tr>\n",
       "      <th>OIH</th>\n",
       "      <td>0.110901</td>\n",
       "      <td>0.020014</td>\n",
       "      <td>0.018255</td>\n",
       "    </tr>\n",
       "    <tr>\n",
       "      <th>RKH</th>\n",
       "      <td>0.020014</td>\n",
       "      <td>0.037165</td>\n",
       "      <td>0.026893</td>\n",
       "    </tr>\n",
       "    <tr>\n",
       "      <th>RTH</th>\n",
       "      <td>0.018255</td>\n",
       "      <td>0.026893</td>\n",
       "      <td>0.041967</td>\n",
       "    </tr>\n",
       "  </tbody>\n",
       "</table>\n",
       "</div>"
      ],
      "text/plain": [
       "          OIH       RKH       RTH\n",
       "OIH  0.110901  0.020014  0.018255\n",
       "RKH  0.020014  0.037165  0.026893\n",
       "RTH  0.018255  0.026893  0.041967"
      ]
     },
     "execution_count": 21,
     "metadata": {},
     "output_type": "execute_result"
    }
   ],
   "source": [
    "C"
   ]
  },
  {
   "cell_type": "code",
   "execution_count": 22,
   "metadata": {},
   "outputs": [],
   "source": [
    "F=np.dot(inv(C), M)"
   ]
  },
  {
   "cell_type": "code",
   "execution_count": 23,
   "metadata": {},
   "outputs": [
    {
     "data": {
      "text/plain": [
       "array([ 1.2919082 ,  1.17226473, -1.48821285])"
      ]
     },
     "execution_count": 23,
     "metadata": {},
     "output_type": "execute_result"
    }
   ],
   "source": [
    "F"
   ]
  },
  {
   "cell_type": "code",
   "execution_count": 24,
   "metadata": {},
   "outputs": [],
   "source": [
    "g=0.04+np.dot(F.T, np.dot(C, F))/2"
   ]
  },
  {
   "cell_type": "code",
   "execution_count": 25,
   "metadata": {},
   "outputs": [
    {
     "data": {
      "text/plain": [
       "0.15285357898405594"
      ]
     },
     "execution_count": 25,
     "metadata": {},
     "output_type": "execute_result"
    }
   ],
   "source": [
    "g"
   ]
  },
  {
   "cell_type": "code",
   "execution_count": 26,
   "metadata": {},
   "outputs": [],
   "source": [
    "S=np.sqrt(np.dot(F.T, np.dot(C, F)))"
   ]
  },
  {
   "cell_type": "code",
   "execution_count": 27,
   "metadata": {},
   "outputs": [
    {
     "data": {
      "text/plain": [
       "0.4750864742003416"
      ]
     },
     "execution_count": 27,
     "metadata": {},
     "output_type": "execute_result"
    }
   ],
   "source": [
    "S"
   ]
  }
 ],
 "metadata": {
  "kernelspec": {
   "display_name": "Python 3 (ipykernel)",
   "language": "python",
   "name": "python3"
  },
  "language_info": {
   "codemirror_mode": {
    "name": "ipython",
    "version": 3
   },
   "file_extension": ".py",
   "mimetype": "text/x-python",
   "name": "python",
   "nbconvert_exporter": "python",
   "pygments_lexer": "ipython3",
   "version": "3.10.11"
  }
 },
 "nbformat": 4,
 "nbformat_minor": 2
}
