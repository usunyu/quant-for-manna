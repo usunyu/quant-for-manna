{
 "cells": [
  {
   "cell_type": "markdown",
   "metadata": {},
   "source": [
    "# How to Form a Good Cointegrating (and Mean-Reverting) Pair of Stocks"
   ]
  },
  {
   "cell_type": "code",
   "execution_count": 1,
   "metadata": {},
   "outputs": [],
   "source": [
    "import numpy as np"
   ]
  },
  {
   "cell_type": "code",
   "execution_count": 2,
   "metadata": {},
   "outputs": [],
   "source": [
    "import pandas as pd"
   ]
  },
  {
   "cell_type": "code",
   "execution_count": 3,
   "metadata": {},
   "outputs": [],
   "source": [
    "import matplotlib.pyplot as plt"
   ]
  },
  {
   "cell_type": "code",
   "execution_count": 4,
   "metadata": {},
   "outputs": [],
   "source": [
    "from statsmodels.tsa.stattools import coint"
   ]
  },
  {
   "cell_type": "code",
   "execution_count": 5,
   "metadata": {},
   "outputs": [],
   "source": [
    "from statsmodels.api import OLS"
   ]
  },
  {
   "cell_type": "code",
   "execution_count": 6,
   "metadata": {},
   "outputs": [],
   "source": [
    "from scipy.stats import pearsonr"
   ]
  },
  {
   "cell_type": "code",
   "execution_count": 7,
   "metadata": {},
   "outputs": [],
   "source": [
    "df1=pd.read_excel('KO.xls')"
   ]
  },
  {
   "cell_type": "code",
   "execution_count": 8,
   "metadata": {},
   "outputs": [],
   "source": [
    "df2=pd.read_excel('PEP.xls')"
   ]
  },
  {
   "cell_type": "code",
   "execution_count": 9,
   "metadata": {},
   "outputs": [],
   "source": [
    "df=pd.merge(df1, df2, on='Date', suffixes=('_KO', '_PEP'))"
   ]
  },
  {
   "cell_type": "code",
   "execution_count": 10,
   "metadata": {},
   "outputs": [],
   "source": [
    "df.set_index('Date', inplace=True)"
   ]
  },
  {
   "cell_type": "code",
   "execution_count": 11,
   "metadata": {},
   "outputs": [],
   "source": [
    "df.sort_index(inplace=True)"
   ]
  },
  {
   "cell_type": "code",
   "execution_count": 12,
   "metadata": {},
   "outputs": [
    {
     "data": {
      "text/html": [
       "<div>\n",
       "<style scoped>\n",
       "    .dataframe tbody tr th:only-of-type {\n",
       "        vertical-align: middle;\n",
       "    }\n",
       "\n",
       "    .dataframe tbody tr th {\n",
       "        vertical-align: top;\n",
       "    }\n",
       "\n",
       "    .dataframe thead th {\n",
       "        text-align: right;\n",
       "    }\n",
       "</style>\n",
       "<table border=\"1\" class=\"dataframe\">\n",
       "  <thead>\n",
       "    <tr style=\"text-align: right;\">\n",
       "      <th></th>\n",
       "      <th>Open_KO</th>\n",
       "      <th>High_KO</th>\n",
       "      <th>Low_KO</th>\n",
       "      <th>Close_KO</th>\n",
       "      <th>Volume_KO</th>\n",
       "      <th>Adj Close_KO</th>\n",
       "      <th>Open_PEP</th>\n",
       "      <th>High_PEP</th>\n",
       "      <th>Low_PEP</th>\n",
       "      <th>Close_PEP</th>\n",
       "      <th>Volume_PEP</th>\n",
       "      <th>Adj Close_PEP</th>\n",
       "    </tr>\n",
       "    <tr>\n",
       "      <th>Date</th>\n",
       "      <th></th>\n",
       "      <th></th>\n",
       "      <th></th>\n",
       "      <th></th>\n",
       "      <th></th>\n",
       "      <th></th>\n",
       "      <th></th>\n",
       "      <th></th>\n",
       "      <th></th>\n",
       "      <th></th>\n",
       "      <th></th>\n",
       "      <th></th>\n",
       "    </tr>\n",
       "  </thead>\n",
       "  <tbody>\n",
       "    <tr>\n",
       "      <th>1977-01-03</th>\n",
       "      <td>79.00</td>\n",
       "      <td>79.00</td>\n",
       "      <td>78.12</td>\n",
       "      <td>78.50</td>\n",
       "      <td>1305600</td>\n",
       "      <td>0.68</td>\n",
       "      <td>79.00</td>\n",
       "      <td>80.13</td>\n",
       "      <td>79.00</td>\n",
       "      <td>80.00</td>\n",
       "      <td>1085400</td>\n",
       "      <td>0.66</td>\n",
       "    </tr>\n",
       "    <tr>\n",
       "      <th>1977-01-04</th>\n",
       "      <td>78.37</td>\n",
       "      <td>78.37</td>\n",
       "      <td>77.00</td>\n",
       "      <td>77.62</td>\n",
       "      <td>1440000</td>\n",
       "      <td>0.67</td>\n",
       "      <td>80.00</td>\n",
       "      <td>80.25</td>\n",
       "      <td>78.88</td>\n",
       "      <td>79.00</td>\n",
       "      <td>3018600</td>\n",
       "      <td>0.65</td>\n",
       "    </tr>\n",
       "    <tr>\n",
       "      <th>1977-01-05</th>\n",
       "      <td>77.62</td>\n",
       "      <td>77.75</td>\n",
       "      <td>76.37</td>\n",
       "      <td>76.37</td>\n",
       "      <td>2001600</td>\n",
       "      <td>0.66</td>\n",
       "      <td>78.75</td>\n",
       "      <td>78.75</td>\n",
       "      <td>77.88</td>\n",
       "      <td>78.38</td>\n",
       "      <td>2246400</td>\n",
       "      <td>0.65</td>\n",
       "    </tr>\n",
       "    <tr>\n",
       "      <th>1977-01-06</th>\n",
       "      <td>76.37</td>\n",
       "      <td>77.50</td>\n",
       "      <td>76.37</td>\n",
       "      <td>77.50</td>\n",
       "      <td>1555200</td>\n",
       "      <td>0.67</td>\n",
       "      <td>78.63</td>\n",
       "      <td>79.00</td>\n",
       "      <td>78.63</td>\n",
       "      <td>78.75</td>\n",
       "      <td>1004400</td>\n",
       "      <td>0.65</td>\n",
       "    </tr>\n",
       "    <tr>\n",
       "      <th>1977-01-07</th>\n",
       "      <td>77.50</td>\n",
       "      <td>77.50</td>\n",
       "      <td>76.50</td>\n",
       "      <td>77.00</td>\n",
       "      <td>1694400</td>\n",
       "      <td>0.67</td>\n",
       "      <td>78.75</td>\n",
       "      <td>78.75</td>\n",
       "      <td>78.25</td>\n",
       "      <td>78.50</td>\n",
       "      <td>950400</td>\n",
       "      <td>0.65</td>\n",
       "    </tr>\n",
       "    <tr>\n",
       "      <th>...</th>\n",
       "      <td>...</td>\n",
       "      <td>...</td>\n",
       "      <td>...</td>\n",
       "      <td>...</td>\n",
       "      <td>...</td>\n",
       "      <td>...</td>\n",
       "      <td>...</td>\n",
       "      <td>...</td>\n",
       "      <td>...</td>\n",
       "      <td>...</td>\n",
       "      <td>...</td>\n",
       "      <td>...</td>\n",
       "    </tr>\n",
       "    <tr>\n",
       "      <th>2008-01-14</th>\n",
       "      <td>63.75</td>\n",
       "      <td>64.52</td>\n",
       "      <td>63.75</td>\n",
       "      <td>64.30</td>\n",
       "      <td>11465700</td>\n",
       "      <td>64.30</td>\n",
       "      <td>78.25</td>\n",
       "      <td>78.39</td>\n",
       "      <td>76.65</td>\n",
       "      <td>76.92</td>\n",
       "      <td>7762500</td>\n",
       "      <td>76.92</td>\n",
       "    </tr>\n",
       "    <tr>\n",
       "      <th>2008-01-15</th>\n",
       "      <td>63.63</td>\n",
       "      <td>64.20</td>\n",
       "      <td>63.56</td>\n",
       "      <td>63.61</td>\n",
       "      <td>11499700</td>\n",
       "      <td>63.61</td>\n",
       "      <td>76.02</td>\n",
       "      <td>76.55</td>\n",
       "      <td>74.71</td>\n",
       "      <td>74.83</td>\n",
       "      <td>9342100</td>\n",
       "      <td>74.83</td>\n",
       "    </tr>\n",
       "    <tr>\n",
       "      <th>2008-01-16</th>\n",
       "      <td>63.28</td>\n",
       "      <td>63.85</td>\n",
       "      <td>62.48</td>\n",
       "      <td>62.65</td>\n",
       "      <td>12667000</td>\n",
       "      <td>62.65</td>\n",
       "      <td>74.35</td>\n",
       "      <td>74.85</td>\n",
       "      <td>73.28</td>\n",
       "      <td>73.54</td>\n",
       "      <td>9636900</td>\n",
       "      <td>73.54</td>\n",
       "    </tr>\n",
       "    <tr>\n",
       "      <th>2008-01-17</th>\n",
       "      <td>63.25</td>\n",
       "      <td>63.31</td>\n",
       "      <td>61.90</td>\n",
       "      <td>62.04</td>\n",
       "      <td>18636500</td>\n",
       "      <td>62.04</td>\n",
       "      <td>73.70</td>\n",
       "      <td>73.70</td>\n",
       "      <td>71.84</td>\n",
       "      <td>72.10</td>\n",
       "      <td>10016800</td>\n",
       "      <td>72.10</td>\n",
       "    </tr>\n",
       "    <tr>\n",
       "      <th>2008-01-18</th>\n",
       "      <td>62.34</td>\n",
       "      <td>62.45</td>\n",
       "      <td>60.16</td>\n",
       "      <td>60.74</td>\n",
       "      <td>16879100</td>\n",
       "      <td>60.74</td>\n",
       "      <td>72.54</td>\n",
       "      <td>73.16</td>\n",
       "      <td>70.95</td>\n",
       "      <td>71.46</td>\n",
       "      <td>8986000</td>\n",
       "      <td>71.46</td>\n",
       "    </tr>\n",
       "  </tbody>\n",
       "</table>\n",
       "<p>7835 rows × 12 columns</p>\n",
       "</div>"
      ],
      "text/plain": [
       "            Open_KO  High_KO  Low_KO  Close_KO  Volume_KO  Adj Close_KO  \\\n",
       "Date                                                                      \n",
       "1977-01-03    79.00    79.00   78.12     78.50    1305600          0.68   \n",
       "1977-01-04    78.37    78.37   77.00     77.62    1440000          0.67   \n",
       "1977-01-05    77.62    77.75   76.37     76.37    2001600          0.66   \n",
       "1977-01-06    76.37    77.50   76.37     77.50    1555200          0.67   \n",
       "1977-01-07    77.50    77.50   76.50     77.00    1694400          0.67   \n",
       "...             ...      ...     ...       ...        ...           ...   \n",
       "2008-01-14    63.75    64.52   63.75     64.30   11465700         64.30   \n",
       "2008-01-15    63.63    64.20   63.56     63.61   11499700         63.61   \n",
       "2008-01-16    63.28    63.85   62.48     62.65   12667000         62.65   \n",
       "2008-01-17    63.25    63.31   61.90     62.04   18636500         62.04   \n",
       "2008-01-18    62.34    62.45   60.16     60.74   16879100         60.74   \n",
       "\n",
       "            Open_PEP  High_PEP  Low_PEP  Close_PEP  Volume_PEP  Adj Close_PEP  \n",
       "Date                                                                           \n",
       "1977-01-03     79.00     80.13    79.00      80.00     1085400           0.66  \n",
       "1977-01-04     80.00     80.25    78.88      79.00     3018600           0.65  \n",
       "1977-01-05     78.75     78.75    77.88      78.38     2246400           0.65  \n",
       "1977-01-06     78.63     79.00    78.63      78.75     1004400           0.65  \n",
       "1977-01-07     78.75     78.75    78.25      78.50      950400           0.65  \n",
       "...              ...       ...      ...        ...         ...            ...  \n",
       "2008-01-14     78.25     78.39    76.65      76.92     7762500          76.92  \n",
       "2008-01-15     76.02     76.55    74.71      74.83     9342100          74.83  \n",
       "2008-01-16     74.35     74.85    73.28      73.54     9636900          73.54  \n",
       "2008-01-17     73.70     73.70    71.84      72.10    10016800          72.10  \n",
       "2008-01-18     72.54     73.16    70.95      71.46     8986000          71.46  \n",
       "\n",
       "[7835 rows x 12 columns]"
      ]
     },
     "execution_count": 12,
     "metadata": {},
     "output_type": "execute_result"
    }
   ],
   "source": [
    "df"
   ]
  },
  {
   "cell_type": "markdown",
   "metadata": {},
   "source": [
    "## Run cointegration (Engle-Granger) test"
   ]
  },
  {
   "cell_type": "code",
   "execution_count": 13,
   "metadata": {},
   "outputs": [],
   "source": [
    "coint_t, pvalue, crit_value=coint(df['Adj Close_KO'], df['Adj Close_PEP'])"
   ]
  },
  {
   "cell_type": "code",
   "execution_count": 14,
   "metadata": {},
   "outputs": [
    {
     "data": {
      "text/plain": [
       "(-1.5815517041517138,\n",
       " 0.7286134576473544,\n",
       " array([-3.89783854, -3.33691006, -3.04499143]))"
      ]
     },
     "execution_count": 14,
     "metadata": {},
     "output_type": "execute_result"
    }
   ],
   "source": [
    "# abs(t-stat) < critical value at 90%.\n",
    "# pvalue says probability of null hypothesis (of no cointegration) is 73%\n",
    "(coint_t, pvalue, crit_value)"
   ]
  },
  {
   "cell_type": "markdown",
   "metadata": {},
   "source": [
    "## Determine hedge ratio"
   ]
  },
  {
   "cell_type": "code",
   "execution_count": 15,
   "metadata": {},
   "outputs": [],
   "source": [
    "model=OLS(df['Adj Close_KO'], df['Adj Close_PEP'])"
   ]
  },
  {
   "cell_type": "code",
   "execution_count": 16,
   "metadata": {},
   "outputs": [],
   "source": [
    "results=model.fit()"
   ]
  },
  {
   "cell_type": "code",
   "execution_count": 17,
   "metadata": {},
   "outputs": [],
   "source": [
    "hedgeRatio=results.params"
   ]
  },
  {
   "cell_type": "code",
   "execution_count": 18,
   "metadata": {
    "scrolled": true
   },
   "outputs": [
    {
     "data": {
      "text/plain": [
       "Adj Close_PEP    1.011409\n",
       "dtype: float64"
      ]
     },
     "execution_count": 18,
     "metadata": {},
     "output_type": "execute_result"
    }
   ],
   "source": [
    "hedgeRatio"
   ]
  },
  {
   "cell_type": "markdown",
   "metadata": {},
   "source": [
    "##  spread = KO - hedgeRatio*PEP"
   ]
  },
  {
   "cell_type": "code",
   "execution_count": 19,
   "metadata": {},
   "outputs": [],
   "source": [
    "spread=df['Adj Close_KO']-hedgeRatio[0]*df['Adj Close_PEP']"
   ]
  },
  {
   "cell_type": "code",
   "execution_count": 20,
   "metadata": {},
   "outputs": [
    {
     "data": {
      "text/plain": [
       "[<matplotlib.lines.Line2D at 0x15a2ef490>]"
      ]
     },
     "execution_count": 20,
     "metadata": {},
     "output_type": "execute_result"
    },
    {
     "data": {
      "image/png": "[encoded data removed]",
      "text/plain": [
       "<Figure size 640x480 with 1 Axes>"
      ]
     },
     "metadata": {},
     "output_type": "display_data"
    }
   ],
   "source": [
    "plt.plot(spread) # Figure 7.2"
   ]
  },
  {
   "cell_type": "markdown",
   "metadata": {},
   "source": [
    "## Correlation test"
   ]
  },
  {
   "cell_type": "code",
   "execution_count": 21,
   "metadata": {},
   "outputs": [],
   "source": [
    "dailyret=df.loc[:, ('Adj Close_KO', 'Adj Close_PEP')].pct_change()"
   ]
  },
  {
   "cell_type": "code",
   "execution_count": 22,
   "metadata": {},
   "outputs": [
    {
     "data": {
      "text/html": [
       "<div>\n",
       "<style scoped>\n",
       "    .dataframe tbody tr th:only-of-type {\n",
       "        vertical-align: middle;\n",
       "    }\n",
       "\n",
       "    .dataframe tbody tr th {\n",
       "        vertical-align: top;\n",
       "    }\n",
       "\n",
       "    .dataframe thead th {\n",
       "        text-align: right;\n",
       "    }\n",
       "</style>\n",
       "<table border=\"1\" class=\"dataframe\">\n",
       "  <thead>\n",
       "    <tr style=\"text-align: right;\">\n",
       "      <th></th>\n",
       "      <th>Adj Close_KO</th>\n",
       "      <th>Adj Close_PEP</th>\n",
       "    </tr>\n",
       "  </thead>\n",
       "  <tbody>\n",
       "    <tr>\n",
       "      <th>Adj Close_KO</th>\n",
       "      <td>1.000000</td>\n",
       "      <td>0.484924</td>\n",
       "    </tr>\n",
       "    <tr>\n",
       "      <th>Adj Close_PEP</th>\n",
       "      <td>0.484924</td>\n",
       "      <td>1.000000</td>\n",
       "    </tr>\n",
       "  </tbody>\n",
       "</table>\n",
       "</div>"
      ],
      "text/plain": [
       "               Adj Close_KO  Adj Close_PEP\n",
       "Adj Close_KO       1.000000       0.484924\n",
       "Adj Close_PEP      0.484924       1.000000"
      ]
     },
     "execution_count": 22,
     "metadata": {},
     "output_type": "execute_result"
    }
   ],
   "source": [
    "dailyret.corr()"
   ]
  },
  {
   "cell_type": "code",
   "execution_count": 23,
   "metadata": {},
   "outputs": [],
   "source": [
    "dailyret_clean=dailyret.dropna()"
   ]
  },
  {
   "cell_type": "code",
   "execution_count": 24,
   "metadata": {},
   "outputs": [
    {
     "data": {
      "text/plain": [
       "PearsonRResult(statistic=0.48492394393705235, pvalue=0.0)"
      ]
     },
     "execution_count": 24,
     "metadata": {},
     "output_type": "execute_result"
    }
   ],
   "source": [
    "# first output is correlation coefficient, second output is pvalue.\n",
    "pearsonr(dailyret_clean.iloc[:,0], dailyret_clean.iloc[:,1])"
   ]
  }
 ],
 "metadata": {
  "kernelspec": {
   "display_name": "Python 3 (ipykernel)",
   "language": "python",
   "name": "python3"
  },
  "language_info": {
   "codemirror_mode": {
    "name": "ipython",
    "version": 3
   },
   "file_extension": ".py",
   "mimetype": "text/x-python",
   "name": "python",
   "nbconvert_exporter": "python",
   "pygments_lexer": "ipython3",
   "version": "3.10.11"
  }
 },
 "nbformat": 4,
 "nbformat_minor": 2
}
