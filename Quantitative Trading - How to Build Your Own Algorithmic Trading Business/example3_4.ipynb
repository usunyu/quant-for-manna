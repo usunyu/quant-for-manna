{
 "cells": [
  {
   "cell_type": "markdown",
   "metadata": {},
   "source": [
    "# Calculating Sharpe Ratio for Long-Only Vs Market Neutral Strategies"
   ]
  },
  {
   "cell_type": "code",
   "execution_count": 1,
   "metadata": {},
   "outputs": [],
   "source": [
    "import numpy as np"
   ]
  },
  {
   "cell_type": "code",
   "execution_count": 2,
   "metadata": {},
   "outputs": [],
   "source": [
    "import pandas as pd"
   ]
  },
  {
   "cell_type": "code",
   "execution_count": 3,
   "metadata": {},
   "outputs": [],
   "source": [
    "import matplotlib.pyplot as plt"
   ]
  },
  {
   "cell_type": "markdown",
   "metadata": {},
   "source": [
    "# First part of example"
   ]
  },
  {
   "cell_type": "code",
   "execution_count": 4,
   "metadata": {},
   "outputs": [],
   "source": [
    "df=pd.read_excel('IGE.xls')"
   ]
  },
  {
   "cell_type": "code",
   "execution_count": 5,
   "metadata": {},
   "outputs": [],
   "source": [
    "df.sort_values(by='Date', inplace=True)"
   ]
  },
  {
   "cell_type": "code",
   "execution_count": 6,
   "metadata": {},
   "outputs": [
    {
     "data": {
      "text/html": [
       "<div>\n",
       "<style scoped>\n",
       "    .dataframe tbody tr th:only-of-type {\n",
       "        vertical-align: middle;\n",
       "    }\n",
       "\n",
       "    .dataframe tbody tr th {\n",
       "        vertical-align: top;\n",
       "    }\n",
       "\n",
       "    .dataframe thead th {\n",
       "        text-align: right;\n",
       "    }\n",
       "</style>\n",
       "<table border=\"1\" class=\"dataframe\">\n",
       "  <thead>\n",
       "    <tr style=\"text-align: right;\">\n",
       "      <th></th>\n",
       "      <th>Date</th>\n",
       "      <th>Open</th>\n",
       "      <th>High</th>\n",
       "      <th>Low</th>\n",
       "      <th>Close</th>\n",
       "      <th>Volume</th>\n",
       "      <th>Adj Close</th>\n",
       "    </tr>\n",
       "  </thead>\n",
       "  <tbody>\n",
       "    <tr>\n",
       "      <th>1503</th>\n",
       "      <td>2001-11-26</td>\n",
       "      <td>91.01</td>\n",
       "      <td>91.01</td>\n",
       "      <td>91.01</td>\n",
       "      <td>91.01</td>\n",
       "      <td>0</td>\n",
       "      <td>42.09</td>\n",
       "    </tr>\n",
       "    <tr>\n",
       "      <th>1502</th>\n",
       "      <td>2001-11-27</td>\n",
       "      <td>91.01</td>\n",
       "      <td>91.01</td>\n",
       "      <td>91.01</td>\n",
       "      <td>91.01</td>\n",
       "      <td>0</td>\n",
       "      <td>42.09</td>\n",
       "    </tr>\n",
       "    <tr>\n",
       "      <th>1501</th>\n",
       "      <td>2001-11-28</td>\n",
       "      <td>91.01</td>\n",
       "      <td>91.01</td>\n",
       "      <td>91.01</td>\n",
       "      <td>91.01</td>\n",
       "      <td>0</td>\n",
       "      <td>42.09</td>\n",
       "    </tr>\n",
       "    <tr>\n",
       "      <th>1500</th>\n",
       "      <td>2001-11-29</td>\n",
       "      <td>91.01</td>\n",
       "      <td>91.01</td>\n",
       "      <td>91.01</td>\n",
       "      <td>91.01</td>\n",
       "      <td>0</td>\n",
       "      <td>42.09</td>\n",
       "    </tr>\n",
       "    <tr>\n",
       "      <th>1499</th>\n",
       "      <td>2001-11-30</td>\n",
       "      <td>91.32</td>\n",
       "      <td>91.32</td>\n",
       "      <td>91.32</td>\n",
       "      <td>91.32</td>\n",
       "      <td>200</td>\n",
       "      <td>42.23</td>\n",
       "    </tr>\n",
       "    <tr>\n",
       "      <th>...</th>\n",
       "      <td>...</td>\n",
       "      <td>...</td>\n",
       "      <td>...</td>\n",
       "      <td>...</td>\n",
       "      <td>...</td>\n",
       "      <td>...</td>\n",
       "      <td>...</td>\n",
       "    </tr>\n",
       "    <tr>\n",
       "      <th>4</th>\n",
       "      <td>2007-11-08</td>\n",
       "      <td>133.49</td>\n",
       "      <td>135.14</td>\n",
       "      <td>131.00</td>\n",
       "      <td>133.36</td>\n",
       "      <td>105600</td>\n",
       "      <td>133.36</td>\n",
       "    </tr>\n",
       "    <tr>\n",
       "      <th>3</th>\n",
       "      <td>2007-11-09</td>\n",
       "      <td>133.10</td>\n",
       "      <td>133.10</td>\n",
       "      <td>130.25</td>\n",
       "      <td>131.02</td>\n",
       "      <td>54000</td>\n",
       "      <td>131.02</td>\n",
       "    </tr>\n",
       "    <tr>\n",
       "      <th>2</th>\n",
       "      <td>2007-11-12</td>\n",
       "      <td>132.02</td>\n",
       "      <td>132.02</td>\n",
       "      <td>124.85</td>\n",
       "      <td>124.88</td>\n",
       "      <td>98600</td>\n",
       "      <td>124.88</td>\n",
       "    </tr>\n",
       "    <tr>\n",
       "      <th>1</th>\n",
       "      <td>2007-11-13</td>\n",
       "      <td>124.76</td>\n",
       "      <td>127.32</td>\n",
       "      <td>123.88</td>\n",
       "      <td>127.30</td>\n",
       "      <td>73300</td>\n",
       "      <td>127.30</td>\n",
       "    </tr>\n",
       "    <tr>\n",
       "      <th>0</th>\n",
       "      <td>2007-11-14</td>\n",
       "      <td>129.32</td>\n",
       "      <td>129.58</td>\n",
       "      <td>126.90</td>\n",
       "      <td>127.64</td>\n",
       "      <td>35900</td>\n",
       "      <td>127.64</td>\n",
       "    </tr>\n",
       "  </tbody>\n",
       "</table>\n",
       "<p>1504 rows × 7 columns</p>\n",
       "</div>"
      ],
      "text/plain": [
       "           Date    Open    High     Low   Close  Volume  Adj Close\n",
       "1503 2001-11-26   91.01   91.01   91.01   91.01       0      42.09\n",
       "1502 2001-11-27   91.01   91.01   91.01   91.01       0      42.09\n",
       "1501 2001-11-28   91.01   91.01   91.01   91.01       0      42.09\n",
       "1500 2001-11-29   91.01   91.01   91.01   91.01       0      42.09\n",
       "1499 2001-11-30   91.32   91.32   91.32   91.32     200      42.23\n",
       "...         ...     ...     ...     ...     ...     ...        ...\n",
       "4    2007-11-08  133.49  135.14  131.00  133.36  105600     133.36\n",
       "3    2007-11-09  133.10  133.10  130.25  131.02   54000     131.02\n",
       "2    2007-11-12  132.02  132.02  124.85  124.88   98600     124.88\n",
       "1    2007-11-13  124.76  127.32  123.88  127.30   73300     127.30\n",
       "0    2007-11-14  129.32  129.58  126.90  127.64   35900     127.64\n",
       "\n",
       "[1504 rows x 7 columns]"
      ]
     },
     "execution_count": 6,
     "metadata": {},
     "output_type": "execute_result"
    }
   ],
   "source": [
    "df"
   ]
  },
  {
   "cell_type": "code",
   "execution_count": 7,
   "metadata": {},
   "outputs": [],
   "source": [
    "dailyret=df.loc[:, 'Adj Close'].pct_change() # daily returns"
   ]
  },
  {
   "cell_type": "code",
   "execution_count": 8,
   "metadata": {},
   "outputs": [
    {
     "data": {
      "text/plain": [
       "1503         NaN\n",
       "1502    0.000000\n",
       "1501    0.000000\n",
       "1500    0.000000\n",
       "1499    0.003326\n",
       "          ...   \n",
       "4       0.006491\n",
       "3      -0.017546\n",
       "2      -0.046863\n",
       "1       0.019379\n",
       "0       0.002671\n",
       "Name: Adj Close, Length: 1504, dtype: float64"
      ]
     },
     "execution_count": 8,
     "metadata": {},
     "output_type": "execute_result"
    }
   ],
   "source": [
    "dailyret"
   ]
  },
  {
   "cell_type": "code",
   "execution_count": 9,
   "metadata": {},
   "outputs": [],
   "source": [
    "excessRet=dailyret-0.04/252 #  excess daily returns = strategy returns - financing cost, assuming risk-free rate of "
   ]
  },
  {
   "cell_type": "code",
   "execution_count": 10,
   "metadata": {},
   "outputs": [
    {
     "data": {
      "text/plain": [
       "1503         NaN\n",
       "1502   -0.000159\n",
       "1501   -0.000159\n",
       "1500   -0.000159\n",
       "1499    0.003167\n",
       "          ...   \n",
       "4       0.006332\n",
       "3      -0.017705\n",
       "2      -0.047022\n",
       "1       0.019220\n",
       "0       0.002512\n",
       "Name: Adj Close, Length: 1504, dtype: float64"
      ]
     },
     "execution_count": 10,
     "metadata": {},
     "output_type": "execute_result"
    }
   ],
   "source": [
    "excessRet"
   ]
  },
  {
   "cell_type": "code",
   "execution_count": 11,
   "metadata": {},
   "outputs": [],
   "source": [
    "sharpeRatio=np.sqrt(252)*np.mean(excessRet)/np.std(excessRet)"
   ]
  },
  {
   "cell_type": "code",
   "execution_count": 12,
   "metadata": {},
   "outputs": [
    {
     "data": {
      "text/plain": [
       "0.789580250130583"
      ]
     },
     "execution_count": 12,
     "metadata": {},
     "output_type": "execute_result"
    }
   ],
   "source": [
    "sharpeRatio"
   ]
  },
  {
   "cell_type": "code",
   "execution_count": 13,
   "metadata": {},
   "outputs": [],
   "source": [
    "df['Date']=pd.to_datetime(df['Date'])"
   ]
  },
  {
   "cell_type": "code",
   "execution_count": 14,
   "metadata": {},
   "outputs": [],
   "source": [
    "df.set_index('Date', inplace=True)"
   ]
  },
  {
   "cell_type": "code",
   "execution_count": 15,
   "metadata": {},
   "outputs": [],
   "source": [
    "df.sort_index(inplace=True)"
   ]
  },
  {
   "cell_type": "code",
   "execution_count": 16,
   "metadata": {},
   "outputs": [
    {
     "data": {
      "text/html": [
       "<div>\n",
       "<style scoped>\n",
       "    .dataframe tbody tr th:only-of-type {\n",
       "        vertical-align: middle;\n",
       "    }\n",
       "\n",
       "    .dataframe tbody tr th {\n",
       "        vertical-align: top;\n",
       "    }\n",
       "\n",
       "    .dataframe thead th {\n",
       "        text-align: right;\n",
       "    }\n",
       "</style>\n",
       "<table border=\"1\" class=\"dataframe\">\n",
       "  <thead>\n",
       "    <tr style=\"text-align: right;\">\n",
       "      <th></th>\n",
       "      <th>Open</th>\n",
       "      <th>High</th>\n",
       "      <th>Low</th>\n",
       "      <th>Close</th>\n",
       "      <th>Volume</th>\n",
       "      <th>Adj Close</th>\n",
       "    </tr>\n",
       "    <tr>\n",
       "      <th>Date</th>\n",
       "      <th></th>\n",
       "      <th></th>\n",
       "      <th></th>\n",
       "      <th></th>\n",
       "      <th></th>\n",
       "      <th></th>\n",
       "    </tr>\n",
       "  </thead>\n",
       "  <tbody>\n",
       "    <tr>\n",
       "      <th>2001-11-26</th>\n",
       "      <td>91.01</td>\n",
       "      <td>91.01</td>\n",
       "      <td>91.01</td>\n",
       "      <td>91.01</td>\n",
       "      <td>0</td>\n",
       "      <td>42.09</td>\n",
       "    </tr>\n",
       "    <tr>\n",
       "      <th>2001-11-27</th>\n",
       "      <td>91.01</td>\n",
       "      <td>91.01</td>\n",
       "      <td>91.01</td>\n",
       "      <td>91.01</td>\n",
       "      <td>0</td>\n",
       "      <td>42.09</td>\n",
       "    </tr>\n",
       "    <tr>\n",
       "      <th>2001-11-28</th>\n",
       "      <td>91.01</td>\n",
       "      <td>91.01</td>\n",
       "      <td>91.01</td>\n",
       "      <td>91.01</td>\n",
       "      <td>0</td>\n",
       "      <td>42.09</td>\n",
       "    </tr>\n",
       "    <tr>\n",
       "      <th>2001-11-29</th>\n",
       "      <td>91.01</td>\n",
       "      <td>91.01</td>\n",
       "      <td>91.01</td>\n",
       "      <td>91.01</td>\n",
       "      <td>0</td>\n",
       "      <td>42.09</td>\n",
       "    </tr>\n",
       "    <tr>\n",
       "      <th>2001-11-30</th>\n",
       "      <td>91.32</td>\n",
       "      <td>91.32</td>\n",
       "      <td>91.32</td>\n",
       "      <td>91.32</td>\n",
       "      <td>200</td>\n",
       "      <td>42.23</td>\n",
       "    </tr>\n",
       "    <tr>\n",
       "      <th>...</th>\n",
       "      <td>...</td>\n",
       "      <td>...</td>\n",
       "      <td>...</td>\n",
       "      <td>...</td>\n",
       "      <td>...</td>\n",
       "      <td>...</td>\n",
       "    </tr>\n",
       "    <tr>\n",
       "      <th>2007-11-08</th>\n",
       "      <td>133.49</td>\n",
       "      <td>135.14</td>\n",
       "      <td>131.00</td>\n",
       "      <td>133.36</td>\n",
       "      <td>105600</td>\n",
       "      <td>133.36</td>\n",
       "    </tr>\n",
       "    <tr>\n",
       "      <th>2007-11-09</th>\n",
       "      <td>133.10</td>\n",
       "      <td>133.10</td>\n",
       "      <td>130.25</td>\n",
       "      <td>131.02</td>\n",
       "      <td>54000</td>\n",
       "      <td>131.02</td>\n",
       "    </tr>\n",
       "    <tr>\n",
       "      <th>2007-11-12</th>\n",
       "      <td>132.02</td>\n",
       "      <td>132.02</td>\n",
       "      <td>124.85</td>\n",
       "      <td>124.88</td>\n",
       "      <td>98600</td>\n",
       "      <td>124.88</td>\n",
       "    </tr>\n",
       "    <tr>\n",
       "      <th>2007-11-13</th>\n",
       "      <td>124.76</td>\n",
       "      <td>127.32</td>\n",
       "      <td>123.88</td>\n",
       "      <td>127.30</td>\n",
       "      <td>73300</td>\n",
       "      <td>127.30</td>\n",
       "    </tr>\n",
       "    <tr>\n",
       "      <th>2007-11-14</th>\n",
       "      <td>129.32</td>\n",
       "      <td>129.58</td>\n",
       "      <td>126.90</td>\n",
       "      <td>127.64</td>\n",
       "      <td>35900</td>\n",
       "      <td>127.64</td>\n",
       "    </tr>\n",
       "  </tbody>\n",
       "</table>\n",
       "<p>1504 rows × 6 columns</p>\n",
       "</div>"
      ],
      "text/plain": [
       "              Open    High     Low   Close  Volume  Adj Close\n",
       "Date                                                         \n",
       "2001-11-26   91.01   91.01   91.01   91.01       0      42.09\n",
       "2001-11-27   91.01   91.01   91.01   91.01       0      42.09\n",
       "2001-11-28   91.01   91.01   91.01   91.01       0      42.09\n",
       "2001-11-29   91.01   91.01   91.01   91.01       0      42.09\n",
       "2001-11-30   91.32   91.32   91.32   91.32     200      42.23\n",
       "...            ...     ...     ...     ...     ...        ...\n",
       "2007-11-08  133.49  135.14  131.00  133.36  105600     133.36\n",
       "2007-11-09  133.10  133.10  130.25  131.02   54000     131.02\n",
       "2007-11-12  132.02  132.02  124.85  124.88   98600     124.88\n",
       "2007-11-13  124.76  127.32  123.88  127.30   73300     127.30\n",
       "2007-11-14  129.32  129.58  126.90  127.64   35900     127.64\n",
       "\n",
       "[1504 rows x 6 columns]"
      ]
     },
     "execution_count": 16,
     "metadata": {},
     "output_type": "execute_result"
    }
   ],
   "source": [
    "df"
   ]
  },
  {
   "cell_type": "code",
   "execution_count": 17,
   "metadata": {},
   "outputs": [],
   "source": [
    "dailyret=df['Adj Close'].pct_change() # daily returns"
   ]
  },
  {
   "cell_type": "code",
   "execution_count": 18,
   "metadata": {},
   "outputs": [
    {
     "data": {
      "text/plain": [
       "Date\n",
       "2001-11-26         NaN\n",
       "2001-11-27    0.000000\n",
       "2001-11-28    0.000000\n",
       "2001-11-29    0.000000\n",
       "2001-11-30    0.003326\n",
       "                ...   \n",
       "2007-11-08    0.006491\n",
       "2007-11-09   -0.017546\n",
       "2007-11-12   -0.046863\n",
       "2007-11-13    0.019379\n",
       "2007-11-14    0.002671\n",
       "Name: Adj Close, Length: 1504, dtype: float64"
      ]
     },
     "execution_count": 18,
     "metadata": {},
     "output_type": "execute_result"
    }
   ],
   "source": [
    "dailyret"
   ]
  },
  {
   "cell_type": "code",
   "execution_count": 19,
   "metadata": {},
   "outputs": [],
   "source": [
    "excessRet=dailyret-0.04/252 #  excess daily returns = strategy returns - financing cost, assuming risk-free rate of "
   ]
  },
  {
   "cell_type": "code",
   "execution_count": 20,
   "metadata": {},
   "outputs": [
    {
     "data": {
      "text/plain": [
       "Date\n",
       "2001-11-26         NaN\n",
       "2001-11-27   -0.000159\n",
       "2001-11-28   -0.000159\n",
       "2001-11-29   -0.000159\n",
       "2001-11-30    0.003167\n",
       "                ...   \n",
       "2007-11-08    0.006332\n",
       "2007-11-09   -0.017705\n",
       "2007-11-12   -0.047022\n",
       "2007-11-13    0.019220\n",
       "2007-11-14    0.002512\n",
       "Name: Adj Close, Length: 1504, dtype: float64"
      ]
     },
     "execution_count": 20,
     "metadata": {},
     "output_type": "execute_result"
    }
   ],
   "source": [
    "excessRet"
   ]
  },
  {
   "cell_type": "code",
   "execution_count": 21,
   "metadata": {},
   "outputs": [],
   "source": [
    "sharpeRatio=np.sqrt(252)*np.mean(excessRet)/np.std(excessRet)"
   ]
  },
  {
   "cell_type": "code",
   "execution_count": 22,
   "metadata": {},
   "outputs": [
    {
     "data": {
      "text/plain": [
       "0.789580250130583"
      ]
     },
     "execution_count": 22,
     "metadata": {},
     "output_type": "execute_result"
    }
   ],
   "source": [
    "sharpeRatio"
   ]
  },
  {
   "cell_type": "code",
   "execution_count": 23,
   "metadata": {},
   "outputs": [],
   "source": [
    "cumret=np.cumprod(1+excessRet)-1"
   ]
  },
  {
   "cell_type": "code",
   "execution_count": 24,
   "metadata": {},
   "outputs": [
    {
     "data": {
      "text/plain": [
       "[<matplotlib.lines.Line2D at 0x7fe8aaf23af0>]"
      ]
     },
     "execution_count": 24,
     "metadata": {},
     "output_type": "execute_result"
    },
    {
     "data": {
      "image/png": "[encoded data removed]",
      "text/plain": [
       "<Figure size 432x288 with 1 Axes>"
      ]
     },
     "metadata": {
      "needs_background": "light"
     },
     "output_type": "display_data"
    }
   ],
   "source": [
    "plt.plot(cumret)"
   ]
  },
  {
   "cell_type": "code",
   "execution_count": 25,
   "metadata": {},
   "outputs": [],
   "source": [
    "from calculateMaxDD import calculateMaxDD"
   ]
  },
  {
   "cell_type": "code",
   "execution_count": 26,
   "metadata": {},
   "outputs": [],
   "source": [
    "maxDrawdown, maxDrawdownDuration, startDrawdownDay=calculateMaxDD(cumret.values)"
   ]
  },
  {
   "cell_type": "code",
   "execution_count": 27,
   "metadata": {},
   "outputs": [
    {
     "data": {
      "text/plain": [
       "-0.32620433108803115"
      ]
     },
     "execution_count": 27,
     "metadata": {},
     "output_type": "execute_result"
    }
   ],
   "source": [
    "maxDrawdown"
   ]
  },
  {
   "cell_type": "code",
   "execution_count": 28,
   "metadata": {},
   "outputs": [
    {
     "data": {
      "text/plain": [
       "443.0"
      ]
     },
     "execution_count": 28,
     "metadata": {},
     "output_type": "execute_result"
    }
   ],
   "source": [
    "maxDrawdownDuration"
   ]
  },
  {
   "cell_type": "code",
   "execution_count": 29,
   "metadata": {},
   "outputs": [
    {
     "data": {
      "text/plain": [
       "219"
      ]
     },
     "execution_count": 29,
     "metadata": {},
     "output_type": "execute_result"
    }
   ],
   "source": [
    "startDrawdownDay"
   ]
  },
  {
   "cell_type": "markdown",
   "metadata": {},
   "source": [
    "# Second part of example"
   ]
  },
  {
   "cell_type": "code",
   "execution_count": 30,
   "metadata": {},
   "outputs": [],
   "source": [
    "df2=pd.read_excel('SPY.xls')"
   ]
  },
  {
   "cell_type": "code",
   "execution_count": 31,
   "metadata": {},
   "outputs": [
    {
     "data": {
      "text/html": [
       "<div>\n",
       "<style scoped>\n",
       "    .dataframe tbody tr th:only-of-type {\n",
       "        vertical-align: middle;\n",
       "    }\n",
       "\n",
       "    .dataframe tbody tr th {\n",
       "        vertical-align: top;\n",
       "    }\n",
       "\n",
       "    .dataframe thead th {\n",
       "        text-align: right;\n",
       "    }\n",
       "</style>\n",
       "<table border=\"1\" class=\"dataframe\">\n",
       "  <thead>\n",
       "    <tr style=\"text-align: right;\">\n",
       "      <th></th>\n",
       "      <th>Date</th>\n",
       "      <th>Open</th>\n",
       "      <th>High</th>\n",
       "      <th>Low</th>\n",
       "      <th>Close</th>\n",
       "      <th>Volume</th>\n",
       "      <th>Adj Close</th>\n",
       "    </tr>\n",
       "  </thead>\n",
       "  <tbody>\n",
       "    <tr>\n",
       "      <th>0</th>\n",
       "      <td>2001-11-26</td>\n",
       "      <td>115.75</td>\n",
       "      <td>116.34</td>\n",
       "      <td>115.07</td>\n",
       "      <td>115.93</td>\n",
       "      <td>13726000</td>\n",
       "      <td>105.52</td>\n",
       "    </tr>\n",
       "    <tr>\n",
       "      <th>1</th>\n",
       "      <td>2001-11-27</td>\n",
       "      <td>115.62</td>\n",
       "      <td>116.90</td>\n",
       "      <td>114.09</td>\n",
       "      <td>115.43</td>\n",
       "      <td>19261400</td>\n",
       "      <td>105.06</td>\n",
       "    </tr>\n",
       "    <tr>\n",
       "      <th>2</th>\n",
       "      <td>2001-11-28</td>\n",
       "      <td>114.74</td>\n",
       "      <td>115.17</td>\n",
       "      <td>113.25</td>\n",
       "      <td>113.34</td>\n",
       "      <td>20195500</td>\n",
       "      <td>103.16</td>\n",
       "    </tr>\n",
       "    <tr>\n",
       "      <th>3</th>\n",
       "      <td>2001-11-29</td>\n",
       "      <td>113.66</td>\n",
       "      <td>114.92</td>\n",
       "      <td>113.00</td>\n",
       "      <td>114.87</td>\n",
       "      <td>16354700</td>\n",
       "      <td>104.55</td>\n",
       "    </tr>\n",
       "    <tr>\n",
       "      <th>4</th>\n",
       "      <td>2001-11-30</td>\n",
       "      <td>114.40</td>\n",
       "      <td>114.91</td>\n",
       "      <td>114.02</td>\n",
       "      <td>114.05</td>\n",
       "      <td>13680300</td>\n",
       "      <td>103.81</td>\n",
       "    </tr>\n",
       "    <tr>\n",
       "      <th>...</th>\n",
       "      <td>...</td>\n",
       "      <td>...</td>\n",
       "      <td>...</td>\n",
       "      <td>...</td>\n",
       "      <td>...</td>\n",
       "      <td>...</td>\n",
       "      <td>...</td>\n",
       "    </tr>\n",
       "    <tr>\n",
       "      <th>1499</th>\n",
       "      <td>2007-11-08</td>\n",
       "      <td>147.99</td>\n",
       "      <td>148.40</td>\n",
       "      <td>145.07</td>\n",
       "      <td>147.16</td>\n",
       "      <td>374275700</td>\n",
       "      <td>147.16</td>\n",
       "    </tr>\n",
       "    <tr>\n",
       "      <th>1500</th>\n",
       "      <td>2007-11-09</td>\n",
       "      <td>145.69</td>\n",
       "      <td>147.54</td>\n",
       "      <td>144.89</td>\n",
       "      <td>145.14</td>\n",
       "      <td>277718500</td>\n",
       "      <td>145.14</td>\n",
       "    </tr>\n",
       "    <tr>\n",
       "      <th>1501</th>\n",
       "      <td>2007-11-12</td>\n",
       "      <td>145.21</td>\n",
       "      <td>146.61</td>\n",
       "      <td>143.70</td>\n",
       "      <td>143.70</td>\n",
       "      <td>242917600</td>\n",
       "      <td>143.70</td>\n",
       "    </tr>\n",
       "    <tr>\n",
       "      <th>1502</th>\n",
       "      <td>2007-11-13</td>\n",
       "      <td>145.37</td>\n",
       "      <td>148.31</td>\n",
       "      <td>145.22</td>\n",
       "      <td>148.08</td>\n",
       "      <td>191022700</td>\n",
       "      <td>148.08</td>\n",
       "    </tr>\n",
       "    <tr>\n",
       "      <th>1503</th>\n",
       "      <td>2007-11-14</td>\n",
       "      <td>149.22</td>\n",
       "      <td>149.40</td>\n",
       "      <td>146.78</td>\n",
       "      <td>147.67</td>\n",
       "      <td>229932600</td>\n",
       "      <td>147.67</td>\n",
       "    </tr>\n",
       "  </tbody>\n",
       "</table>\n",
       "<p>1504 rows × 7 columns</p>\n",
       "</div>"
      ],
      "text/plain": [
       "           Date    Open    High     Low   Close     Volume  Adj Close\n",
       "0    2001-11-26  115.75  116.34  115.07  115.93   13726000     105.52\n",
       "1    2001-11-27  115.62  116.90  114.09  115.43   19261400     105.06\n",
       "2    2001-11-28  114.74  115.17  113.25  113.34   20195500     103.16\n",
       "3    2001-11-29  113.66  114.92  113.00  114.87   16354700     104.55\n",
       "4    2001-11-30  114.40  114.91  114.02  114.05   13680300     103.81\n",
       "...         ...     ...     ...     ...     ...        ...        ...\n",
       "1499 2007-11-08  147.99  148.40  145.07  147.16  374275700     147.16\n",
       "1500 2007-11-09  145.69  147.54  144.89  145.14  277718500     145.14\n",
       "1501 2007-11-12  145.21  146.61  143.70  143.70  242917600     143.70\n",
       "1502 2007-11-13  145.37  148.31  145.22  148.08  191022700     148.08\n",
       "1503 2007-11-14  149.22  149.40  146.78  147.67  229932600     147.67\n",
       "\n",
       "[1504 rows x 7 columns]"
      ]
     },
     "execution_count": 31,
     "metadata": {},
     "output_type": "execute_result"
    }
   ],
   "source": [
    "df2"
   ]
  },
  {
   "cell_type": "code",
   "execution_count": 32,
   "metadata": {},
   "outputs": [],
   "source": [
    "df=pd.merge(df, df2, on='Date', suffixes=('_IGE', '_SPY'))"
   ]
  },
  {
   "cell_type": "code",
   "execution_count": 33,
   "metadata": {},
   "outputs": [],
   "source": [
    "df['Date']=pd.to_datetime(df['Date'])"
   ]
  },
  {
   "cell_type": "code",
   "execution_count": 34,
   "metadata": {},
   "outputs": [],
   "source": [
    "df.set_index('Date', inplace=True)"
   ]
  },
  {
   "cell_type": "code",
   "execution_count": 35,
   "metadata": {},
   "outputs": [],
   "source": [
    "df.sort_index(inplace=True)"
   ]
  },
  {
   "cell_type": "code",
   "execution_count": 36,
   "metadata": {},
   "outputs": [
    {
     "data": {
      "text/html": [
       "<div>\n",
       "<style scoped>\n",
       "    .dataframe tbody tr th:only-of-type {\n",
       "        vertical-align: middle;\n",
       "    }\n",
       "\n",
       "    .dataframe tbody tr th {\n",
       "        vertical-align: top;\n",
       "    }\n",
       "\n",
       "    .dataframe thead th {\n",
       "        text-align: right;\n",
       "    }\n",
       "</style>\n",
       "<table border=\"1\" class=\"dataframe\">\n",
       "  <thead>\n",
       "    <tr style=\"text-align: right;\">\n",
       "      <th></th>\n",
       "      <th>Open_IGE</th>\n",
       "      <th>High_IGE</th>\n",
       "      <th>Low_IGE</th>\n",
       "      <th>Close_IGE</th>\n",
       "      <th>Volume_IGE</th>\n",
       "      <th>Adj Close_IGE</th>\n",
       "      <th>Open_SPY</th>\n",
       "      <th>High_SPY</th>\n",
       "      <th>Low_SPY</th>\n",
       "      <th>Close_SPY</th>\n",
       "      <th>Volume_SPY</th>\n",
       "      <th>Adj Close_SPY</th>\n",
       "    </tr>\n",
       "    <tr>\n",
       "      <th>Date</th>\n",
       "      <th></th>\n",
       "      <th></th>\n",
       "      <th></th>\n",
       "      <th></th>\n",
       "      <th></th>\n",
       "      <th></th>\n",
       "      <th></th>\n",
       "      <th></th>\n",
       "      <th></th>\n",
       "      <th></th>\n",
       "      <th></th>\n",
       "      <th></th>\n",
       "    </tr>\n",
       "  </thead>\n",
       "  <tbody>\n",
       "    <tr>\n",
       "      <th>2001-11-26</th>\n",
       "      <td>91.01</td>\n",
       "      <td>91.01</td>\n",
       "      <td>91.01</td>\n",
       "      <td>91.01</td>\n",
       "      <td>0</td>\n",
       "      <td>42.09</td>\n",
       "      <td>115.75</td>\n",
       "      <td>116.34</td>\n",
       "      <td>115.07</td>\n",
       "      <td>115.93</td>\n",
       "      <td>13726000</td>\n",
       "      <td>105.52</td>\n",
       "    </tr>\n",
       "    <tr>\n",
       "      <th>2001-11-27</th>\n",
       "      <td>91.01</td>\n",
       "      <td>91.01</td>\n",
       "      <td>91.01</td>\n",
       "      <td>91.01</td>\n",
       "      <td>0</td>\n",
       "      <td>42.09</td>\n",
       "      <td>115.62</td>\n",
       "      <td>116.90</td>\n",
       "      <td>114.09</td>\n",
       "      <td>115.43</td>\n",
       "      <td>19261400</td>\n",
       "      <td>105.06</td>\n",
       "    </tr>\n",
       "    <tr>\n",
       "      <th>2001-11-28</th>\n",
       "      <td>91.01</td>\n",
       "      <td>91.01</td>\n",
       "      <td>91.01</td>\n",
       "      <td>91.01</td>\n",
       "      <td>0</td>\n",
       "      <td>42.09</td>\n",
       "      <td>114.74</td>\n",
       "      <td>115.17</td>\n",
       "      <td>113.25</td>\n",
       "      <td>113.34</td>\n",
       "      <td>20195500</td>\n",
       "      <td>103.16</td>\n",
       "    </tr>\n",
       "    <tr>\n",
       "      <th>2001-11-29</th>\n",
       "      <td>91.01</td>\n",
       "      <td>91.01</td>\n",
       "      <td>91.01</td>\n",
       "      <td>91.01</td>\n",
       "      <td>0</td>\n",
       "      <td>42.09</td>\n",
       "      <td>113.66</td>\n",
       "      <td>114.92</td>\n",
       "      <td>113.00</td>\n",
       "      <td>114.87</td>\n",
       "      <td>16354700</td>\n",
       "      <td>104.55</td>\n",
       "    </tr>\n",
       "    <tr>\n",
       "      <th>2001-11-30</th>\n",
       "      <td>91.32</td>\n",
       "      <td>91.32</td>\n",
       "      <td>91.32</td>\n",
       "      <td>91.32</td>\n",
       "      <td>200</td>\n",
       "      <td>42.23</td>\n",
       "      <td>114.40</td>\n",
       "      <td>114.91</td>\n",
       "      <td>114.02</td>\n",
       "      <td>114.05</td>\n",
       "      <td>13680300</td>\n",
       "      <td>103.81</td>\n",
       "    </tr>\n",
       "    <tr>\n",
       "      <th>...</th>\n",
       "      <td>...</td>\n",
       "      <td>...</td>\n",
       "      <td>...</td>\n",
       "      <td>...</td>\n",
       "      <td>...</td>\n",
       "      <td>...</td>\n",
       "      <td>...</td>\n",
       "      <td>...</td>\n",
       "      <td>...</td>\n",
       "      <td>...</td>\n",
       "      <td>...</td>\n",
       "      <td>...</td>\n",
       "    </tr>\n",
       "    <tr>\n",
       "      <th>2007-11-08</th>\n",
       "      <td>133.49</td>\n",
       "      <td>135.14</td>\n",
       "      <td>131.00</td>\n",
       "      <td>133.36</td>\n",
       "      <td>105600</td>\n",
       "      <td>133.36</td>\n",
       "      <td>147.99</td>\n",
       "      <td>148.40</td>\n",
       "      <td>145.07</td>\n",
       "      <td>147.16</td>\n",
       "      <td>374275700</td>\n",
       "      <td>147.16</td>\n",
       "    </tr>\n",
       "    <tr>\n",
       "      <th>2007-11-09</th>\n",
       "      <td>133.10</td>\n",
       "      <td>133.10</td>\n",
       "      <td>130.25</td>\n",
       "      <td>131.02</td>\n",
       "      <td>54000</td>\n",
       "      <td>131.02</td>\n",
       "      <td>145.69</td>\n",
       "      <td>147.54</td>\n",
       "      <td>144.89</td>\n",
       "      <td>145.14</td>\n",
       "      <td>277718500</td>\n",
       "      <td>145.14</td>\n",
       "    </tr>\n",
       "    <tr>\n",
       "      <th>2007-11-12</th>\n",
       "      <td>132.02</td>\n",
       "      <td>132.02</td>\n",
       "      <td>124.85</td>\n",
       "      <td>124.88</td>\n",
       "      <td>98600</td>\n",
       "      <td>124.88</td>\n",
       "      <td>145.21</td>\n",
       "      <td>146.61</td>\n",
       "      <td>143.70</td>\n",
       "      <td>143.70</td>\n",
       "      <td>242917600</td>\n",
       "      <td>143.70</td>\n",
       "    </tr>\n",
       "    <tr>\n",
       "      <th>2007-11-13</th>\n",
       "      <td>124.76</td>\n",
       "      <td>127.32</td>\n",
       "      <td>123.88</td>\n",
       "      <td>127.30</td>\n",
       "      <td>73300</td>\n",
       "      <td>127.30</td>\n",
       "      <td>145.37</td>\n",
       "      <td>148.31</td>\n",
       "      <td>145.22</td>\n",
       "      <td>148.08</td>\n",
       "      <td>191022700</td>\n",
       "      <td>148.08</td>\n",
       "    </tr>\n",
       "    <tr>\n",
       "      <th>2007-11-14</th>\n",
       "      <td>129.32</td>\n",
       "      <td>129.58</td>\n",
       "      <td>126.90</td>\n",
       "      <td>127.64</td>\n",
       "      <td>35900</td>\n",
       "      <td>127.64</td>\n",
       "      <td>149.22</td>\n",
       "      <td>149.40</td>\n",
       "      <td>146.78</td>\n",
       "      <td>147.67</td>\n",
       "      <td>229932600</td>\n",
       "      <td>147.67</td>\n",
       "    </tr>\n",
       "  </tbody>\n",
       "</table>\n",
       "<p>1504 rows × 12 columns</p>\n",
       "</div>"
      ],
      "text/plain": [
       "            Open_IGE  High_IGE  Low_IGE  Close_IGE  Volume_IGE  Adj Close_IGE  \\\n",
       "Date                                                                            \n",
       "2001-11-26     91.01     91.01    91.01      91.01           0          42.09   \n",
       "2001-11-27     91.01     91.01    91.01      91.01           0          42.09   \n",
       "2001-11-28     91.01     91.01    91.01      91.01           0          42.09   \n",
       "2001-11-29     91.01     91.01    91.01      91.01           0          42.09   \n",
       "2001-11-30     91.32     91.32    91.32      91.32         200          42.23   \n",
       "...              ...       ...      ...        ...         ...            ...   \n",
       "2007-11-08    133.49    135.14   131.00     133.36      105600         133.36   \n",
       "2007-11-09    133.10    133.10   130.25     131.02       54000         131.02   \n",
       "2007-11-12    132.02    132.02   124.85     124.88       98600         124.88   \n",
       "2007-11-13    124.76    127.32   123.88     127.30       73300         127.30   \n",
       "2007-11-14    129.32    129.58   126.90     127.64       35900         127.64   \n",
       "\n",
       "            Open_SPY  High_SPY  Low_SPY  Close_SPY  Volume_SPY  Adj Close_SPY  \n",
       "Date                                                                           \n",
       "2001-11-26    115.75    116.34   115.07     115.93    13726000         105.52  \n",
       "2001-11-27    115.62    116.90   114.09     115.43    19261400         105.06  \n",
       "2001-11-28    114.74    115.17   113.25     113.34    20195500         103.16  \n",
       "2001-11-29    113.66    114.92   113.00     114.87    16354700         104.55  \n",
       "2001-11-30    114.40    114.91   114.02     114.05    13680300         103.81  \n",
       "...              ...       ...      ...        ...         ...            ...  \n",
       "2007-11-08    147.99    148.40   145.07     147.16   374275700         147.16  \n",
       "2007-11-09    145.69    147.54   144.89     145.14   277718500         145.14  \n",
       "2007-11-12    145.21    146.61   143.70     143.70   242917600         143.70  \n",
       "2007-11-13    145.37    148.31   145.22     148.08   191022700         148.08  \n",
       "2007-11-14    149.22    149.40   146.78     147.67   229932600         147.67  \n",
       "\n",
       "[1504 rows x 12 columns]"
      ]
     },
     "execution_count": 36,
     "metadata": {},
     "output_type": "execute_result"
    }
   ],
   "source": [
    "df"
   ]
  },
  {
   "cell_type": "code",
   "execution_count": 37,
   "metadata": {},
   "outputs": [],
   "source": [
    "dailyret=df[['Adj Close_IGE', 'Adj Close_SPY']].pct_change() # daily returns"
   ]
  },
  {
   "cell_type": "code",
   "execution_count": 38,
   "metadata": {},
   "outputs": [],
   "source": [
    "dailyret.rename(columns={\"Adj Close_IGE\": \"IGE\", \"Adj Close_SPY\": \"SPY\"}, inplace=True)"
   ]
  },
  {
   "cell_type": "code",
   "execution_count": 39,
   "metadata": {},
   "outputs": [
    {
     "data": {
      "text/html": [
       "<div>\n",
       "<style scoped>\n",
       "    .dataframe tbody tr th:only-of-type {\n",
       "        vertical-align: middle;\n",
       "    }\n",
       "\n",
       "    .dataframe tbody tr th {\n",
       "        vertical-align: top;\n",
       "    }\n",
       "\n",
       "    .dataframe thead th {\n",
       "        text-align: right;\n",
       "    }\n",
       "</style>\n",
       "<table border=\"1\" class=\"dataframe\">\n",
       "  <thead>\n",
       "    <tr style=\"text-align: right;\">\n",
       "      <th></th>\n",
       "      <th>IGE</th>\n",
       "      <th>SPY</th>\n",
       "    </tr>\n",
       "    <tr>\n",
       "      <th>Date</th>\n",
       "      <th></th>\n",
       "      <th></th>\n",
       "    </tr>\n",
       "  </thead>\n",
       "  <tbody>\n",
       "    <tr>\n",
       "      <th>2001-11-26</th>\n",
       "      <td>NaN</td>\n",
       "      <td>NaN</td>\n",
       "    </tr>\n",
       "    <tr>\n",
       "      <th>2001-11-27</th>\n",
       "      <td>0.000000</td>\n",
       "      <td>-0.004359</td>\n",
       "    </tr>\n",
       "    <tr>\n",
       "      <th>2001-11-28</th>\n",
       "      <td>0.000000</td>\n",
       "      <td>-0.018085</td>\n",
       "    </tr>\n",
       "    <tr>\n",
       "      <th>2001-11-29</th>\n",
       "      <td>0.000000</td>\n",
       "      <td>0.013474</td>\n",
       "    </tr>\n",
       "    <tr>\n",
       "      <th>2001-11-30</th>\n",
       "      <td>0.003326</td>\n",
       "      <td>-0.007078</td>\n",
       "    </tr>\n",
       "    <tr>\n",
       "      <th>...</th>\n",
       "      <td>...</td>\n",
       "      <td>...</td>\n",
       "    </tr>\n",
       "    <tr>\n",
       "      <th>2007-11-08</th>\n",
       "      <td>0.006491</td>\n",
       "      <td>-0.005071</td>\n",
       "    </tr>\n",
       "    <tr>\n",
       "      <th>2007-11-09</th>\n",
       "      <td>-0.017546</td>\n",
       "      <td>-0.013727</td>\n",
       "    </tr>\n",
       "    <tr>\n",
       "      <th>2007-11-12</th>\n",
       "      <td>-0.046863</td>\n",
       "      <td>-0.009921</td>\n",
       "    </tr>\n",
       "    <tr>\n",
       "      <th>2007-11-13</th>\n",
       "      <td>0.019379</td>\n",
       "      <td>0.030480</td>\n",
       "    </tr>\n",
       "    <tr>\n",
       "      <th>2007-11-14</th>\n",
       "      <td>0.002671</td>\n",
       "      <td>-0.002769</td>\n",
       "    </tr>\n",
       "  </tbody>\n",
       "</table>\n",
       "<p>1504 rows × 2 columns</p>\n",
       "</div>"
      ],
      "text/plain": [
       "                 IGE       SPY\n",
       "Date                          \n",
       "2001-11-26       NaN       NaN\n",
       "2001-11-27  0.000000 -0.004359\n",
       "2001-11-28  0.000000 -0.018085\n",
       "2001-11-29  0.000000  0.013474\n",
       "2001-11-30  0.003326 -0.007078\n",
       "...              ...       ...\n",
       "2007-11-08  0.006491 -0.005071\n",
       "2007-11-09 -0.017546 -0.013727\n",
       "2007-11-12 -0.046863 -0.009921\n",
       "2007-11-13  0.019379  0.030480\n",
       "2007-11-14  0.002671 -0.002769\n",
       "\n",
       "[1504 rows x 2 columns]"
      ]
     },
     "execution_count": 39,
     "metadata": {},
     "output_type": "execute_result"
    }
   ],
   "source": [
    "dailyret"
   ]
  },
  {
   "cell_type": "code",
   "execution_count": 40,
   "metadata": {},
   "outputs": [],
   "source": [
    "netRet=(dailyret['IGE']-dailyret['SPY'])/2"
   ]
  },
  {
   "cell_type": "code",
   "execution_count": 41,
   "metadata": {},
   "outputs": [],
   "source": [
    "sharpeRatio=np.sqrt(252)*np.mean(netRet)/np.std(netRet)"
   ]
  },
  {
   "cell_type": "code",
   "execution_count": 42,
   "metadata": {},
   "outputs": [
    {
     "data": {
      "text/plain": [
       "0.7839419359681374"
      ]
     },
     "execution_count": 42,
     "metadata": {},
     "output_type": "execute_result"
    }
   ],
   "source": [
    "sharpeRatio"
   ]
  },
  {
   "cell_type": "code",
   "execution_count": 43,
   "metadata": {},
   "outputs": [],
   "source": [
    "cumret=np.cumprod(1+netRet)-1"
   ]
  },
  {
   "cell_type": "code",
   "execution_count": 44,
   "metadata": {},
   "outputs": [
    {
     "data": {
      "text/plain": [
       "[<matplotlib.lines.Line2D at 0x7fe8ab1f31f0>]"
      ]
     },
     "execution_count": 44,
     "metadata": {},
     "output_type": "execute_result"
    },
    {
     "data": {
      "image/png": "[encoded data removed]",
      "text/plain": [
       "<Figure size 432x288 with 1 Axes>"
      ]
     },
     "metadata": {
      "needs_background": "light"
     },
     "output_type": "display_data"
    }
   ],
   "source": [
    "plt.plot(cumret)"
   ]
  },
  {
   "cell_type": "code",
   "execution_count": 45,
   "metadata": {},
   "outputs": [],
   "source": [
    "from calculateMaxDD import calculateMaxDD"
   ]
  },
  {
   "cell_type": "code",
   "execution_count": 46,
   "metadata": {},
   "outputs": [],
   "source": [
    "maxDrawdown, maxDrawdownDuration, startDrawdownDay=calculateMaxDD(cumret.values)"
   ]
  },
  {
   "cell_type": "code",
   "execution_count": 47,
   "metadata": {},
   "outputs": [
    {
     "data": {
      "text/plain": [
       "-0.09529268047208683"
      ]
     },
     "execution_count": 47,
     "metadata": {},
     "output_type": "execute_result"
    }
   ],
   "source": [
    "maxDrawdown"
   ]
  },
  {
   "cell_type": "code",
   "execution_count": 48,
   "metadata": {},
   "outputs": [
    {
     "data": {
      "text/plain": [
       "497.0"
      ]
     },
     "execution_count": 48,
     "metadata": {},
     "output_type": "execute_result"
    }
   ],
   "source": [
    "maxDrawdownDuration"
   ]
  },
  {
   "cell_type": "code",
   "execution_count": 49,
   "metadata": {},
   "outputs": [
    {
     "data": {
      "text/plain": [
       "1223"
      ]
     },
     "execution_count": 49,
     "metadata": {},
     "output_type": "execute_result"
    }
   ],
   "source": [
    "startDrawdownDay"
   ]
  }
 ],
 "metadata": {
  "kernelspec": {
   "display_name": "Python 3 (ipykernel)",
   "language": "python",
   "name": "python3"
  },
  "language_info": {
   "codemirror_mode": {
    "name": "ipython",
    "version": 3
   },
   "file_extension": ".py",
   "mimetype": "text/x-python",
   "name": "python",
   "nbconvert_exporter": "python",
   "pygments_lexer": "ipython3",
   "version": "3.10.11"
  }
 },
 "nbformat": 4,
 "nbformat_minor": 2
}
