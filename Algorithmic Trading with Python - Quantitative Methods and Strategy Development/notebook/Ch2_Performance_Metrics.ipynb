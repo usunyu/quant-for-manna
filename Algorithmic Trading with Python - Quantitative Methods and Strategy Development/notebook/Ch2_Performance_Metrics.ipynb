{
 "cells": [
  {
   "cell_type": "markdown",
   "id": "65e56a2f",
   "metadata": {},
   "source": [
    "### 2.1 Return Series Pure Python"
   ]
  },
  {
   "cell_type": "code",
   "execution_count": 1,
   "id": "14b7e208",
   "metadata": {},
   "outputs": [],
   "source": [
    "from typing import List"
   ]
  },
  {
   "cell_type": "code",
   "execution_count": 2,
   "id": "127242e9",
   "metadata": {},
   "outputs": [],
   "source": [
    "def calculate_return_series(prices: List[float]) -> List[float]:\n",
    "    \"\"\"\n",
    "    Calculates return series as a parallel list of returns on prices\n",
    "    \"\"\"\n",
    "    return_series = [None]\n",
    "    for i in range(1, len(prices)):\n",
    "        return_series.append((prices[i] / prices[i-1]) - 1)\n",
    "\n",
    "    return return_series"
   ]
  },
  {
   "cell_type": "markdown",
   "id": "0b9a00b9",
   "metadata": {},
   "source": [
    "### 2.2 Return Series Pandas"
   ]
  },
  {
   "cell_type": "code",
   "execution_count": 3,
   "id": "720d412b",
   "metadata": {},
   "outputs": [],
   "source": [
    "import pandas as pd"
   ]
  },
  {
   "cell_type": "code",
   "execution_count": 4,
   "id": "643f051a",
   "metadata": {},
   "outputs": [],
   "source": [
    "def calculate_return_series(series: pd.Series) -> pd.Series:\n",
    "    \"\"\"\n",
    "    Calculates the return series of a time series.\n",
    "    The first value will always be NaN.\n",
    "    Output series retains the index of the input series.\n",
    "    \"\"\"\n",
    "    shifted_series = series.shift(1, axis=0)\n",
    "    return series / shifted_series - 1"
   ]
  },
  {
   "cell_type": "markdown",
   "id": "e3109d53",
   "metadata": {},
   "source": [
    "### 2.3 Log Return Series"
   ]
  },
  {
   "cell_type": "code",
   "execution_count": 5,
   "id": "471fc764",
   "metadata": {},
   "outputs": [],
   "source": [
    "import numpy as np"
   ]
  },
  {
   "cell_type": "code",
   "execution_count": 6,
   "id": "a30ceea7",
   "metadata": {},
   "outputs": [],
   "source": [
    "def calculate_log_return_series(series: pd.Series) -> pd.Series:\n",
    "    \"\"\"\n",
    "    Same as calculate_return_series but with log returns\n",
    "    \"\"\"\n",
    "    shifted_series = series.shift(1, axis=0)\n",
    "    return pd.Series(np.log(series / shifted_series))"
   ]
  },
  {
   "cell_type": "markdown",
   "id": "a1647ad9",
   "metadata": {},
   "source": [
    "### 2.4 Annualized Volatility\n",
    "\n",
    "$$\n",
    "Annualized\\;Volatility=\\sigma * \\sqrt{Number\\;of\\;Periods}\n",
    "$$"
   ]
  },
  {
   "cell_type": "code",
   "execution_count": 7,
   "id": "cfd04c23",
   "metadata": {},
   "outputs": [],
   "source": [
    "def get_years_past(series: pd.Series) -> float:\n",
    "    \"\"\"\n",
    "    Calculate the years past according to the index of the series for use with\n",
    "    functions that require annualization   \n",
    "    \"\"\"\n",
    "    start_date = series.index[0]\n",
    "    end_date = series.index[-1]\n",
    "    return (end_date - start_date).days / 365.25"
   ]
  },
  {
   "cell_type": "code",
   "execution_count": 8,
   "id": "31f01481",
   "metadata": {},
   "outputs": [],
   "source": [
    "def calculate_annualized_volatility(return_series: pd.Series) -> float:\n",
    "    \"\"\"\n",
    "    Calculates annualized volatility for a date-indexed return series. \n",
    "    Works for any interval of date-indexed prices and returns.\n",
    "    \"\"\"\n",
    "    years_past = get_years_past(return_series)\n",
    "    entries_per_year = return_series.shape[0] / years_past\n",
    "    return return_series.std() * np.sqrt(entries_per_year)"
   ]
  },
  {
   "cell_type": "markdown",
   "id": "a97f5928",
   "metadata": {},
   "source": [
    "### 2.5 Annualized Volatility on AWU"
   ]
  },
  {
   "cell_type": "code",
   "execution_count": 9,
   "id": "149390f7",
   "metadata": {},
   "outputs": [],
   "source": [
    "# load path\n",
    "import sys\n",
    "if \"../src/\" not in sys.path:\n",
    "    sys.path.append(\"../src/\")\n",
    "\n",
    "from pypm import data_io, metrics"
   ]
  },
  {
   "cell_type": "code",
   "execution_count": 10,
   "id": "6f27a73e",
   "metadata": {},
   "outputs": [
    {
     "data": {
      "text/html": [
       "<div>\n",
       "<style scoped>\n",
       "    .dataframe tbody tr th:only-of-type {\n",
       "        vertical-align: middle;\n",
       "    }\n",
       "\n",
       "    .dataframe tbody tr th {\n",
       "        vertical-align: top;\n",
       "    }\n",
       "\n",
       "    .dataframe thead th {\n",
       "        text-align: right;\n",
       "    }\n",
       "</style>\n",
       "<table border=\"1\" class=\"dataframe\">\n",
       "  <thead>\n",
       "    <tr style=\"text-align: right;\">\n",
       "      <th></th>\n",
       "      <th>open</th>\n",
       "      <th>close</th>\n",
       "      <th>low</th>\n",
       "      <th>high</th>\n",
       "      <th>volume</th>\n",
       "    </tr>\n",
       "    <tr>\n",
       "      <th>date</th>\n",
       "      <th></th>\n",
       "      <th></th>\n",
       "      <th></th>\n",
       "      <th></th>\n",
       "      <th></th>\n",
       "    </tr>\n",
       "  </thead>\n",
       "  <tbody>\n",
       "    <tr>\n",
       "      <th>2010-01-04</th>\n",
       "      <td>193.94</td>\n",
       "      <td>191.70</td>\n",
       "      <td>190.63</td>\n",
       "      <td>195.51</td>\n",
       "      <td>968029</td>\n",
       "    </tr>\n",
       "    <tr>\n",
       "      <th>2010-01-05</th>\n",
       "      <td>191.02</td>\n",
       "      <td>188.17</td>\n",
       "      <td>186.99</td>\n",
       "      <td>192.42</td>\n",
       "      <td>1427075</td>\n",
       "    </tr>\n",
       "    <tr>\n",
       "      <th>2010-01-06</th>\n",
       "      <td>187.17</td>\n",
       "      <td>186.50</td>\n",
       "      <td>185.10</td>\n",
       "      <td>190.07</td>\n",
       "      <td>879014</td>\n",
       "    </tr>\n",
       "    <tr>\n",
       "      <th>2010-01-07</th>\n",
       "      <td>185.03</td>\n",
       "      <td>185.19</td>\n",
       "      <td>183.63</td>\n",
       "      <td>186.64</td>\n",
       "      <td>1003719</td>\n",
       "    </tr>\n",
       "    <tr>\n",
       "      <th>2010-01-08</th>\n",
       "      <td>184.67</td>\n",
       "      <td>187.02</td>\n",
       "      <td>182.78</td>\n",
       "      <td>187.27</td>\n",
       "      <td>804716</td>\n",
       "    </tr>\n",
       "    <tr>\n",
       "      <th>...</th>\n",
       "      <td>...</td>\n",
       "      <td>...</td>\n",
       "      <td>...</td>\n",
       "      <td>...</td>\n",
       "      <td>...</td>\n",
       "    </tr>\n",
       "    <tr>\n",
       "      <th>2019-12-24</th>\n",
       "      <td>331.06</td>\n",
       "      <td>330.85</td>\n",
       "      <td>328.43</td>\n",
       "      <td>332.91</td>\n",
       "      <td>98751</td>\n",
       "    </tr>\n",
       "    <tr>\n",
       "      <th>2019-12-26</th>\n",
       "      <td>331.36</td>\n",
       "      <td>329.05</td>\n",
       "      <td>327.47</td>\n",
       "      <td>333.05</td>\n",
       "      <td>209398</td>\n",
       "    </tr>\n",
       "    <tr>\n",
       "      <th>2019-12-27</th>\n",
       "      <td>332.47</td>\n",
       "      <td>325.38</td>\n",
       "      <td>325.16</td>\n",
       "      <td>332.47</td>\n",
       "      <td>225667</td>\n",
       "    </tr>\n",
       "    <tr>\n",
       "      <th>2019-12-30</th>\n",
       "      <td>323.75</td>\n",
       "      <td>324.06</td>\n",
       "      <td>320.95</td>\n",
       "      <td>325.35</td>\n",
       "      <td>289266</td>\n",
       "    </tr>\n",
       "    <tr>\n",
       "      <th>2019-12-31</th>\n",
       "      <td>323.91</td>\n",
       "      <td>328.93</td>\n",
       "      <td>323.70</td>\n",
       "      <td>329.09</td>\n",
       "      <td>306657</td>\n",
       "    </tr>\n",
       "  </tbody>\n",
       "</table>\n",
       "<p>2516 rows × 5 columns</p>\n",
       "</div>"
      ],
      "text/plain": [
       "              open   close     low    high   volume\n",
       "date                                               \n",
       "2010-01-04  193.94  191.70  190.63  195.51   968029\n",
       "2010-01-05  191.02  188.17  186.99  192.42  1427075\n",
       "2010-01-06  187.17  186.50  185.10  190.07   879014\n",
       "2010-01-07  185.03  185.19  183.63  186.64  1003719\n",
       "2010-01-08  184.67  187.02  182.78  187.27   804716\n",
       "...            ...     ...     ...     ...      ...\n",
       "2019-12-24  331.06  330.85  328.43  332.91    98751\n",
       "2019-12-26  331.36  329.05  327.47  333.05   209398\n",
       "2019-12-27  332.47  325.38  325.16  332.47   225667\n",
       "2019-12-30  323.75  324.06  320.95  325.35   289266\n",
       "2019-12-31  323.91  328.93  323.70  329.09   306657\n",
       "\n",
       "[2516 rows x 5 columns]"
      ]
     },
     "execution_count": 10,
     "metadata": {},
     "output_type": "execute_result"
    }
   ],
   "source": [
    "df = data_io.load_eod_data('AWU')\n",
    "df"
   ]
  },
  {
   "cell_type": "code",
   "execution_count": 11,
   "id": "1505aa69",
   "metadata": {},
   "outputs": [
    {
     "data": {
      "text/plain": [
       "<Axes: xlabel='date'>"
      ]
     },
     "execution_count": 11,
     "metadata": {},
     "output_type": "execute_result"
    },
    {
     "data": {
      "image/png": "[encoded data removed]",
      "text/plain": [
       "<Figure size 640x480 with 1 Axes>"
      ]
     },
     "metadata": {},
     "output_type": "display_data"
    }
   ],
   "source": [
    "df['close'].plot()"
   ]
  },
  {
   "cell_type": "code",
   "execution_count": 12,
   "id": "1632fa3f",
   "metadata": {},
   "outputs": [
    {
     "data": {
      "text/plain": [
       "0.3296226627596169"
      ]
     },
     "execution_count": 12,
     "metadata": {},
     "output_type": "execute_result"
    }
   ],
   "source": [
    "return_series = metrics.calculate_log_return_series(df['close'])\n",
    "metrics.calculate_annualized_volatility(return_series)"
   ]
  },
  {
   "cell_type": "markdown",
   "id": "6721a480",
   "metadata": {},
   "source": [
    "### 2.6 Calculating CAGR\n",
    "\n",
    "$$\n",
    "CAGR(\\%) = \\frac{Ending\\;Value}{Beginning\\;Value} ^ \\frac{1}{Number\\;of\\;Periods} – 1\n",
    "$$"
   ]
  },
  {
   "cell_type": "code",
   "execution_count": 13,
   "id": "078c380e",
   "metadata": {},
   "outputs": [],
   "source": [
    "def calculate_cagr(series: pd.Series) -> float:\n",
    "    \"\"\"\n",
    "    Calculate compounded annual growth rate\n",
    "    \"\"\"\n",
    "    value_factor = series.iloc[-1] / series.iloc[0]\n",
    "    year_past = get_years_past(series)\n",
    "    return (value_factor ** (1 / year_past)) - 1"
   ]
  },
  {
   "cell_type": "markdown",
   "id": "414834fd",
   "metadata": {},
   "source": [
    "### 2.7 Calculating CAGR on AWU"
   ]
  },
  {
   "cell_type": "code",
   "execution_count": 14,
   "id": "b5a0eb06",
   "metadata": {
    "scrolled": false
   },
   "outputs": [
    {
     "data": {
      "text/plain": [
       "0.055545750640820346"
      ]
     },
     "execution_count": 14,
     "metadata": {},
     "output_type": "execute_result"
    }
   ],
   "source": [
    "df = data_io.load_eod_data('AWU')\n",
    "metrics.calculate_cagr(df['close'])"
   ]
  },
  {
   "cell_type": "markdown",
   "id": "0cbfc088",
   "metadata": {},
   "source": [
    "### 2.8 Calculating Sharpe Ratio"
   ]
  },
  {
   "cell_type": "code",
   "execution_count": 15,
   "id": "b18d5a65",
   "metadata": {},
   "outputs": [],
   "source": [
    "def calculate_sharpe_ratio(price_series: pd.Series, \n",
    "    benchmark_rate: float=0) -> float:\n",
    "    \"\"\"\n",
    "    Calculates the sharpe ratio given a price series. Defaults to benchmark_rate\n",
    "    of zero.\n",
    "    \"\"\"\n",
    "    cagr = calculate_cagr(price_series)\n",
    "    return_series = calculate_return_series(price_series)\n",
    "    volatility = calculate_annualized_volatility(return_series)\n",
    "    return (cagr - benchmark_rate) / volatility"
   ]
  },
  {
   "cell_type": "markdown",
   "id": "0f7d6632",
   "metadata": {},
   "source": [
    "### 2.9 Calculating Downside Volatility"
   ]
  },
  {
   "cell_type": "code",
   "execution_count": 16,
   "id": "c494dfd9",
   "metadata": {},
   "outputs": [],
   "source": [
    "def calculate_annualized_downside_deviation(return_series: pd.Series, \n",
    "    benchmark_rate: float=0) -> float:\n",
    "    \"\"\"\n",
    "    Calculates the downside deviation for use in the sortino ratio.\n",
    "\n",
    "    Benchmark rate is assumed to be annualized. It will be adjusted according \n",
    "    to the number of periods per year seen in the data.\n",
    "    \"\"\"\n",
    "\n",
    "    # For both de-annualizing the benchmark rate and annualizing result\n",
    "    years_past = get_years_past(return_series)\n",
    "    entries_per_year = return_series.shape[0] / years_past\n",
    "\n",
    "    adjusted_benchmark_rate = ((1+benchmark_rate) ** (1/entries_per_year)) - 1\n",
    "\n",
    "    downside_series = adjusted_benchmark_rate - return_series\n",
    "    downside_sum_of_squares = (downside_series[downside_series > 0] ** 2).sum()\n",
    "    denominator = return_series.shape[0] - 1\n",
    "    downside_deviation = np.sqrt(downside_sum_of_squares / denominator)\n",
    "\n",
    "    return downside_deviation * np.sqrt(entries_per_year)"
   ]
  },
  {
   "cell_type": "code",
   "execution_count": 17,
   "id": "d346413c",
   "metadata": {},
   "outputs": [],
   "source": [
    "def calculate_sortino_ratio(price_series: pd.Series, \n",
    "    benchmark_rate: float=0) -> float:\n",
    "    \"\"\"\n",
    "    Calculates the sortino ratio.\n",
    "    \"\"\"\n",
    "    cagr = calculate_cagr(price_series)\n",
    "    return_series = calculate_return_series(price_series)\n",
    "    downside_deviation = calculate_annualized_downside_deviation(return_series)\n",
    "    return (cagr - benchmark_rate) / downside_deviation"
   ]
  },
  {
   "cell_type": "markdown",
   "id": "d61e2db8",
   "metadata": {},
   "source": [
    "### 2.10 Maximum Drawdown"
   ]
  },
  {
   "cell_type": "code",
   "execution_count": 18,
   "id": "6a95bb24",
   "metadata": {},
   "outputs": [],
   "source": [
    "from typing import Dict, Any, Callable"
   ]
  },
  {
   "cell_type": "code",
   "execution_count": 19,
   "id": "e5bbeb44",
   "metadata": {},
   "outputs": [],
   "source": [
    "DRAWDOWN_EVALUATORS: Dict[str, Callable] = {\n",
    "    'dollar': lambda price, peak: peak - price,\n",
    "    'percent': lambda price, peak: -((price / peak) - 1),\n",
    "    'log': lambda price, peak: np.log(peak) - np.log(price),\n",
    "}"
   ]
  },
  {
   "cell_type": "code",
   "execution_count": 20,
   "id": "6c6cf514",
   "metadata": {},
   "outputs": [],
   "source": [
    "def calculate_drawdown_series(series: pd.Series, method: str='log') -> pd.Series:\n",
    "    \"\"\"\n",
    "    Returns the drawdown series\n",
    "    \"\"\"\n",
    "    assert method in DRAWDOWN_EVALUATORS, \\\n",
    "        f'Method \"{method}\" must by one of {list(DRAWDOWN_EVALUATORS.keys())}'\n",
    "\n",
    "    evaluator = DRAWDOWN_EVALUATORS[method]\n",
    "    return evaluator(series, series.cummax())"
   ]
  },
  {
   "cell_type": "code",
   "execution_count": 21,
   "id": "74a40d08",
   "metadata": {},
   "outputs": [],
   "source": [
    "def calculate_max_drawdown(series: pd.Series, method: str='log') -> float:\n",
    "    \"\"\"\n",
    "    Simply returns the max drawdown as a float\n",
    "    \"\"\"\n",
    "    return calculate_drawdown_series(series, method).max()"
   ]
  },
  {
   "cell_type": "markdown",
   "id": "2b0a66dc",
   "metadata": {},
   "source": [
    "### 2.11 Maximum Drawdown with Metadata"
   ]
  },
  {
   "cell_type": "code",
   "execution_count": 22,
   "id": "754f7b00",
   "metadata": {},
   "outputs": [],
   "source": [
    "def calculate_max_drawdown_with_metadata(series: pd.Series, \n",
    "    method: str='log') -> Dict[str, Any]:\n",
    "    \"\"\"\n",
    "    Calculates max_drawdown and stores metadata about when and where. Returns \n",
    "    a dictionary of the form \n",
    "        {\n",
    "            'max_drawdown': float,\n",
    "            'peak_date': pd.Timestamp,\n",
    "            'peak_price': float,\n",
    "            'trough_date': pd.Timestamp,\n",
    "            'trough_price': float,\n",
    "        }\n",
    "    \"\"\"\n",
    "\n",
    "    assert method in DRAWDOWN_EVALUATORS, \\\n",
    "        f'Method \"{method}\" must by one of {list(DRAWDOWN_EVALUATORS.keys())}'\n",
    "\n",
    "    evaluator = DRAWDOWN_EVALUATORS[method]\n",
    "\n",
    "    max_drawdown = 0\n",
    "    local_peak_date = peak_date = trough_date = series.index[0]\n",
    "    local_peak_price = peak_price = trough_price = series.iloc[0]\n",
    "\n",
    "    for date, price in series.iteritems():\n",
    "\n",
    "        # Keep track of the rolling max\n",
    "        if price > local_peak_price:\n",
    "            local_peak_date = date\n",
    "            local_peak_price = price\n",
    "\n",
    "        # Compute the drawdown\n",
    "        drawdown = evaluator(price, local_peak_price)\n",
    "\n",
    "        # Store new max drawdown values\n",
    "        if drawdown > max_drawdown:\n",
    "            max_drawdown = drawdown\n",
    "\n",
    "            peak_date = local_peak_date\n",
    "            peak_price = local_peak_price\n",
    "\n",
    "            trough_date = date\n",
    "            trough_price = price\n",
    "\n",
    "    return {\n",
    "        'max_drawdown': max_drawdown,\n",
    "        'peak_date': peak_date,\n",
    "        'peak_price': peak_price,\n",
    "        'trough_date': trough_date,\n",
    "        'trough_price': trough_price\n",
    "    }"
   ]
  },
  {
   "cell_type": "markdown",
   "id": "83ef18a5",
   "metadata": {},
   "source": [
    "### 2.12 Log Max Drawdown Ratio"
   ]
  },
  {
   "cell_type": "code",
   "execution_count": 23,
   "id": "76e0d331",
   "metadata": {},
   "outputs": [],
   "source": [
    "def calculate_log_max_drawdown_ratio(series: pd.Series) -> float:\n",
    "    log_drawdown = calculate_max_drawdown(series, method='log')\n",
    "    log_return = np.log(series.iloc[-1]) - np.log(series.iloc[0])\n",
    "    return log_return - log_drawdown"
   ]
  },
  {
   "cell_type": "markdown",
   "id": "7329ebe1",
   "metadata": {},
   "source": [
    "### 2.13 Calmar Ratio\n",
    "\n",
    "$$\n",
    "Calmar\\;Ratio = \\frac{Average\\;Annual\\;Rate\\;of\\;Return}{Maximum\\;Drawdown}\n",
    "$$"
   ]
  },
  {
   "cell_type": "code",
   "execution_count": 24,
   "id": "1026236a",
   "metadata": {},
   "outputs": [],
   "source": [
    "def calculate_calmar_ratio(series: pd.Series, years_past: int=3) -> float:\n",
    "    \"\"\"\n",
    "    Return the percent max drawdown ratio over the past three years using\n",
    "    CAGR as the numerator, otherwise known as the Calmar Ratio\n",
    "    \"\"\"\n",
    "\n",
    "    # Filter series on past three years\n",
    "    last_date = series.index[-1]\n",
    "    three_years_ago = last_date - pd.Timedelta(days=years_past*365.25)\n",
    "    series = series[series.index > three_years_ago]\n",
    "\n",
    "    # Compute annualized percent max drawdown ratio\n",
    "    percent_drawdown = calculate_max_drawdown(series, method='percent')\n",
    "    cagr = calculate_cagr(series)\n",
    "    return cagr / percent_drawdown"
   ]
  },
  {
   "cell_type": "markdown",
   "id": "c3d012c7",
   "metadata": {},
   "source": [
    "### 2.14 Pure Profit Score"
   ]
  },
  {
   "cell_type": "code",
   "execution_count": 25,
   "id": "9bb9421a",
   "metadata": {},
   "outputs": [],
   "source": [
    "from sklearn.linear_model import LinearRegression"
   ]
  },
  {
   "cell_type": "code",
   "execution_count": 26,
   "id": "baecfdf7",
   "metadata": {},
   "outputs": [],
   "source": [
    "def calculate_pure_profit_score(price_series: pd.Series) -> float:\n",
    "    \"\"\"\n",
    "    Calculates the pure profit score\n",
    "    \"\"\"\n",
    "    cagr = calculate_cagr(price_series)\n",
    "\n",
    "    # Build a single column for a predictor, t\n",
    "    t: np.ndarray = np.arange(0, price_series.shape[0]).reshape(-1, 1)\n",
    "\n",
    "    # Fit the regression\n",
    "    regression = LinearRegression().fit(t, price_series)\n",
    "\n",
    "    # Get the r-squared value\n",
    "    r_squared = regression.score(t, price_series)\n",
    "\n",
    "    return cagr * r_squared"
   ]
  },
  {
   "cell_type": "markdown",
   "id": "b0eb2797",
   "metadata": {},
   "source": [
    "### 2.15 Jensens Alpha"
   ]
  },
  {
   "cell_type": "code",
   "execution_count": 27,
   "id": "72ac238f",
   "metadata": {},
   "outputs": [],
   "source": [
    "def calculate_jensens_alpha(return_series: pd.Series, \n",
    "    benchmark_return_series: pd.Series) -> float: \n",
    "    \"\"\"\n",
    "    Calculates jensens alpha. Prefers input series have the same index. Handles\n",
    "    NAs.\n",
    "    \"\"\"\n",
    "\n",
    "    # Join series along date index and purge NAs\n",
    "    df = pd.concat([return_series, benchmark_return_series], sort=True, axis=1)\n",
    "    df = df.dropna()\n",
    "\n",
    "    # Get the appropriate data structure for scikit learn\n",
    "    clean_returns: pd.Series = df[return_series.name]\n",
    "    clean_benchmarks = pd.DataFrame(df[benchmark_return_series.name])\n",
    "\n",
    "    # Fit a linear regression and return the alpha\n",
    "    regression = LinearRegression().fit(clean_benchmarks, y=clean_returns)\n",
    "    return regression.intercept_"
   ]
  }
 ],
 "metadata": {
  "kernelspec": {
   "display_name": "Python 3 (ipykernel)",
   "language": "python",
   "name": "python3"
  },
  "language_info": {
   "codemirror_mode": {
    "name": "ipython",
    "version": 3
   },
   "file_extension": ".py",
   "mimetype": "text/x-python",
   "name": "python",
   "nbconvert_exporter": "python",
   "pygments_lexer": "ipython3",
   "version": "3.11.4"
  }
 },
 "nbformat": 4,
 "nbformat_minor": 5
}
