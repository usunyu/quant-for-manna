{
 "cells": [
  {
   "cell_type": "markdown",
   "id": "0ae60cce",
   "metadata": {},
   "source": [
    "### 3.1 Calculate Simple Moving Average"
   ]
  },
  {
   "cell_type": "code",
   "execution_count": 1,
   "id": "5d781101",
   "metadata": {},
   "outputs": [],
   "source": [
    "import pandas as pd"
   ]
  },
  {
   "cell_type": "code",
   "execution_count": 2,
   "id": "626f3b98",
   "metadata": {},
   "outputs": [],
   "source": [
    "def calculate_simple_moving_average(series: pd.Series, n: int=20) -> pd.Series:\n",
    "    \"\"\"Calculates the simple moving average\"\"\"\n",
    "    return series.rolling(n).mean()"
   ]
  },
  {
   "cell_type": "code",
   "execution_count": 3,
   "id": "5edf4e0f",
   "metadata": {},
   "outputs": [],
   "source": [
    "def calculate_simple_moving_sample_stdev(series: pd.Series, n: int=20) -> pd.Series:\n",
    "    \"\"\"Calculates the simple moving average standard deviation\"\"\"\n",
    "    return series.rolling(n).std()"
   ]
  },
  {
   "cell_type": "markdown",
   "id": "6869cdb8",
   "metadata": {},
   "source": [
    "### 3.2 Slow Simple Moving Average"
   ]
  },
  {
   "cell_type": "code",
   "execution_count": 4,
   "id": "09fe86fd",
   "metadata": {},
   "outputs": [],
   "source": [
    "import numpy as np\n",
    "from typing import List"
   ]
  },
  {
   "cell_type": "code",
   "execution_count": 5,
   "id": "4f3c202f",
   "metadata": {},
   "outputs": [],
   "source": [
    "def slow_moving_average(values: List[float], m: int=20):\n",
    "    \"\"\"\n",
    "    This is O(nm) time, because it re-computes the sum at every step\n",
    "    1 + 2 + 3 + 4 + ... / m\n",
    "    2 + 3 + 4 + 5 + ... / m\n",
    "    3 + 4 + 5 + 6 + ... / m\n",
    "    4 + 5 + 6 + 7 + ... / m\n",
    "    and so on ...\n",
    "    Leading to approx (m-1) * n individual additions.\n",
    "    \"\"\"\n",
    "\n",
    "    # Initial values\n",
    "    moving_average = [None] * (m-1)\n",
    "\n",
    "    for i in range(m-1, len(values)):\n",
    "        the_average = np.mean(values[(i-m+1):i+1])\n",
    "        moving_average.append(the_average)\n",
    "\n",
    "    return moving_average"
   ]
  },
  {
   "cell_type": "markdown",
   "id": "7dda0654",
   "metadata": {},
   "source": [
    "### 3.3 Fast Simple Moving Average"
   ]
  },
  {
   "cell_type": "code",
   "execution_count": 6,
   "id": "4059f4da",
   "metadata": {},
   "outputs": [],
   "source": [
    "def fast_moving_average(values: List[float], m: int=20):\n",
    "    \"\"\"\n",
    "    This is O(n) time, because it keeps track of the intermediate sum.\n",
    "    Leading to approx 2n individual additions.\n",
    "    \"\"\"\n",
    "\n",
    "    # Initial values\n",
    "    moving_average = [None] * (m-1)\n",
    "    accumulator = sum(values[:m])\n",
    "    moving_average.append(accumulator / m)\n",
    "\n",
    "    for i in range(m, len(values)):\n",
    "        accumulator -= values[i-m]\n",
    "        accumulator += values[i]\n",
    "        moving_average.append(accumulator / m)\n",
    "\n",
    "    return moving_average"
   ]
  },
  {
   "cell_type": "markdown",
   "id": "79c608f9",
   "metadata": {},
   "source": [
    "### 3.4 Calculating MACD"
   ]
  },
  {
   "cell_type": "code",
   "execution_count": 7,
   "id": "7b20d75e",
   "metadata": {},
   "outputs": [],
   "source": [
    "def calculate_macd_oscillator(series: pd.Series,\n",
    "    n1: int=5, n2: int=34) -> pd.Series:\n",
    "    \"\"\"\n",
    "    Calculate the moving average convergence divergence oscillator, given a \n",
    "    short moving average of length n1 and a long moving average of length n2\n",
    "    \"\"\"\n",
    "    assert n1 < n2, f'n1 must be less than n2'\n",
    "    return calculate_simple_moving_average(series, n1) - \\\n",
    "        calculate_simple_moving_average(series, n2)"
   ]
  },
  {
   "cell_type": "markdown",
   "id": "2ec3e58b",
   "metadata": {},
   "source": [
    "### 3.5 Calculate Bollinger Bands"
   ]
  },
  {
   "cell_type": "code",
   "execution_count": 8,
   "id": "819ffb0f",
   "metadata": {},
   "outputs": [],
   "source": [
    "def calculate_bollinger_bands(series: pd.Series, n: int=20) -> pd.DataFrame:\n",
    "    \"\"\"\n",
    "    Calculates the bollinger bands and returns them as a dataframe\n",
    "    \"\"\"\n",
    "\n",
    "    sma = calculate_simple_moving_average(series, n)\n",
    "    stdev = calculate_simple_moving_sample_stdev(series, n)\n",
    "\n",
    "    return pd.DataFrame({\n",
    "        'middle': sma,\n",
    "        'upper': sma + 2 * stdev,\n",
    "        'lower': sma - 2 * stdev\n",
    "    })"
   ]
  },
  {
   "cell_type": "markdown",
   "id": "c7de40aa",
   "metadata": {},
   "source": [
    "### 3.6 Calculate Chaikin Money Flow\n",
    "\n",
    "$$\n",
    "Chaikin\\;Money\\;Flow = \\frac{(Close  -  Low) - (High - Close)}{High - Low} × Volume\\;for\\;the\\;Period\n",
    "$$"
   ]
  },
  {
   "cell_type": "code",
   "execution_count": 9,
   "id": "e0927193",
   "metadata": {},
   "outputs": [],
   "source": [
    "def calculate_money_flow_volume_series(df: pd.DataFrame) -> pd.Series:\n",
    "    \"\"\"\n",
    "    Calculates money flow series\n",
    "    \"\"\"\n",
    "    mfv = df['volume'] * (2*df['close'] - df['high'] - df['low']) / \\\n",
    "                                    (df['high'] - df['low'])\n",
    "    return mfv"
   ]
  },
  {
   "cell_type": "code",
   "execution_count": 10,
   "id": "a11c92d3",
   "metadata": {},
   "outputs": [],
   "source": [
    "def calculate_money_flow_volume(df: pd.DataFrame, n: int=20) -> pd.Series:\n",
    "    \"\"\"\n",
    "    Calculates money flow volume, or q_t in our formula\n",
    "    \"\"\"\n",
    "    return calculate_money_flow_volume_series(df).rolling(n).sum()"
   ]
  },
  {
   "cell_type": "code",
   "execution_count": 11,
   "id": "366d7fc8",
   "metadata": {},
   "outputs": [],
   "source": [
    "def calculate_chaikin_money_flow(df: pd.DataFrame, n: int=20) -> pd.Series:\n",
    "    \"\"\"\n",
    "    Calculates the Chaikin money flow\n",
    "    \"\"\"\n",
    "    return calculate_money_flow_volume(df, n) / df['volume'].rolling(n).sum()"
   ]
  },
  {
   "cell_type": "markdown",
   "id": "f5e07910",
   "metadata": {},
   "source": [
    "### 3.7 Example Signals"
   ]
  },
  {
   "cell_type": "code",
   "execution_count": 12,
   "id": "85fa2a20",
   "metadata": {},
   "outputs": [],
   "source": [
    "def create_macd_signal(series: pd.Series, n1: int=5, n2: int=34) -> pd.Series:\n",
    "    \"\"\"\n",
    "    Create a momentum-based signal based on the MACD crossover principle. \n",
    "    Generate a buy signal when the MACD cross above zero, and a sell signal when\n",
    "    it crosses below zero.\n",
    "    \"\"\"\n",
    "\n",
    "    # Calculate the macd and get the signs of the values.\n",
    "    macd = calculate_macd_oscillator(series, n1, n2)\n",
    "    macd_sign = np.sign(macd)\n",
    "\n",
    "    # Create a copy shifted by some amount.\n",
    "    macd_shifted_sign = macd_sign.shift(1, axis=0)\n",
    "\n",
    "    # Multiply by the sign by the boolean. This will have the effect of casting\n",
    "    # the boolean to an integer (either 0 or 1) and then multiply by the sign\n",
    "    # (either -1, 0 or 1).\n",
    "    return macd_sign * (macd_sign != macd_shifted_sign)"
   ]
  },
  {
   "cell_type": "code",
   "execution_count": 13,
   "id": "cf151c2f",
   "metadata": {},
   "outputs": [],
   "source": [
    "def create_bollinger_band_signal(series: pd.Series, n: int=20) -> pd.Series:\n",
    "    \"\"\"\n",
    "    Create a reversal-based signal based on the upper and lower bands of the \n",
    "    Bollinger bands. Generate a buy signal when the price is below the lower \n",
    "    band, and a sell signal when the price is above the upper band.\n",
    "    \"\"\"\n",
    "    bollinger_bands = calculate_bollinger_bands(series, n)\n",
    "    sell = series > bollinger_bands['upper']\n",
    "    buy = series < bollinger_bands['lower']\n",
    "    return (1*buy - 1*sell)"
   ]
  }
 ],
 "metadata": {
  "kernelspec": {
   "display_name": "Python 3 (ipykernel)",
   "language": "python",
   "name": "python3"
  },
  "language_info": {
   "codemirror_mode": {
    "name": "ipython",
    "version": 3
   },
   "file_extension": ".py",
   "mimetype": "text/x-python",
   "name": "python",
   "nbconvert_exporter": "python",
   "pygments_lexer": "ipython3",
   "version": "3.11.4"
  }
 },
 "nbformat": 4,
 "nbformat_minor": 5
}
